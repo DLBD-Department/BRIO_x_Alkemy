{
 "cells": [
  {
   "cell_type": "code",
   "execution_count": 1,
   "id": "0b134d6e",
   "metadata": {},
   "outputs": [],
   "source": [
    "import os, sys\n",
    "dir2 = os.path.abspath('')\n",
    "dir1 = os.path.dirname(dir2)\n",
    "if not dir1 in sys.path: sys.path.append(dir1)"
   ]
  },
  {
   "cell_type": "code",
   "execution_count": 2,
   "id": "77c1e269",
   "metadata": {},
   "outputs": [],
   "source": [
    "from brio.utils.Preprocessing import Preprocessing\n",
    "from sklearn.model_selection import train_test_split\n",
    "from pickle import dump, load\n",
    "import pandas as pd\n",
    "import numpy as np\n",
    "\n",
    "from brio.bias.FreqVsFreqBiasDetector import FreqVsFreqBiasDetector"
   ]
  },
  {
   "cell_type": "markdown",
   "id": "68af6499",
   "metadata": {},
   "source": [
    "## Importing Data and Trained Classifier"
   ]
  },
  {
   "cell_type": "code",
   "execution_count": 3,
   "id": "66127e6c",
   "metadata": {},
   "outputs": [],
   "source": [
    "input_data_path = \"./data/raw_data/uci-default-of-credit-card/data/data.csv\"\n",
    "local_path_save = './data/mlflow_artifacts/'"
   ]
  },
  {
   "cell_type": "code",
   "execution_count": 4,
   "id": "bf0e3b01",
   "metadata": {},
   "outputs": [
    {
     "name": "stderr",
     "output_type": "stream",
     "text": [
      "/Users/davideposillipo/.pyenv/versions/3.10.9/envs/prova/lib/python3.10/site-packages/sklearn/base.py:329: UserWarning: Trying to unpickle estimator OneHotEncoder from version 1.2.1 when using version 1.0.2. This might lead to breaking code or invalid results. Use at your own risk. For more info please refer to:\n",
      "https://scikit-learn.org/stable/modules/model_persistence.html#security-maintainability-limitations\n",
      "  warnings.warn(\n",
      "/Users/davideposillipo/.pyenv/versions/3.10.9/envs/prova/lib/python3.10/site-packages/sklearn/base.py:329: UserWarning: Trying to unpickle estimator StandardScaler from version 1.2.1 when using version 1.0.2. This might lead to breaking code or invalid results. Use at your own risk. For more info please refer to:\n",
      "https://scikit-learn.org/stable/modules/model_persistence.html#security-maintainability-limitations\n",
      "  warnings.warn(\n"
     ]
    }
   ],
   "source": [
    "fitted_ohe = load(open(local_path_save + '_ohe.pkl', 'rb')) \n",
    "fitted_scaler = load(open(local_path_save + '_scaler.pkl', 'rb'))"
   ]
  },
  {
   "cell_type": "code",
   "execution_count": 5,
   "id": "6646c312",
   "metadata": {},
   "outputs": [],
   "source": [
    "pp = Preprocessing(input_data_path, \"default\")\n",
    "X, Y = pp.read_dataframe()\n",
    "\n",
    "X_train, X_test, Y_train, Y_test = train_test_split(X,Y, test_size=0.3, random_state=420)\n",
    "\n",
    "X_test_ohe, _, _ = pp.preprocess_for_classification(df=X_test, \n",
    "                                                fit_ohe=True, \n",
    "                                                fitted_ohe=fitted_ohe,\n",
    "                                                perform_scaling=True,\n",
    "                                                fitted_scaler=fitted_scaler)"
   ]
  },
  {
   "cell_type": "code",
   "execution_count": 6,
   "id": "ba010d39",
   "metadata": {},
   "outputs": [],
   "source": [
    "with open(\"notebooks/mlruns/1/1e4a0667c7a64cbe8c7b023410e5781c/artifacts/model/model.pkl\", \"rb\") as file:\n",
    "    classifier = load(file)"
   ]
  },
  {
   "cell_type": "code",
   "execution_count": 7,
   "id": "04cacf92",
   "metadata": {},
   "outputs": [],
   "source": [
    "predicted_prob = classifier.predict_proba(X_test_ohe)\n",
    "predicted_values = classifier.predict(X_test_ohe)"
   ]
  },
  {
   "cell_type": "markdown",
   "id": "01057c6d",
   "metadata": {},
   "source": [
    "#### Definition of conditioning variables"
   ]
  },
  {
   "cell_type": "code",
   "execution_count": 8,
   "id": "d7e96a84",
   "metadata": {},
   "outputs": [],
   "source": [
    "def age_buckets(x):\n",
    "    if x < 30:\n",
    "        return 1\n",
    "    elif x < 40:\n",
    "        return 2\n",
    "    else:\n",
    "        return 3\n",
    "\n",
    "X_test['age_buckets'] = X.x5_age.apply(age_buckets)"
   ]
  },
  {
   "cell_type": "code",
   "execution_count": 9,
   "id": "c24a0c9c",
   "metadata": {},
   "outputs": [],
   "source": [
    "conditioning_variables = ['x3_education', 'x4_marriage', 'age_buckets']"
   ]
  },
  {
   "cell_type": "code",
   "execution_count": 10,
   "id": "7950602d",
   "metadata": {},
   "outputs": [],
   "source": [
    "df_with_predictions = pd.concat(\n",
    "    [X_test.reset_index(drop=True), pd.Series(predicted_values)], axis=1).rename(columns={0:\"predictions\"})"
   ]
  },
  {
   "cell_type": "markdown",
   "id": "d6f80bfb",
   "metadata": {},
   "source": [
    "## Hazard and risk functions"
   ]
  },
  {
   "cell_type": "code",
   "execution_count": 11,
   "id": "7e6183a2",
   "metadata": {},
   "outputs": [],
   "source": [
    "def hazard_function(overall_result, conditioned_results, tot_observations):\n",
    "    \n",
    "    # test result, threshold, num_samples, boolean\n",
    "    test_results = []\n",
    "    test_results.append((overall_result[0], \n",
    "                    overall_result[2], \n",
    "                    tot_observations, \n",
    "                    overall_result[1]))\n",
    "    \n",
    "    for group in conditioned_results.values():\n",
    "        if (group[1] is not None):\n",
    "            test_results.append((group[1], group[3], group[0], group[2]))\n",
    "    \n",
    "    hazard = 0\n",
    "    for line in test_results:\n",
    "        weight = 1 #to be implemented\n",
    "        delta = 1 if line[3]==False else 0\n",
    "        q = line[2]/tot_observations\n",
    "        e = line[0] - line[1]\n",
    "        hazard += delta * weight * q * e\n",
    "        \n",
    "    average_threshold = np.mean([x[1] for x in test_results])\n",
    "        \n",
    "    return hazard, average_threshold"
   ]
  },
  {
   "cell_type": "code",
   "execution_count": 12,
   "id": "9dec052f",
   "metadata": {},
   "outputs": [],
   "source": [
    "def risk_function(test_hazards, average_thresholds):\n",
    "    # test_hazards = [list_of_hazards]\n",
    "    # average_thresholds = [mean(thresholds_of_test1), mean(thresholds_of_a_test2), ...], \n",
    "    #    needed if automatic threshold is used\n",
    "    risk = 0\n",
    "    for hazard, threshold in zip(test_hazards, average_thresholds):\n",
    "        risk += hazard * threshold\n",
    "        \n",
    "    risk = risk/len(test_hazards)**2\n",
    "    \n",
    "    return risk"
   ]
  },
  {
   "cell_type": "markdown",
   "id": "0e6e5723",
   "metadata": {},
   "source": [
    "### Test 1: TVD, A1=high"
   ]
  },
  {
   "cell_type": "code",
   "execution_count": 13,
   "id": "38346302",
   "metadata": {},
   "outputs": [],
   "source": [
    "bd_1 = FreqVsFreqBiasDetector(distance=\"TVD\", A1=\"high\")"
   ]
  },
  {
   "cell_type": "code",
   "execution_count": 14,
   "id": "ebde5b3d",
   "metadata": {},
   "outputs": [],
   "source": [
    "overall_1 = bd_1.compare_root_variable_groups(\n",
    "    dataframe=df_with_predictions,\n",
    "    target_variable='predictions',\n",
    "    root_variable='x2_sex')"
   ]
  },
  {
   "cell_type": "code",
   "execution_count": 15,
   "id": "9dc1af6e",
   "metadata": {},
   "outputs": [],
   "source": [
    "conditioned_1 = bd_1.compare_root_variable_conditioned_groups(\n",
    "    dataframe=df_with_predictions,\n",
    "    target_variable='predictions',\n",
    "    root_variable='x2_sex',\n",
    "    conditioning_variables=conditioning_variables)"
   ]
  },
  {
   "cell_type": "code",
   "execution_count": 16,
   "id": "e4ad51ba",
   "metadata": {},
   "outputs": [],
   "source": [
    "hazard_test_1, average_threshold_1 = hazard_function(\n",
    "    overall_1, \n",
    "    conditioned_1, \n",
    "    df_with_predictions.shape[0])"
   ]
  },
  {
   "cell_type": "markdown",
   "id": "e7914be4",
   "metadata": {},
   "source": [
    "### Test 2 (TVD, low)"
   ]
  },
  {
   "cell_type": "code",
   "execution_count": 17,
   "id": "e8377772",
   "metadata": {},
   "outputs": [],
   "source": [
    "bd_2 = FreqVsFreqBiasDetector(distance=\"TVD\", A1=\"low\")"
   ]
  },
  {
   "cell_type": "code",
   "execution_count": 18,
   "id": "14e80b7e",
   "metadata": {},
   "outputs": [],
   "source": [
    "overall_2 = bd_2.compare_root_variable_groups(\n",
    "    dataframe=df_with_predictions,\n",
    "    target_variable='predictions',\n",
    "    root_variable='x2_sex')"
   ]
  },
  {
   "cell_type": "code",
   "execution_count": 19,
   "id": "468b603a",
   "metadata": {},
   "outputs": [],
   "source": [
    "conditioned_2 = bd_2.compare_root_variable_conditioned_groups(\n",
    "    dataframe=df_with_predictions,\n",
    "    target_variable='predictions',\n",
    "    root_variable='x2_sex',\n",
    "    conditioning_variables=conditioning_variables)"
   ]
  },
  {
   "cell_type": "code",
   "execution_count": 20,
   "id": "4016a74d",
   "metadata": {},
   "outputs": [],
   "source": [
    "hazard_test_2, average_threshold_2 = hazard_function(\n",
    "    overall_2, \n",
    "    conditioned_2, \n",
    "    df_with_predictions.shape[0])"
   ]
  },
  {
   "cell_type": "markdown",
   "id": "847b9871",
   "metadata": {},
   "source": [
    "### Test 3 (JS, high)"
   ]
  },
  {
   "cell_type": "code",
   "execution_count": 21,
   "id": "e8ce1a46",
   "metadata": {},
   "outputs": [],
   "source": [
    "bd_3 = FreqVsFreqBiasDetector(distance=\"JS\", A1=\"high\")"
   ]
  },
  {
   "cell_type": "code",
   "execution_count": 22,
   "id": "5817e2d8",
   "metadata": {},
   "outputs": [],
   "source": [
    "overall_3 = bd_3.compare_root_variable_groups(\n",
    "    dataframe=df_with_predictions,\n",
    "    target_variable='predictions',\n",
    "    root_variable='x2_sex')"
   ]
  },
  {
   "cell_type": "code",
   "execution_count": 23,
   "id": "ff84ad8a",
   "metadata": {},
   "outputs": [],
   "source": [
    "conditioned_3 = bd_3.compare_root_variable_conditioned_groups(\n",
    "    dataframe=df_with_predictions,\n",
    "    target_variable='predictions',\n",
    "    root_variable='x2_sex',\n",
    "    conditioning_variables=conditioning_variables)"
   ]
  },
  {
   "cell_type": "code",
   "execution_count": 24,
   "id": "1043e2b1",
   "metadata": {},
   "outputs": [],
   "source": [
    "hazard_test_3, average_threshold_3 = hazard_function(\n",
    "    overall_3, \n",
    "    conditioned_3, \n",
    "    df_with_predictions.shape[0])"
   ]
  },
  {
   "cell_type": "markdown",
   "id": "e65d63c0",
   "metadata": {},
   "source": [
    "### Test 4 (JS, low)"
   ]
  },
  {
   "cell_type": "code",
   "execution_count": 25,
   "id": "8bd6ad0f",
   "metadata": {},
   "outputs": [],
   "source": [
    "bd_4 = FreqVsFreqBiasDetector(distance=\"JS\", A1=\"low\")"
   ]
  },
  {
   "cell_type": "code",
   "execution_count": 26,
   "id": "f35b30be",
   "metadata": {},
   "outputs": [],
   "source": [
    "overall_4 = bd_4.compare_root_variable_groups(\n",
    "    dataframe=df_with_predictions,\n",
    "    target_variable='predictions',\n",
    "    root_variable='x2_sex')"
   ]
  },
  {
   "cell_type": "code",
   "execution_count": 27,
   "id": "3ba5c71c",
   "metadata": {},
   "outputs": [],
   "source": [
    "conditioned_4 = bd_4.compare_root_variable_conditioned_groups(\n",
    "    dataframe=df_with_predictions,\n",
    "    target_variable='predictions',\n",
    "    root_variable='x2_sex',\n",
    "    conditioning_variables=conditioning_variables)"
   ]
  },
  {
   "cell_type": "code",
   "execution_count": 28,
   "id": "b11aedbb",
   "metadata": {},
   "outputs": [],
   "source": [
    "hazard_test_4, average_threshold_4 = hazard_function(\n",
    "    overall_4, \n",
    "    conditioned_4, \n",
    "    df_with_predictions.shape[0])"
   ]
  },
  {
   "cell_type": "markdown",
   "id": "6b08c2f2",
   "metadata": {},
   "source": [
    "## Risk results"
   ]
  },
  {
   "cell_type": "code",
   "execution_count": 29,
   "id": "0c8805e1",
   "metadata": {},
   "outputs": [],
   "source": [
    "hazards = [hazard_test_1, hazard_test_2, hazard_test_3, hazard_test_4]\n",
    "average_thresholds = [average_threshold_1, average_threshold_2, average_threshold_3, average_threshold_4]"
   ]
  },
  {
   "cell_type": "code",
   "execution_count": 30,
   "id": "df958149",
   "metadata": {},
   "outputs": [
    {
     "data": {
      "text/plain": [
       "0.00015458111237839916"
      ]
     },
     "execution_count": 30,
     "metadata": {},
     "output_type": "execute_result"
    }
   ],
   "source": [
    "risk_function(hazards, average_thresholds)"
   ]
  },
  {
   "cell_type": "code",
   "execution_count": null,
   "id": "08b0feb1",
   "metadata": {},
   "outputs": [],
   "source": []
  }
 ],
 "metadata": {
  "kernelspec": {
   "display_name": "Python 3 (ipykernel)",
   "language": "python",
   "name": "python3"
  },
  "language_info": {
   "codemirror_mode": {
    "name": "ipython",
    "version": 3
   },
   "file_extension": ".py",
   "mimetype": "text/x-python",
   "name": "python",
   "nbconvert_exporter": "python",
   "pygments_lexer": "ipython3",
   "version": "3.10.9"
  }
 },
 "nbformat": 4,
 "nbformat_minor": 5
}
