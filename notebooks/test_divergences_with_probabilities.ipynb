{
 "cells": [
  {
   "cell_type": "markdown",
   "id": "331a4c13",
   "metadata": {},
   "source": [
    "### Same as 02, but working on continuous probabilities, instead of predicted classes"
   ]
  },
  {
   "cell_type": "code",
   "execution_count": 276,
   "id": "0b134d6e",
   "metadata": {},
   "outputs": [],
   "source": [
    "import os, sys\n",
    "dir2 = os.path.abspath('')\n",
    "dir1 = os.path.dirname(dir2)\n",
    "if not dir1 in sys.path: sys.path.append(dir1)"
   ]
  },
  {
   "cell_type": "code",
   "execution_count": 277,
   "id": "77c1e269",
   "metadata": {},
   "outputs": [],
   "source": [
    "from src.utils.Preprocessing import Preprocessing\n",
    "from sklearn.model_selection import train_test_split\n",
    "from pickle import dump, load\n",
    "import pandas as pd\n",
    "import numpy as np\n",
    "import matplotlib.pyplot as plt\n",
    "from sklearn.neighbors import KernelDensity\n",
    "\n",
    "from src.bias.FreqVsFreqBiasDetector import FreqVsFreqBiasDetector\n",
    "from src.bias.FreqVsRefBiasDetector import FreqVsRefBiasDetector"
   ]
  },
  {
   "attachments": {},
   "cell_type": "markdown",
   "id": "68af6499",
   "metadata": {},
   "source": [
    "## Importing Data and Trained Classifier"
   ]
  },
  {
   "attachments": {},
   "cell_type": "markdown",
   "id": "6cfad7a0",
   "metadata": {},
   "source": [
    "**UX**: \n",
    "- the user uploads the dataset with the features (X)\n",
    "- the user uploads \n",
    "    - the sklearn model as pkl file **or**\n",
    "    - a file with the predictions already created (Y). \n",
    "- the user uploads scaler and ohe (if needed)\n",
    "\n",
    "If a model is provided, the application checks if the the provided datasets and model match in terms of column names. "
   ]
  },
  {
   "cell_type": "code",
   "execution_count": 278,
   "id": "66127e6c",
   "metadata": {},
   "outputs": [],
   "source": [
    "input_data_path = \"../data/raw_data/uci-default-of-credit-card/data/data.csv\"\n",
    "local_path_save = '../data/mlflow_artifacts/'"
   ]
  },
  {
   "cell_type": "code",
   "execution_count": 279,
   "id": "bf0e3b01",
   "metadata": {},
   "outputs": [],
   "source": [
    "fitted_ohe = load(open(local_path_save + '_ohe.pkl', 'rb')) \n",
    "fitted_scaler = load(open(local_path_save + '_scaler.pkl', 'rb'))"
   ]
  },
  {
   "cell_type": "code",
   "execution_count": 280,
   "id": "6646c312",
   "metadata": {},
   "outputs": [],
   "source": [
    "pp = Preprocessing(input_data_path, \"default\")\n",
    "X, Y = pp.read_dataframe()\n",
    "\n",
    "X_train, X_test, Y_train, Y_test = train_test_split(X,Y, test_size=0.3, random_state=420)\n",
    "\n",
    "X_test_ohe, _, _ = pp.preprocess_for_classification(df=X_test, \n",
    "                                                fit_ohe=True, \n",
    "                                                fitted_ohe=fitted_ohe,\n",
    "                                                perform_scaling=True,\n",
    "                                                fitted_scaler=fitted_scaler)"
   ]
  },
  {
   "cell_type": "code",
   "execution_count": 281,
   "id": "ba010d39",
   "metadata": {},
   "outputs": [
    {
     "name": "stderr",
     "output_type": "stream",
     "text": [
      "/home/dev/repos/venv_gen_purpose/lib/python3.10/site-packages/sklearn/base.py:299: UserWarning: Trying to unpickle estimator DecisionTreeClassifier from version 1.0.2 when using version 1.2.1. This might lead to breaking code or invalid results. Use at your own risk. For more info please refer to:\n",
      "https://scikit-learn.org/stable/model_persistence.html#security-maintainability-limitations\n",
      "  warnings.warn(\n",
      "/home/dev/repos/venv_gen_purpose/lib/python3.10/site-packages/sklearn/base.py:299: UserWarning: Trying to unpickle estimator RandomForestClassifier from version 1.0.2 when using version 1.2.1. This might lead to breaking code or invalid results. Use at your own risk. For more info please refer to:\n",
      "https://scikit-learn.org/stable/model_persistence.html#security-maintainability-limitations\n",
      "  warnings.warn(\n"
     ]
    }
   ],
   "source": [
    "with open(\"trained_model_for_testing/RF_12_200.pkl\", \"rb\") as file:\n",
    "    classifier = load(file)"
   ]
  },
  {
   "cell_type": "code",
   "execution_count": 282,
   "id": "04cacf92",
   "metadata": {},
   "outputs": [],
   "source": [
    "predicted_prob = classifier.predict_proba(X_test_ohe)\n",
    "predicted_values = classifier.predict(X_test_ohe)"
   ]
  },
  {
   "attachments": {},
   "cell_type": "markdown",
   "id": "01057c6d",
   "metadata": {},
   "source": [
    "#### Definition of conditioning variables\n",
    "**UX**:\n",
    "- the user selects the continuous features to be categorized and used for the creation of control groups. \n",
    "\n",
    "The application propose splitting cuts that make the resulting discrete distribution uniform (but also other binning procedures are possible). "
   ]
  },
  {
   "cell_type": "code",
   "execution_count": 283,
   "id": "d7e96a84",
   "metadata": {},
   "outputs": [],
   "source": [
    "def age_buckets(x):\n",
    "    if x < 30:\n",
    "        return 1\n",
    "    elif x < 40:\n",
    "        return 2\n",
    "    else:\n",
    "        return 3\n",
    "\n",
    "X_test['age_buckets'] = X.x5_age.apply(age_buckets)"
   ]
  },
  {
   "attachments": {},
   "cell_type": "markdown",
   "id": "7fbb116c",
   "metadata": {},
   "source": [
    "**UX**:\n",
    "- the user selects from a drop down menu the variables to be used for the groups creation\n",
    "- the user can select \"check all the variables\" and the application will use all the available discrete features"
   ]
  },
  {
   "cell_type": "code",
   "execution_count": 284,
   "id": "c24a0c9c",
   "metadata": {},
   "outputs": [],
   "source": [
    "conditioning_variables = ['x3_education', 'x4_marriage', 'age_buckets']"
   ]
  },
  {
   "cell_type": "code",
   "execution_count": 285,
   "id": "7950602d",
   "metadata": {},
   "outputs": [],
   "source": [
    "df_with_predictions = X_test.reset_index(drop=True).assign(predictions=predicted_values, predicted_probs=predicted_prob[:,1])"
   ]
  },
  {
   "cell_type": "code",
   "execution_count": 286,
   "id": "0f8dd5fe",
   "metadata": {},
   "outputs": [],
   "source": [
    "#df_with_predictions.to_csv(\"data_for_demo_with_predictions.csv\")"
   ]
  },
  {
   "cell_type": "markdown",
   "id": "6f77ed76",
   "metadata": {},
   "source": [
    "## COMPUTE EMPIRICAL PROBABILITY DENSITY FUNCTION"
   ]
  },
  {
   "cell_type": "markdown",
   "id": "5528dff2",
   "metadata": {},
   "source": [
    "First of all, let's plot the histogram with density = True (the area of the bar is the relative frequency, aka the height is the probability density)"
   ]
  },
  {
   "cell_type": "code",
   "execution_count": 287,
   "id": "33dd0f8c",
   "metadata": {},
   "outputs": [],
   "source": [
    "n_bins=10\n",
    "# force range to [0 1] (instead of observed min and max), even if there are no data at the extremes, since we are modeling a probability\n",
    "min_range, max_range = 0,1"
   ]
  },
  {
   "cell_type": "code",
   "execution_count": 288,
   "id": "f30d88fc",
   "metadata": {},
   "outputs": [
    {
     "data": {
      "text/plain": [
       "Text(0.5, 1.0, 'Distribution of predicted_probs')"
      ]
     },
     "execution_count": 288,
     "metadata": {},
     "output_type": "execute_result"
    },
    {
     "data": {
      "image/png": "[encoded data removed]",
      "text/plain": [
       "<Figure size 640x480 with 1 Axes>"
      ]
     },
     "metadata": {},
     "output_type": "display_data"
    }
   ],
   "source": [
    "plt.hist(df_with_predictions['predicted_probs'], bins=n_bins, range=(min_range,max_range), edgecolor='black', density=True)\n",
    "plt.xlabel('predicted_probs')\n",
    "plt.ylabel('prob_density')\n",
    "plt.title('Distribution of predicted_probs')"
   ]
  },
  {
   "cell_type": "markdown",
   "id": "ee2e91e1",
   "metadata": {},
   "source": [
    "Let's extract the actual probability densities that we will use for computations"
   ]
  },
  {
   "cell_type": "code",
   "execution_count": 289,
   "id": "be834881",
   "metadata": {},
   "outputs": [
    {
     "name": "stdout",
     "output_type": "stream",
     "text": [
      "1.0000000000000002\n"
     ]
    },
    {
     "data": {
      "image/png": "[encoded data removed]",
      "text/plain": [
       "<Figure size 640x480 with 1 Axes>"
      ]
     },
     "metadata": {},
     "output_type": "display_data"
    }
   ],
   "source": [
    "prob_densities, bin_edges = np.histogram(df_with_predictions['predicted_probs'], bins=n_bins, range=(min_range,max_range), density=True)\n",
    "bin_width = (max_range-min_range)/n_bins\n",
    "#check that the 'integral' of the PDF equals 1\n",
    "print((prob_densities*bin_width).sum())\n",
    "\n",
    "#plot the PDF, along with the previous histogram (they are the same)\n",
    "#bin_edges has one dimension more than hist_values. For representation, let's compute the median value of each consecutive pair of bin edges\n",
    "median_points = (bin_edges[:-1] + bin_edges[1:]) / 2\n",
    "plt.hist(df_with_predictions['predicted_probs'], bins=n_bins, range=(min_range,max_range), edgecolor='black', density=True, label='from_plt')\n",
    "plt.plot(median_points,prob_densities, label='from_np')\n",
    "plt.xlabel('predicted_probs')\n",
    "plt.ylabel('prob_density')\n",
    "plt.title('Distribution of predicted_probs')\n",
    "plt.legend()\n",
    "plt.show()"
   ]
  },
  {
   "cell_type": "markdown",
   "id": "d092d916",
   "metadata": {},
   "source": [
    "## Smooth the PDF\n",
    "\n",
    "Some bins could be empty. EMpty bins will cause the computation of the KL divergence impossible: remember that KL = np.sum(p*log(p/q)) --> if p[i] != 0 and q[i]=0 we get expression of the type  p*log(p/0) that is not defined (0*log(0) is 0 for limit calculus)\n",
    "\n",
    "There are two common used options\n",
    "\n",
    "    - ignore bins where  q[i] is 0 (the contribution to the KL is 0 for those bins)\n",
    "    - smooth the PDF, e.g. using Kernel Density Estimate methods. We are doing it now\n",
    "    (other methods to test: Dirichlet smoothing, Laplace smoothing) TBD"
   ]
  },
  {
   "cell_type": "code",
   "execution_count": 290,
   "id": "61269d05",
   "metadata": {},
   "outputs": [
    {
     "name": "stderr",
     "output_type": "stream",
     "text": [
      "/home/dev/repos/venv_gen_purpose/lib/python3.10/site-packages/sklearn/base.py:420: UserWarning: X does not have valid feature names, but KernelDensity was fitted with feature names\n",
      "  warnings.warn(\n"
     ]
    },
    {
     "data": {
      "image/png": "[encoded data removed]",
      "text/plain": [
       "<Figure size 640x480 with 1 Axes>"
      ]
     },
     "metadata": {},
     "output_type": "display_data"
    }
   ],
   "source": [
    "# if kernel ='Gaussian, suggested bandwidth='scott' --> bandwidth = n**(-1./(d+4)), wher n= number of observations, d=number of dimensions (1 in our case, since the only input is predicted_prob)\n",
    "# if using kernel='tophat' (rectangular kernel) I suggest bandwidth=bin_width\n",
    "model = KernelDensity(bandwidth=bin_width, kernel='tophat')\n",
    "model.fit(df_with_predictions[['predicted_probs']])\n",
    "# compute smoothed prob. densities on the predicted_probs range, on a number of equally distantiated points\n",
    "n_bins_kde = n_bins*10\n",
    "x_to_predict = np.linspace(min_range, max_range, n_bins_kde)[:, np.newaxis] #dimesion must be the same of the fit input\n",
    "prob_kde = np.exp(model.score_samples(x_to_predict))\n",
    "\n",
    "#plot smoothed pdf, along with the original pdf\n",
    "plt.hist(df_with_predictions['predicted_probs'], bins=n_bins, range=(min_range,max_range), edgecolor='black', density=True, label='original')\n",
    "plt.plot(x_to_predict[:,0],prob_kde, label='kde')\n",
    "plt.xlabel('predicted_probs')\n",
    "plt.ylabel('prob_density')\n",
    "plt.title('Distribution of predicted_probs')\n",
    "plt.legend()\n",
    "plt.show()"
   ]
  },
  {
   "cell_type": "markdown",
   "id": "3e9a8b4c",
   "metadata": {},
   "source": [
    "### The integral of the kde pdf is not 1 on our range!\n",
    "\n",
    "Infact, for its nature, the kde could produce non zero probabilities also outside the range of data used for fitting"
   ]
  },
  {
   "cell_type": "code",
   "execution_count": 291,
   "id": "8d92dd5d",
   "metadata": {},
   "outputs": [
    {
     "name": "stderr",
     "output_type": "stream",
     "text": [
      "/home/dev/repos/venv_gen_purpose/lib/python3.10/site-packages/sklearn/base.py:420: UserWarning: X does not have valid feature names, but KernelDensity was fitted with feature names\n",
      "  warnings.warn(\n"
     ]
    },
    {
     "name": "stdout",
     "output_type": "stream",
     "text": [
      "integral on original range =  0.9741358024692508\n"
     ]
    },
    {
     "data": {
      "image/png": "[encoded data removed]",
      "text/plain": [
       "<Figure size 640x480 with 1 Axes>"
      ]
     },
     "metadata": {},
     "output_type": "display_data"
    },
    {
     "name": "stdout",
     "output_type": "stream",
     "text": [
      "integral on wider range =  0.999517396184179\n"
     ]
    }
   ],
   "source": [
    "#use trapeziodal rule for numerical integration\n",
    "print('integral on original range = ', np.trapz(prob_kde,x_to_predict[:,0]))\n",
    "\n",
    "#let's print kde pdf also outside the above range\n",
    "min_range_new, max_range_new = -0.5,1.5\n",
    "x_to_predict_new = np.linspace(min_range_new, max_range_new, n_bins_kde)[:, np.newaxis]\n",
    "prob_kde_new = np.exp(model.score_samples(x_to_predict_new))\n",
    "plt.hist(df_with_predictions['predicted_probs'], bins=n_bins, range=(min_range,max_range), edgecolor='black', density=True, label='original')\n",
    "plt.plot(x_to_predict_new[:,0],prob_kde_new, label='kde')\n",
    "plt.xlabel('predicted_probs')\n",
    "plt.ylabel('prob_density')\n",
    "plt.title('Distribution of predicted_probs')\n",
    "plt.legend()\n",
    "plt.show()\n",
    "\n",
    "print('integral on wider range = ', np.trapz(prob_kde_new,x_to_predict_new[:,0]))"
   ]
  },
  {
   "cell_type": "markdown",
   "id": "22e762fa",
   "metadata": {},
   "source": [
    "## Let's nomralize it on the 0 1 range"
   ]
  },
  {
   "cell_type": "code",
   "execution_count": 292,
   "id": "392fdce7",
   "metadata": {},
   "outputs": [
    {
     "name": "stdout",
     "output_type": "stream",
     "text": [
      "Integral of normalized kde =  1.0\n"
     ]
    },
    {
     "data": {
      "image/png": "[encoded data removed]",
      "text/plain": [
       "<Figure size 640x480 with 1 Axes>"
      ]
     },
     "metadata": {},
     "output_type": "display_data"
    }
   ],
   "source": [
    "norm_factor = np.trapz(prob_kde,x_to_predict[:,0])\n",
    "prob_kde_norm = prob_kde/norm_factor\n",
    "print('Integral of normalized kde = ', np.trapz(prob_kde_norm,x_to_predict[:,0]))\n",
    "\n",
    "#plot normalized kde, along with the original pdf\n",
    "plt.hist(df_with_predictions['predicted_probs'], bins=n_bins, range=(min_range,max_range), edgecolor='black', density=True, label='original')\n",
    "plt.plot(x_to_predict[:,0],prob_kde, label='kde')\n",
    "plt.plot(x_to_predict[:,0],prob_kde_norm, label='norm kde')\n",
    "plt.xlabel('predicted_probs')\n",
    "plt.ylabel('prob_density')\n",
    "plt.title('Distribution of predicted_probs')\n",
    "plt.legend()\n",
    "plt.show()"
   ]
  },
  {
   "cell_type": "markdown",
   "id": "89180807",
   "metadata": {},
   "source": [
    "## Compute discrete PDFs\n",
    "Switch from pdfs p(x) to discrete pdfs P(x in bin_i), so we can use the same fucntions to calculate divergences"
   ]
  },
  {
   "cell_type": "code",
   "execution_count": 321,
   "id": "6f9892ab",
   "metadata": {},
   "outputs": [
    {
     "name": "stdout",
     "output_type": "stream",
     "text": [
      "[0.23822222 0.42077778 0.13077778 0.061      0.03811111 0.03322222\n",
      " 0.03822222 0.03066667 0.00766667 0.00133333]\n",
      "[2144 3787 1177  549  343  299  344  276   69   12]\n",
      "[0.23822222 0.42077778 0.13077778 0.061      0.03811111 0.03322222\n",
      " 0.03822222 0.03066667 0.00766667 0.00133333]\n",
      "sum of discr_prob_densities =  1.0000000000000002\n",
      "sum of discr_prob_kde =  0.9999999999999999\n"
     ]
    },
    {
     "data": {
      "image/png": "[encoded data removed]",
      "text/plain": [
       "<Figure size 640x480 with 1 Axes>"
      ]
     },
     "metadata": {},
     "output_type": "display_data"
    }
   ],
   "source": [
    "discr_prob_densities = prob_densities*bin_width\n",
    "# or equvalently\n",
    "#discr_prob_densities, _ = np.histogram(df_with_predictions['predicted_probs'], bins=n_bins, range=(min_range,max_range), density=False)\n",
    "#discr_prob_densities =  discr_prob_densities/len(df_with_predictions['predicted_probs'])\n",
    "\n",
    "print('sum of discr_prob_densities = ', sum(discr_prob_densities))\n",
    "\n",
    "\n",
    "def discr_kde(bin_edges, x_to_predict, prob_kde):\n",
    "    '''\n",
    "    Given the pdf prob_kde (where each probability value is associated to an element of x_to_predict), discretize it (aka compute p(x)*dx, using the trapezoidal rule),\n",
    "    eventually using bins that are different from the ones defined by x_to_predict: use bin_edges instead (bin_edges can equal x_to_predict)\n",
    "    '''\n",
    "    discr_prob_densities = []\n",
    "\n",
    "    for i in range(len(bin_edges) - 1):\n",
    "        \n",
    "        start_edge = bin_edges[i]\n",
    "        end_edge = bin_edges[i + 1]\n",
    "        dx = end_edge - start_edge\n",
    "        # Find indices within the range defined by bin edges\n",
    "        indices = np.where((x_to_predict >= start_edge) & (x_to_predict < end_edge))[0]\n",
    "        if i == (len(bin_edges) - 2):\n",
    "            indices = np.where((x_to_predict >= start_edge) & (x_to_predict <= end_edge))[0]\n",
    "\n",
    "        #print(indices)\n",
    "\n",
    "        discr_prob_densities.append(dx*(prob_kde[indices[-1]] + prob_kde[indices[0]])/2)\n",
    "        #discr_prob_densities.append(dx*np.mean(prob_kde[indices]))\n",
    "\n",
    "    #correction: discrete integration (especially on bins wider than the original ones) could cause the discrete pdf not to sum exactly to one\n",
    "    discr_prob_densities = np.array(discr_prob_densities)/(np.sum(discr_prob_densities))\n",
    "    return discr_prob_densities\n",
    "\n",
    "        \n",
    "    \n",
    "discr_prob_kde = discr_kde(bin_edges, x_to_predict[:,0], prob_kde_norm)\n",
    "print('sum of discr_prob_kde = ',discr_prob_kde.sum())\n",
    "\n",
    "\n",
    "\n",
    "#plot normalized kde, along with the original pdf\n",
    "#plt.hist(df_with_predictions['predicted_probs'], bins=n_bins, range=(min_range,max_range), edgecolor='black', density=True, label='original')\n",
    "plt.vlines(median_points, ymin=0, ymax=discr_prob_densities, label='discr_prob_densities', color='green', alpha=0.5)\n",
    "plt.vlines(median_points, ymin=0, ymax=discr_prob_kde, label='discr_prob_kde', color='orange', alpha=0.5)\n",
    "plt.xlabel('predicted_probs')\n",
    "plt.ylabel('prob_density')\n",
    "plt.title('Distribution of predicted_probs')\n",
    "plt.legend()\n",
    "plt.show()"
   ]
  },
  {
   "cell_type": "markdown",
   "id": "aa2e6b34",
   "metadata": {},
   "source": [
    "## FINE PROVE"
   ]
  },
  {
   "cell_type": "markdown",
   "id": "ae595131",
   "metadata": {},
   "source": [
    "## Bias Detection"
   ]
  },
  {
   "cell_type": "markdown",
   "id": "d1a61755",
   "metadata": {},
   "source": [
    "**UX**:\n",
    "- the user selects from a drop down menu the binary variable to be used for the distance calculation\n",
    "- the user selects a threshold for the distance\n",
    "- the user selects a Distance (if more than one are provided)"
   ]
  },
  {
   "cell_type": "code",
   "execution_count": 294,
   "id": "a679fabc",
   "metadata": {},
   "outputs": [],
   "source": [
    "bd = FreqVsFreqBiasDetector(distance=\"TVD\")"
   ]
  },
  {
   "attachments": {},
   "cell_type": "markdown",
   "id": "28af1338",
   "metadata": {},
   "source": [
    "**UX**:\n",
    "\n",
    "The user has can select between two options:\n",
    "- Option 1: distance between frequencies\n",
    "- Option 2: distance from reference distribution\n",
    "    - in this case, the user has to insert values for a reference distribution"
   ]
  },
  {
   "attachments": {},
   "cell_type": "markdown",
   "id": "af1d858e",
   "metadata": {},
   "source": [
    "## Option 1: Distance between frequencies"
   ]
  },
  {
   "attachments": {},
   "cell_type": "markdown",
   "id": "0e6e5723",
   "metadata": {},
   "source": [
    "### Comparison of the two groups observed freqs"
   ]
  },
  {
   "cell_type": "code",
   "execution_count": 295,
   "id": "9dc1af6e",
   "metadata": {},
   "outputs": [
    {
     "data": {
      "text/plain": [
       "(0.025269625352224545, True, 0.1, None)"
      ]
     },
     "execution_count": 295,
     "metadata": {},
     "output_type": "execute_result"
    }
   ],
   "source": [
    "bd.compare_root_variable_groups(\n",
    "    dataframe=df_with_predictions,\n",
    "    target_variable='predictions',\n",
    "    root_variable='x2_sex',\n",
    "    threshold=0.1\n",
    ")"
   ]
  },
  {
   "cell_type": "code",
   "execution_count": 296,
   "id": "ed803019",
   "metadata": {},
   "outputs": [],
   "source": [
    "#distance = max( abs(female_0_freq - male_0_freq), abs(female_1_freq - male_1_freq) )"
   ]
  },
  {
   "cell_type": "code",
   "execution_count": 311,
   "id": "a9ed3e0b",
   "metadata": {},
   "outputs": [
    {
     "data": {
      "text/plain": [
       "x2_sex  predictions\n",
       "1       0              0.873592\n",
       "        1              0.126408\n",
       "2       0              0.898862\n",
       "        1              0.101138\n",
       "Name: predictions, dtype: float64"
      ]
     },
     "execution_count": 311,
     "metadata": {},
     "output_type": "execute_result"
    }
   ],
   "source": [
    "df_with_predictions.groupby(\"x2_sex\").predictions.value_counts(normalize=True)"
   ]
  },
  {
   "attachments": {},
   "cell_type": "markdown",
   "id": "1b956985",
   "metadata": {},
   "source": [
    "### Comparison of the two groups observed freqs conditioning to other features"
   ]
  },
  {
   "cell_type": "code",
   "execution_count": 298,
   "id": "39c5a497",
   "metadata": {},
   "outputs": [],
   "source": [
    "results = bd.compare_root_variable_conditioned_groups(\n",
    "    dataframe=df_with_predictions,\n",
    "    target_variable='predictions',\n",
    "    root_variable='x2_sex',\n",
    "    conditioning_variables=conditioning_variables,\n",
    "    threshold=0.1,\n",
    "    min_obs_per_group=30)"
   ]
  },
  {
   "cell_type": "code",
   "execution_count": 299,
   "id": "9180e2c0",
   "metadata": {},
   "outputs": [
    {
     "data": {
      "text/plain": [
       "{'x3_education==1': (3119, 0.0183300648997351, True, 0.1, None),\n",
       " 'x3_education==3': (1499, 0.03290896164530149, True, 0.1, None),\n",
       " 'x3_education==2': (4250, 0.030006620324395897, True, 0.1, None),\n",
       " 'x3_education==4': (40, 0.0, True, 0.1, None),\n",
       " 'x3_education==5': (75, 0.06772575250836121, True, 0.1, None),\n",
       " 'x3_education==6': (14, None, 'Not enough observations'),\n",
       " 'x3_education==0': (3, None, 'Not enough observations'),\n",
       " 'x4_marriage==1': (4065, 0.019241036358938257, True, 0.1, None),\n",
       " 'x4_marriage==2': (4822, 0.03149828894509746, True, 0.1, None),\n",
       " 'x4_marriage==3': (95, 0.05425219941348974, True, 0.1, None),\n",
       " 'x4_marriage==0': (18, None, 'Not enough observations'),\n",
       " 'age_buckets==3': (2727, 0.01788279719173691, True, 0.1, None),\n",
       " 'age_buckets==1': (2895, 0.009266981744045971, True, 0.1, None),\n",
       " 'age_buckets==2': (3378, 0.047657731623916205, True, 0.1, None),\n",
       " 'x3_education==1 & x4_marriage==1': (1106,\n",
       "  0.02132550290983498,\n",
       "  True,\n",
       "  0.1,\n",
       "  None),\n",
       " 'x3_education==1 & x4_marriage==2': (2002,\n",
       "  0.01769534497090608,\n",
       "  True,\n",
       "  0.1,\n",
       "  None),\n",
       " 'x3_education==1 & x4_marriage==3': (10, None, 'Not enough observations'),\n",
       " 'x3_education==1 & x4_marriage==0': (1, None, 'Not enough observations'),\n",
       " 'x3_education==3 & x4_marriage==1': (842,\n",
       "  0.031336405529953926,\n",
       "  True,\n",
       "  0.1,\n",
       "  None),\n",
       " 'x3_education==3 & x4_marriage==2': (616,\n",
       "  0.04200812107788854,\n",
       "  True,\n",
       "  0.1,\n",
       "  None),\n",
       " 'x3_education==3 & x4_marriage==3': (26, None, 'Not enough observations'),\n",
       " 'x3_education==3 & x4_marriage==0': (15, None, 'Not enough observations'),\n",
       " 'x3_education==2 & x4_marriage==1': (2047,\n",
       "  0.02332726566001353,\n",
       "  True,\n",
       "  0.1,\n",
       "  None),\n",
       " 'x3_education==2 & x4_marriage==2': (2145,\n",
       "  0.03637291669292275,\n",
       "  True,\n",
       "  0.1,\n",
       "  None),\n",
       " 'x3_education==2 & x4_marriage==3': (56,\n",
       "  0.04678362573099415,\n",
       "  True,\n",
       "  0.1,\n",
       "  None),\n",
       " 'x3_education==2 & x4_marriage==0': (2, None, 'Not enough observations'),\n",
       " 'x3_education==4 & x4_marriage==1': (17, None, 'Not enough observations'),\n",
       " 'x3_education==4 & x4_marriage==2': (21, None, 'Not enough observations'),\n",
       " 'x3_education==4 & x4_marriage==3': (2, None, 'Not enough observations'),\n",
       " 'x3_education==4 & x4_marriage==0': (0, None, 'Not enough observations'),\n",
       " 'x3_education==5 & x4_marriage==1': (45,\n",
       "  0.03225806451612903,\n",
       "  True,\n",
       "  0.1,\n",
       "  None),\n",
       " 'x3_education==5 & x4_marriage==2': (29, None, 'Not enough observations'),\n",
       " 'x3_education==5 & x4_marriage==3': (1, None, 'Not enough observations'),\n",
       " 'x3_education==5 & x4_marriage==0': (0, None, 'Not enough observations'),\n",
       " 'x3_education==6 & x4_marriage==1': (7, None, 'Not enough observations'),\n",
       " 'x3_education==6 & x4_marriage==2': (7, None, 'Not enough observations'),\n",
       " 'x3_education==6 & x4_marriage==3': (0, None, 'Not enough observations'),\n",
       " 'x3_education==6 & x4_marriage==0': (0, None, 'Not enough observations'),\n",
       " 'x3_education==0 & x4_marriage==1': (1, None, 'Not enough observations'),\n",
       " 'x3_education==0 & x4_marriage==2': (2, None, 'Not enough observations'),\n",
       " 'x3_education==0 & x4_marriage==3': (0, None, 'Not enough observations'),\n",
       " 'x3_education==0 & x4_marriage==0': (0, None, 'Not enough observations'),\n",
       " 'x3_education==1 & age_buckets==3': (710,\n",
       "  0.0064519201009451965,\n",
       "  True,\n",
       "  0.1,\n",
       "  None),\n",
       " 'x3_education==1 & age_buckets==1': (1070,\n",
       "  0.006058588812413612,\n",
       "  True,\n",
       "  0.1,\n",
       "  None),\n",
       " 'x3_education==1 & age_buckets==2': (1339,\n",
       "  0.03299969572977171,\n",
       "  True,\n",
       "  0.1,\n",
       "  None),\n",
       " 'x3_education==3 & age_buckets==3': (783,\n",
       "  0.04045436698663707,\n",
       "  True,\n",
       "  0.1,\n",
       "  None),\n",
       " 'x3_education==3 & age_buckets==1': (281,\n",
       "  0.04466049703649788,\n",
       "  True,\n",
       "  0.1,\n",
       "  None),\n",
       " 'x3_education==3 & age_buckets==2': (435,\n",
       "  0.07026875699888019,\n",
       "  True,\n",
       "  0.1,\n",
       "  None),\n",
       " 'x3_education==2 & age_buckets==3': (1180,\n",
       "  0.016949152542372878,\n",
       "  True,\n",
       "  0.1,\n",
       "  None),\n",
       " 'x3_education==2 & age_buckets==1': (1502,\n",
       "  0.01925543513114858,\n",
       "  True,\n",
       "  0.1,\n",
       "  None),\n",
       " 'x3_education==2 & age_buckets==2': (1568,\n",
       "  0.057000876936568246,\n",
       "  True,\n",
       "  0.1,\n",
       "  None),\n",
       " 'x3_education==4 & age_buckets==3': (13, None, 'Not enough observations'),\n",
       " 'x3_education==4 & age_buckets==1': (15, None, 'Not enough observations'),\n",
       " 'x3_education==4 & age_buckets==2': (12, None, 'Not enough observations'),\n",
       " 'x3_education==5 & age_buckets==3': (28, None, 'Not enough observations'),\n",
       " 'x3_education==5 & age_buckets==1': (26, None, 'Not enough observations'),\n",
       " 'x3_education==5 & age_buckets==2': (21, None, 'Not enough observations'),\n",
       " 'x3_education==6 & age_buckets==3': (12, None, 'Not enough observations'),\n",
       " 'x3_education==6 & age_buckets==1': (1, None, 'Not enough observations'),\n",
       " 'x3_education==6 & age_buckets==2': (1, None, 'Not enough observations'),\n",
       " 'x3_education==0 & age_buckets==3': (1, None, 'Not enough observations'),\n",
       " 'x3_education==0 & age_buckets==1': (0, None, 'Not enough observations'),\n",
       " 'x3_education==0 & age_buckets==2': (2, None, 'Not enough observations'),\n",
       " 'x4_marriage==1 & age_buckets==3': (1973,\n",
       "  0.018170086868941282,\n",
       "  True,\n",
       "  0.1,\n",
       "  None),\n",
       " 'x4_marriage==1 & age_buckets==1': (433,\n",
       "  0.02044753086419754,\n",
       "  True,\n",
       "  0.1,\n",
       "  None),\n",
       " 'x4_marriage==1 & age_buckets==2': (1659,\n",
       "  0.036381219154328404,\n",
       "  True,\n",
       "  0.1,\n",
       "  None),\n",
       " 'x4_marriage==2 & age_buckets==3': (682,\n",
       "  0.02512448278280388,\n",
       "  True,\n",
       "  0.1,\n",
       "  None),\n",
       " 'x4_marriage==2 & age_buckets==1': (2450,\n",
       "  0.016680743243243257,\n",
       "  True,\n",
       "  0.1,\n",
       "  None),\n",
       " 'x4_marriage==2 & age_buckets==2': (1690,\n",
       "  0.06269566973753604,\n",
       "  True,\n",
       "  0.1,\n",
       "  None),\n",
       " 'x4_marriage==3 & age_buckets==3': (67, 0.06388888888888888, True, 0.1, None),\n",
       " 'x4_marriage==3 & age_buckets==1': (9, None, 'Not enough observations'),\n",
       " 'x4_marriage==3 & age_buckets==2': (19, None, 'Not enough observations'),\n",
       " 'x4_marriage==0 & age_buckets==3': (5, None, 'Not enough observations'),\n",
       " 'x4_marriage==0 & age_buckets==1': (3, None, 'Not enough observations'),\n",
       " 'x4_marriage==0 & age_buckets==2': (10, None, 'Not enough observations'),\n",
       " 'x3_education==1 & x4_marriage==1 & age_buckets==3': (530,\n",
       "  0.025427231652912607,\n",
       "  True,\n",
       "  0.1,\n",
       "  None),\n",
       " 'x3_education==1 & x4_marriage==1 & age_buckets==1': (57,\n",
       "  0.01371951219512195,\n",
       "  True,\n",
       "  0.1,\n",
       "  None),\n",
       " 'x3_education==1 & x4_marriage==1 & age_buckets==2': (519,\n",
       "  0.008072174738841476,\n",
       "  True,\n",
       "  0.1,\n",
       "  None),\n",
       " 'x3_education==1 & x4_marriage==2 & age_buckets==3': (174,\n",
       "  0.043743372216330845,\n",
       "  True,\n",
       "  0.1,\n",
       "  None),\n",
       " 'x3_education==1 & x4_marriage==2 & age_buckets==1': (1013,\n",
       "  0.005375775987320086,\n",
       "  True,\n",
       "  0.1,\n",
       "  None),\n",
       " 'x3_education==1 & x4_marriage==2 & age_buckets==2': (815,\n",
       "  0.044669284204167936,\n",
       "  True,\n",
       "  0.1,\n",
       "  None),\n",
       " 'x3_education==1 & x4_marriage==3 & age_buckets==3': (6,\n",
       "  None,\n",
       "  'Not enough observations'),\n",
       " 'x3_education==1 & x4_marriage==3 & age_buckets==1': (0,\n",
       "  None,\n",
       "  'Not enough observations'),\n",
       " 'x3_education==1 & x4_marriage==3 & age_buckets==2': (4,\n",
       "  None,\n",
       "  'Not enough observations'),\n",
       " 'x3_education==1 & x4_marriage==0 & age_buckets==3': (0,\n",
       "  None,\n",
       "  'Not enough observations'),\n",
       " 'x3_education==1 & x4_marriage==0 & age_buckets==1': (0,\n",
       "  None,\n",
       "  'Not enough observations'),\n",
       " 'x3_education==1 & x4_marriage==0 & age_buckets==2': (1,\n",
       "  None,\n",
       "  'Not enough observations'),\n",
       " 'x3_education==3 & x4_marriage==1 & age_buckets==3': (540,\n",
       "  0.03445750958349486,\n",
       "  True,\n",
       "  0.1,\n",
       "  None),\n",
       " 'x3_education==3 & x4_marriage==1 & age_buckets==1': (66,\n",
       "  0.03703703703703709,\n",
       "  True,\n",
       "  0.1,\n",
       "  None),\n",
       " 'x3_education==3 & x4_marriage==1 & age_buckets==2': (236,\n",
       "  0.04916244643552786,\n",
       "  True,\n",
       "  0.1,\n",
       "  None),\n",
       " 'x3_education==3 & x4_marriage==2 & age_buckets==3': (215,\n",
       "  0.06752241955336735,\n",
       "  True,\n",
       "  0.1,\n",
       "  None),\n",
       " 'x3_education==3 & x4_marriage==2 & age_buckets==1': (212,\n",
       "  0.0350689808633734,\n",
       "  True,\n",
       "  0.1,\n",
       "  None),\n",
       " 'x3_education==3 & x4_marriage==2 & age_buckets==2': (189,\n",
       "  0.10919540229885057,\n",
       "  False,\n",
       "  0.1,\n",
       "  None),\n",
       " 'x3_education==3 & x4_marriage==3 & age_buckets==3': (23,\n",
       "  None,\n",
       "  'Not enough observations'),\n",
       " 'x3_education==3 & x4_marriage==3 & age_buckets==1': (1,\n",
       "  None,\n",
       "  'Not enough observations'),\n",
       " 'x3_education==3 & x4_marriage==3 & age_buckets==2': (2,\n",
       "  None,\n",
       "  'Not enough observations'),\n",
       " 'x3_education==3 & x4_marriage==0 & age_buckets==3': (5,\n",
       "  None,\n",
       "  'Not enough observations'),\n",
       " 'x3_education==3 & x4_marriage==0 & age_buckets==1': (2,\n",
       "  None,\n",
       "  'Not enough observations'),\n",
       " 'x3_education==3 & x4_marriage==0 & age_buckets==2': (8,\n",
       "  None,\n",
       "  'Not enough observations'),\n",
       " 'x3_education==2 & x4_marriage==1 & age_buckets==3': (865,\n",
       "  0.01404682274247493,\n",
       "  True,\n",
       "  0.1,\n",
       "  None),\n",
       " 'x3_education==2 & x4_marriage==1 & age_buckets==1': (298,\n",
       "  0.013177740731920351,\n",
       "  True,\n",
       "  0.1,\n",
       "  None),\n",
       " 'x3_education==2 & x4_marriage==1 & age_buckets==2': (884,\n",
       "  0.05597278168453157,\n",
       "  True,\n",
       "  0.1,\n",
       "  None),\n",
       " 'x3_education==2 & x4_marriage==2 & age_buckets==3': (278,\n",
       "  0.03442340791738385,\n",
       "  True,\n",
       "  0.1,\n",
       "  None),\n",
       " 'x3_education==2 & x4_marriage==2 & age_buckets==1': (1196,\n",
       "  0.02680324600769235,\n",
       "  True,\n",
       "  0.1,\n",
       "  None),\n",
       " 'x3_education==2 & x4_marriage==2 & age_buckets==2': (671,\n",
       "  0.06720219435736675,\n",
       "  True,\n",
       "  0.1,\n",
       "  None),\n",
       " 'x3_education==2 & x4_marriage==3 & age_buckets==3': (37,\n",
       "  0.04848484848484849,\n",
       "  True,\n",
       "  0.1,\n",
       "  None),\n",
       " 'x3_education==2 & x4_marriage==3 & age_buckets==1': (7,\n",
       "  None,\n",
       "  'Not enough observations'),\n",
       " 'x3_education==2 & x4_marriage==3 & age_buckets==2': (12,\n",
       "  None,\n",
       "  'Not enough observations'),\n",
       " 'x3_education==2 & x4_marriage==0 & age_buckets==3': (0,\n",
       "  None,\n",
       "  'Not enough observations'),\n",
       " 'x3_education==2 & x4_marriage==0 & age_buckets==1': (1,\n",
       "  None,\n",
       "  'Not enough observations'),\n",
       " 'x3_education==2 & x4_marriage==0 & age_buckets==2': (1,\n",
       "  None,\n",
       "  'Not enough observations'),\n",
       " 'x3_education==4 & x4_marriage==1 & age_buckets==3': (9,\n",
       "  None,\n",
       "  'Not enough observations'),\n",
       " 'x3_education==4 & x4_marriage==1 & age_buckets==1': (2,\n",
       "  None,\n",
       "  'Not enough observations'),\n",
       " 'x3_education==4 & x4_marriage==1 & age_buckets==2': (6,\n",
       "  None,\n",
       "  'Not enough observations'),\n",
       " 'x3_education==4 & x4_marriage==2 & age_buckets==3': (3,\n",
       "  None,\n",
       "  'Not enough observations'),\n",
       " 'x3_education==4 & x4_marriage==2 & age_buckets==1': (12,\n",
       "  None,\n",
       "  'Not enough observations'),\n",
       " 'x3_education==4 & x4_marriage==2 & age_buckets==2': (6,\n",
       "  None,\n",
       "  'Not enough observations'),\n",
       " 'x3_education==4 & x4_marriage==3 & age_buckets==3': (1,\n",
       "  None,\n",
       "  'Not enough observations'),\n",
       " 'x3_education==4 & x4_marriage==3 & age_buckets==1': (1,\n",
       "  None,\n",
       "  'Not enough observations'),\n",
       " 'x3_education==4 & x4_marriage==3 & age_buckets==2': (0,\n",
       "  None,\n",
       "  'Not enough observations'),\n",
       " 'x3_education==4 & x4_marriage==0 & age_buckets==3': (0,\n",
       "  None,\n",
       "  'Not enough observations'),\n",
       " 'x3_education==4 & x4_marriage==0 & age_buckets==1': (0,\n",
       "  None,\n",
       "  'Not enough observations'),\n",
       " 'x3_education==4 & x4_marriage==0 & age_buckets==2': (0,\n",
       "  None,\n",
       "  'Not enough observations'),\n",
       " 'x3_education==5 & x4_marriage==1 & age_buckets==3': (22,\n",
       "  None,\n",
       "  'Not enough observations'),\n",
       " 'x3_education==5 & x4_marriage==1 & age_buckets==1': (10,\n",
       "  None,\n",
       "  'Not enough observations'),\n",
       " 'x3_education==5 & x4_marriage==1 & age_buckets==2': (13,\n",
       "  None,\n",
       "  'Not enough observations'),\n",
       " 'x3_education==5 & x4_marriage==2 & age_buckets==3': (6,\n",
       "  None,\n",
       "  'Not enough observations'),\n",
       " 'x3_education==5 & x4_marriage==2 & age_buckets==1': (16,\n",
       "  None,\n",
       "  'Not enough observations'),\n",
       " 'x3_education==5 & x4_marriage==2 & age_buckets==2': (7,\n",
       "  None,\n",
       "  'Not enough observations'),\n",
       " 'x3_education==5 & x4_marriage==3 & age_buckets==3': (0,\n",
       "  None,\n",
       "  'Not enough observations'),\n",
       " 'x3_education==5 & x4_marriage==3 & age_buckets==1': (0,\n",
       "  None,\n",
       "  'Not enough observations'),\n",
       " 'x3_education==5 & x4_marriage==3 & age_buckets==2': (1,\n",
       "  None,\n",
       "  'Not enough observations'),\n",
       " 'x3_education==5 & x4_marriage==0 & age_buckets==3': (0,\n",
       "  None,\n",
       "  'Not enough observations'),\n",
       " 'x3_education==5 & x4_marriage==0 & age_buckets==1': (0,\n",
       "  None,\n",
       "  'Not enough observations'),\n",
       " 'x3_education==5 & x4_marriage==0 & age_buckets==2': (0,\n",
       "  None,\n",
       "  'Not enough observations'),\n",
       " 'x3_education==6 & x4_marriage==1 & age_buckets==3': (6,\n",
       "  None,\n",
       "  'Not enough observations'),\n",
       " 'x3_education==6 & x4_marriage==1 & age_buckets==1': (0,\n",
       "  None,\n",
       "  'Not enough observations'),\n",
       " 'x3_education==6 & x4_marriage==1 & age_buckets==2': (1,\n",
       "  None,\n",
       "  'Not enough observations'),\n",
       " 'x3_education==6 & x4_marriage==2 & age_buckets==3': (6,\n",
       "  None,\n",
       "  'Not enough observations'),\n",
       " 'x3_education==6 & x4_marriage==2 & age_buckets==1': (1,\n",
       "  None,\n",
       "  'Not enough observations'),\n",
       " 'x3_education==6 & x4_marriage==2 & age_buckets==2': (0,\n",
       "  None,\n",
       "  'Not enough observations'),\n",
       " 'x3_education==6 & x4_marriage==3 & age_buckets==3': (0,\n",
       "  None,\n",
       "  'Not enough observations'),\n",
       " 'x3_education==6 & x4_marriage==3 & age_buckets==1': (0,\n",
       "  None,\n",
       "  'Not enough observations'),\n",
       " 'x3_education==6 & x4_marriage==3 & age_buckets==2': (0,\n",
       "  None,\n",
       "  'Not enough observations'),\n",
       " 'x3_education==6 & x4_marriage==0 & age_buckets==3': (0,\n",
       "  None,\n",
       "  'Not enough observations'),\n",
       " 'x3_education==6 & x4_marriage==0 & age_buckets==1': (0,\n",
       "  None,\n",
       "  'Not enough observations'),\n",
       " 'x3_education==6 & x4_marriage==0 & age_buckets==2': (0,\n",
       "  None,\n",
       "  'Not enough observations'),\n",
       " 'x3_education==0 & x4_marriage==1 & age_buckets==3': (1,\n",
       "  None,\n",
       "  'Not enough observations'),\n",
       " 'x3_education==0 & x4_marriage==1 & age_buckets==1': (0,\n",
       "  None,\n",
       "  'Not enough observations'),\n",
       " 'x3_education==0 & x4_marriage==1 & age_buckets==2': (0,\n",
       "  None,\n",
       "  'Not enough observations'),\n",
       " 'x3_education==0 & x4_marriage==2 & age_buckets==3': (0,\n",
       "  None,\n",
       "  'Not enough observations'),\n",
       " 'x3_education==0 & x4_marriage==2 & age_buckets==1': (0,\n",
       "  None,\n",
       "  'Not enough observations'),\n",
       " 'x3_education==0 & x4_marriage==2 & age_buckets==2': (2,\n",
       "  None,\n",
       "  'Not enough observations'),\n",
       " 'x3_education==0 & x4_marriage==3 & age_buckets==3': (0,\n",
       "  None,\n",
       "  'Not enough observations'),\n",
       " 'x3_education==0 & x4_marriage==3 & age_buckets==1': (0,\n",
       "  None,\n",
       "  'Not enough observations'),\n",
       " 'x3_education==0 & x4_marriage==3 & age_buckets==2': (0,\n",
       "  None,\n",
       "  'Not enough observations'),\n",
       " 'x3_education==0 & x4_marriage==0 & age_buckets==3': (0,\n",
       "  None,\n",
       "  'Not enough observations'),\n",
       " 'x3_education==0 & x4_marriage==0 & age_buckets==1': (0,\n",
       "  None,\n",
       "  'Not enough observations'),\n",
       " 'x3_education==0 & x4_marriage==0 & age_buckets==2': (0,\n",
       "  None,\n",
       "  'Not enough observations')}"
      ]
     },
     "execution_count": 299,
     "metadata": {},
     "output_type": "execute_result"
    }
   ],
   "source": [
    "results"
   ]
  },
  {
   "attachments": {},
   "cell_type": "markdown",
   "id": "5ec89ef6",
   "metadata": {},
   "source": [
    "**UX**:\n",
    "- the application shows the results in two views:\n",
    "    - overall results: all the computed distances\n",
    "    - violations: only the results above the threshold\n",
    "- for both, the user can order the results by number of obs, distance or group name"
   ]
  },
  {
   "cell_type": "code",
   "execution_count": 313,
   "id": "60c28a96",
   "metadata": {},
   "outputs": [
    {
     "data": {
      "text/plain": [
       "{}"
      ]
     },
     "execution_count": 313,
     "metadata": {},
     "output_type": "execute_result"
    }
   ],
   "source": [
    "# selecting only combinations for which the distance is greater than the threshold \n",
    "violations = {k: v for k, v in results.items() if not v[2]}\n",
    "violations"
   ]
  },
  {
   "attachments": {},
   "cell_type": "markdown",
   "id": "ff40c582",
   "metadata": {},
   "source": [
    "- '2: Gender (1 = male; 2 = female).',\n",
    "- '3: Education (1 = graduate school; 2 = university; 3 = high school; 4 = others).',\n",
    "- '4: Marital status (1 = married; 2 = single; 3 = others).'"
   ]
  },
  {
   "cell_type": "code",
   "execution_count": 314,
   "id": "89b9c62a",
   "metadata": {},
   "outputs": [
    {
     "data": {
      "text/plain": [
       "{}"
      ]
     },
     "execution_count": 314,
     "metadata": {},
     "output_type": "execute_result"
    }
   ],
   "source": [
    "# sorting the violations by number of observations belonging to that group\n",
    "dict(sorted(violations.items(), key=lambda item: item[1], reverse=True))"
   ]
  },
  {
   "attachments": {},
   "cell_type": "markdown",
   "id": "a9a1aeee",
   "metadata": {},
   "source": [
    "#### Focus analyses on particular cases\n",
    "Here we want to understand/qualify some specific violation cases.\n",
    "\n",
    "**UX**: \n",
    "- the user selects one of the available violations\n",
    "- the application returns relevant details to help understand what's going on\n",
    "- the user can download the results as csv file. "
   ]
  },
  {
   "cell_type": "code",
   "execution_count": 302,
   "id": "2d43d413",
   "metadata": {},
   "outputs": [
    {
     "data": {
      "text/plain": [
       "([array([0.94252874, 0.05747126]), array([0.83333333, 0.16666667])],\n",
       " [array([82,  5]), array([85, 17])])"
      ]
     },
     "execution_count": 302,
     "metadata": {},
     "output_type": "execute_result"
    }
   ],
   "source": [
    "focus_df = df_with_predictions.query(\"x3_education==3 & x4_marriage==2 & age_buckets==2\")\n",
    "bd.get_frequencies_list(focus_df, 'predictions', \n",
    "                        df_with_predictions.predictions.unique(),\n",
    "                        'x2_sex', df_with_predictions.x2_sex.unique())"
   ]
  },
  {
   "cell_type": "code",
   "execution_count": 303,
   "id": "58690907",
   "metadata": {
    "scrolled": true
   },
   "outputs": [
    {
     "data": {
      "text/plain": [
       "x2_sex  predictions\n",
       "1       0              0.833333\n",
       "        1              0.166667\n",
       "2       0              0.942529\n",
       "        1              0.057471\n",
       "Name: predictions, dtype: float64"
      ]
     },
     "execution_count": 303,
     "metadata": {},
     "output_type": "execute_result"
    }
   ],
   "source": [
    "focus_df.groupby('x2_sex').predictions.value_counts(normalize=True)"
   ]
  },
  {
   "attachments": {},
   "cell_type": "markdown",
   "id": "bd3036b0",
   "metadata": {},
   "source": [
    "## Option 2: distance from reference distribution"
   ]
  },
  {
   "cell_type": "code",
   "execution_count": 304,
   "id": "7f5fe536",
   "metadata": {},
   "outputs": [],
   "source": [
    "bd = FreqVsRefBiasDetector()"
   ]
  },
  {
   "cell_type": "code",
   "execution_count": 305,
   "id": "af19d59d",
   "metadata": {},
   "outputs": [],
   "source": [
    "male_0_ref = 75/100\n",
    "male_1_ref = 25/100\n",
    "\n",
    "female_0_ref = 75/100\n",
    "female_1_ref = 25/100\n",
    "\n",
    "ref_distribution = [np.array([female_0_ref, female_1_ref]), np.array([male_0_ref, male_1_ref])]"
   ]
  },
  {
   "attachments": {},
   "cell_type": "markdown",
   "id": "39ede7a7",
   "metadata": {},
   "source": [
    "### Comparison of the two groups w.r.t. the reference distribution"
   ]
  },
  {
   "cell_type": "code",
   "execution_count": 306,
   "id": "50276f5c",
   "metadata": {},
   "outputs": [
    {
     "data": {
      "text/plain": [
       "([0.11543085607355452, 0.07485260878313427], [False, True], 0.1)"
      ]
     },
     "execution_count": 306,
     "metadata": {},
     "output_type": "execute_result"
    }
   ],
   "source": [
    "bd.compare_root_variable_groups(\n",
    "    dataframe=df_with_predictions,\n",
    "    target_variable='predictions',\n",
    "    root_variable='x2_sex',\n",
    "    threshold=0.1,\n",
    "    reference_distribution=ref_distribution\n",
    ")"
   ]
  },
  {
   "attachments": {},
   "cell_type": "markdown",
   "id": "20582d77",
   "metadata": {},
   "source": [
    "### Comparison of the two groups w.r.t. the reference distribution conditioning to other features"
   ]
  },
  {
   "cell_type": "code",
   "execution_count": 307,
   "id": "cd97b622",
   "metadata": {},
   "outputs": [],
   "source": [
    "results = bd.compare_root_variable_conditioned_groups(\n",
    "    dataframe=df_with_predictions,\n",
    "    target_variable='predictions',\n",
    "    root_variable='x2_sex',\n",
    "    conditioning_variables=conditioning_variables,\n",
    "    threshold=0.1,\n",
    "    min_obs_per_group=30,\n",
    "    reference_distribution=ref_distribution)"
   ]
  },
  {
   "cell_type": "code",
   "execution_count": 308,
   "id": "22ebf10b",
   "metadata": {},
   "outputs": [
    {
     "data": {
      "text/plain": [
       "{'x3_education==1': (3119,\n",
       "  [0.19953637846872263, 0.15292885987559768],\n",
       "  [False, False],\n",
       "  0.1),\n",
       " 'x3_education==3': (1499,\n",
       "  [0.06683511671201015, 0.03232914493273209],\n",
       "  [True, True],\n",
       "  0.1),\n",
       " 'x3_education==2': (4250,\n",
       "  [0.08642530432448603, 0.04817486426708861],\n",
       "  [True, True],\n",
       "  0.1),\n",
       " 'x3_education==4': (40, [1.0, 1.0], [False, False], 0.1),\n",
       " 'x3_education==5': (75,\n",
       "  [0.38832031424465063, 0.14386916131129301],\n",
       "  [False, False],\n",
       "  0.1),\n",
       " 'x3_education==6': (14, None, 'Not enough observations'),\n",
       " 'x3_education==0': (3, None, 'Not enough observations'),\n",
       " 'x4_marriage==1': (4065,\n",
       "  [0.10973782259615394, 0.07892104655259335],\n",
       "  [False, True],\n",
       "  0.1),\n",
       " 'x4_marriage==2': (4822,\n",
       "  [0.12158030611282034, 0.07082922204298259],\n",
       "  [False, True],\n",
       "  0.1),\n",
       " 'x4_marriage==3': (95,\n",
       "  [0.0516801997479408, 0.13547714823554813],\n",
       "  [True, False],\n",
       "  0.1),\n",
       " 'x4_marriage==0': (18, None, 'Not enough observations'),\n",
       " 'age_buckets==3': (2727,\n",
       "  [0.10037160327202987, 0.07325935937033368],\n",
       "  [False, True],\n",
       "  0.1),\n",
       " 'age_buckets==1': (2895,\n",
       "  [0.08225748933880583, 0.06936034394997781],\n",
       "  [True, True],\n",
       "  0.1),\n",
       " 'age_buckets==2': (3378,\n",
       "  [0.17187679217619678, 0.08024299977384175],\n",
       "  [False, True],\n",
       "  0.1),\n",
       " 'x3_education==1 & x4_marriage==1': (1106,\n",
       "  [0.23477269281627888, 0.1732719966909978],\n",
       "  [False, False],\n",
       "  0.1),\n",
       " 'x3_education==1 & x4_marriage==2': (2002,\n",
       "  [0.18238653638283597, 0.14048573698048983],\n",
       "  [False, False],\n",
       "  0.1),\n",
       " 'x3_education==1 & x4_marriage==3': (10, None, 'Not enough observations'),\n",
       " 'x3_education==1 & x4_marriage==0': (1, None, 'Not enough observations'),\n",
       " 'x3_education==3 & x4_marriage==1': (842,\n",
       "  [0.0542437745936738, 0.025459296299707113],\n",
       "  [True, True],\n",
       "  0.1),\n",
       " 'x3_education==3 & x4_marriage==2': (616,\n",
       "  [0.0878914610505439, 0.03740244614849941],\n",
       "  [True, True],\n",
       "  0.1),\n",
       " 'x3_education==3 & x4_marriage==3': (26, None, 'Not enough observations'),\n",
       " 'x3_education==3 & x4_marriage==0': (15, None, 'Not enough observations'),\n",
       " 'x3_education==2 & x4_marriage==1': (2047,\n",
       "  [0.09071252610451264, 0.058744690460890925],\n",
       "  [True, True],\n",
       "  0.1),\n",
       " 'x3_education==2 & x4_marriage==2': (2145,\n",
       "  [0.08348941719684133, 0.03990419086868702],\n",
       "  [True, True],\n",
       "  0.1),\n",
       " 'x3_education==2 & x4_marriage==3': (56,\n",
       "  [0.03883931509420646, 0.09799953370078163],\n",
       "  [True, True],\n",
       "  0.1),\n",
       " 'x3_education==2 & x4_marriage==0': (2, None, 'Not enough observations'),\n",
       " 'x3_education==4 & x4_marriage==1': (17, None, 'Not enough observations'),\n",
       " 'x3_education==4 & x4_marriage==2': (21, None, 'Not enough observations'),\n",
       " 'x3_education==4 & x4_marriage==3': (2, None, 'Not enough observations'),\n",
       " 'x3_education==4 & x4_marriage==0': (0, None, 'Not enough observations'),\n",
       " 'x3_education==5 & x4_marriage==1': (45,\n",
       "  [0.31635629023563394, 1.0],\n",
       "  [False, False],\n",
       "  0.1),\n",
       " 'x3_education==5 & x4_marriage==2': (29, None, 'Not enough observations'),\n",
       " 'x3_education==5 & x4_marriage==3': (1, None, 'Not enough observations'),\n",
       " 'x3_education==5 & x4_marriage==0': (0, None, 'Not enough observations'),\n",
       " 'x3_education==6 & x4_marriage==1': (7, None, 'Not enough observations'),\n",
       " 'x3_education==6 & x4_marriage==2': (7, None, 'Not enough observations'),\n",
       " 'x3_education==6 & x4_marriage==3': (0, None, 'Not enough observations'),\n",
       " 'x3_education==6 & x4_marriage==0': (0, None, 'Not enough observations'),\n",
       " 'x3_education==0 & x4_marriage==1': (1, None, 'Not enough observations'),\n",
       " 'x3_education==0 & x4_marriage==2': (2, None, 'Not enough observations'),\n",
       " 'x3_education==0 & x4_marriage==3': (0, None, 'Not enough observations'),\n",
       " 'x3_education==0 & x4_marriage==0': (0, None, 'Not enough observations'),\n",
       " 'x3_education==1 & age_buckets==3': (710,\n",
       "  [0.1471246859838381, 0.13338674155660446],\n",
       "  [False, False],\n",
       "  0.1),\n",
       " 'x3_education==1 & age_buckets==1': (1070,\n",
       "  [0.17495557655939997, 0.16013503636193915],\n",
       "  [False, False],\n",
       "  0.1),\n",
       " 'x3_education==1 & age_buckets==2': (1339,\n",
       "  [0.258746576414592, 0.1615517332532561],\n",
       "  [False, False],\n",
       "  0.1),\n",
       " 'x3_education==3 & age_buckets==3': (783,\n",
       "  [0.06603185645724341, 0.02596174880315083],\n",
       "  [True, True],\n",
       "  0.1),\n",
       " 'x3_education==3 & age_buckets==1': (281,\n",
       "  [0.027236976969055027, 0.07387416862412732],\n",
       "  [True, True],\n",
       "  0.1),\n",
       " 'x3_education==3 & age_buckets==2': (435,\n",
       "  [0.10798092343850008, 0.024503395249435456],\n",
       "  [False, True],\n",
       "  0.1),\n",
       " 'x3_education==2 & age_buckets==3': (1180,\n",
       "  [0.09956218138552386, 0.07387416862412732],\n",
       "  [True, True],\n",
       "  0.1),\n",
       " 'x3_education==2 & age_buckets==1': (1502,\n",
       "  [0.046438286827650166, 0.02909174620371746],\n",
       "  [True, True],\n",
       "  0.1),\n",
       " 'x3_education==2 & age_buckets==2': (1568,\n",
       "  [0.13547714823554813, 0.04872048847620669],\n",
       "  [False, True],\n",
       "  0.1),\n",
       " 'x3_education==4 & age_buckets==3': (13, None, 'Not enough observations'),\n",
       " 'x3_education==4 & age_buckets==1': (15, None, 'Not enough observations'),\n",
       " 'x3_education==4 & age_buckets==2': (12, None, 'Not enough observations'),\n",
       " 'x3_education==5 & age_buckets==3': (28, None, 'Not enough observations'),\n",
       " 'x3_education==5 & age_buckets==1': (26, None, 'Not enough observations'),\n",
       " 'x3_education==5 & age_buckets==2': (21, None, 'Not enough observations'),\n",
       " 'x3_education==6 & age_buckets==3': (12, None, 'Not enough observations'),\n",
       " 'x3_education==6 & age_buckets==1': (1, None, 'Not enough observations'),\n",
       " 'x3_education==6 & age_buckets==2': (1, None, 'Not enough observations'),\n",
       " 'x3_education==0 & age_buckets==3': (1, None, 'Not enough observations'),\n",
       " 'x3_education==0 & age_buckets==1': (0, None, 'Not enough observations'),\n",
       " 'x3_education==0 & age_buckets==2': (2, None, 'Not enough observations'),\n",
       " 'x4_marriage==1 & age_buckets==3': (1973,\n",
       "  [0.11072108256045687, 0.0812604399821707],\n",
       "  [False, True],\n",
       "  0.1),\n",
       " 'x4_marriage==1 & age_buckets==1': (433,\n",
       "  [0.040375459040352224, 0.06257474008761932],\n",
       "  [True, True],\n",
       "  0.1),\n",
       " 'x4_marriage==1 & age_buckets==2': (1659,\n",
       "  [0.14211423589100192, 0.07801522953266815],\n",
       "  [False, True],\n",
       "  0.1),\n",
       " 'x4_marriage==2 & age_buckets==3': (682,\n",
       "  [0.08237228182324496, 0.05048600676880499],\n",
       "  [True, True],\n",
       "  0.1),\n",
       " 'x4_marriage==2 & age_buckets==1': (2450,\n",
       "  [0.09346933403978896, 0.06922714263843677],\n",
       "  [True, True],\n",
       "  0.1),\n",
       " 'x4_marriage==2 & age_buckets==2': (1690,\n",
       "  [0.21518805556014753, 0.0812200872098191],\n",
       "  [False, True],\n",
       "  0.1),\n",
       " 'x4_marriage==3 & age_buckets==3': (67,\n",
       "  [0.024880800585696417, 0.09799953370078163],\n",
       "  [True, True],\n",
       "  0.1),\n",
       " 'x4_marriage==3 & age_buckets==1': (9, None, 'Not enough observations'),\n",
       " 'x4_marriage==3 & age_buckets==2': (19, None, 'Not enough observations'),\n",
       " 'x4_marriage==0 & age_buckets==3': (5, None, 'Not enough observations'),\n",
       " 'x4_marriage==0 & age_buckets==1': (3, None, 'Not enough observations'),\n",
       " 'x4_marriage==0 & age_buckets==2': (10, None, 'Not enough observations'),\n",
       " 'x3_education==1 & x4_marriage==1 & age_buckets==3': (530,\n",
       "  [0.1950497282269018, 0.1340999764465297],\n",
       "  [False, False],\n",
       "  0.1),\n",
       " 'x3_education==1 & x4_marriage==1 & age_buckets==1': (57,\n",
       "  [0.24937447523334666, 0.2054373061899063],\n",
       "  [False, False],\n",
       "  0.1),\n",
       " 'x3_education==1 & x4_marriage==1 & age_buckets==2': (519,\n",
       "  [0.26988105346579405, 0.24071819959656482],\n",
       "  [False, False],\n",
       "  0.1),\n",
       " 'x3_education==1 & x4_marriage==2 & age_buckets==3': (174,\n",
       "  [0.05601453155910385, 0.12217857127436904],\n",
       "  [True, False],\n",
       "  0.1),\n",
       " 'x3_education==1 & x4_marriage==2 & age_buckets==1': (1013,\n",
       "  [0.17116707650967022, 0.158197700478802],\n",
       "  [False, False],\n",
       "  0.1),\n",
       " 'x3_education==1 & x4_marriage==2 & age_buckets==2': (815,\n",
       "  [0.24917461468590718, 0.130164635271804],\n",
       "  [False, False],\n",
       "  0.1),\n",
       " 'x3_education==1 & x4_marriage==3 & age_buckets==3': (6,\n",
       "  None,\n",
       "  'Not enough observations'),\n",
       " 'x3_education==1 & x4_marriage==3 & age_buckets==1': (0,\n",
       "  None,\n",
       "  'Not enough observations'),\n",
       " 'x3_education==1 & x4_marriage==3 & age_buckets==2': (4,\n",
       "  None,\n",
       "  'Not enough observations'),\n",
       " 'x3_education==1 & x4_marriage==0 & age_buckets==3': (0,\n",
       "  None,\n",
       "  'Not enough observations'),\n",
       " 'x3_education==1 & x4_marriage==0 & age_buckets==1': (0,\n",
       "  None,\n",
       "  'Not enough observations'),\n",
       " 'x3_education==1 & x4_marriage==0 & age_buckets==2': (1,\n",
       "  None,\n",
       "  'Not enough observations'),\n",
       " 'x3_education==3 & x4_marriage==1 & age_buckets==3': (540,\n",
       "  [0.06412355341958187, 0.02935811486939932],\n",
       "  [True, True],\n",
       "  0.1),\n",
       " 'x3_education==3 & x4_marriage==1 & age_buckets==1': (66,\n",
       "  [0.008971687168701226, 0.031231455892820725],\n",
       "  [True, True],\n",
       "  0.1),\n",
       " 'x3_education==3 & x4_marriage==1 & age_buckets==2': (236,\n",
       "  [0.05862098841698338, 0.016444525361381523],\n",
       "  [True, True],\n",
       "  0.1),\n",
       " 'x3_education==3 & x4_marriage==2 & age_buckets==3': (215,\n",
       "  [0.07827485603926843, 0.0146655618727779],\n",
       "  [True, True],\n",
       "  0.1),\n",
       " 'x3_education==3 & x4_marriage==2 & age_buckets==1': (212,\n",
       "  [0.03793733399487209, 0.07849898256481413],\n",
       "  [True, True],\n",
       "  0.1),\n",
       " 'x3_education==3 & x4_marriage==2 & age_buckets==2': (189,\n",
       "  [0.22058852462566592, 0.031231455892820725],\n",
       "  [False, True],\n",
       "  0.1),\n",
       " 'x3_education==3 & x4_marriage==3 & age_buckets==3': (23,\n",
       "  None,\n",
       "  'Not enough observations'),\n",
       " 'x3_education==3 & x4_marriage==3 & age_buckets==1': (1,\n",
       "  None,\n",
       "  'Not enough observations'),\n",
       " 'x3_education==3 & x4_marriage==3 & age_buckets==2': (2,\n",
       "  None,\n",
       "  'Not enough observations'),\n",
       " 'x3_education==3 & x4_marriage==0 & age_buckets==3': (5,\n",
       "  None,\n",
       "  'Not enough observations'),\n",
       " 'x3_education==3 & x4_marriage==0 & age_buckets==1': (2,\n",
       "  None,\n",
       "  'Not enough observations'),\n",
       " 'x3_education==3 & x4_marriage==0 & age_buckets==2': (8,\n",
       "  None,\n",
       "  'Not enough observations'),\n",
       " 'x3_education==2 & x4_marriage==1 & age_buckets==3': (865,\n",
       "  [0.10375409673501168, 0.08148562095001177],\n",
       "  [False, True],\n",
       "  0.1),\n",
       " 'x3_education==2 & x4_marriage==1 & age_buckets==1': (298,\n",
       "  [0.02856002140306846, 0.0397990351484504],\n",
       "  [True, True],\n",
       "  0.1),\n",
       " 'x3_education==2 & x4_marriage==1 & age_buckets==2': (884,\n",
       "  [0.11819278221903518, 0.04096455117845477],\n",
       "  [False, True],\n",
       "  0.1),\n",
       " 'x3_education==2 & x4_marriage==2 & age_buckets==3': (278,\n",
       "  [0.10248703452248398, 0.0542437745936738],\n",
       "  [False, True],\n",
       "  0.1),\n",
       " 'x3_education==2 & x4_marriage==2 & age_buckets==1': (1196,\n",
       "  [0.05212748177319382, 0.027403581128578214],\n",
       "  [True, True],\n",
       "  0.1),\n",
       " 'x3_education==2 & x4_marriage==2 & age_buckets==2': (671,\n",
       "  [0.17457523261767371, 0.05628963644538598],\n",
       "  [False, True],\n",
       "  0.1),\n",
       " 'x3_education==2 & x4_marriage==3 & age_buckets==3': (37,\n",
       "  [0.020289551693319696, 0.06566740141635952],\n",
       "  [True, True],\n",
       "  0.1),\n",
       " 'x3_education==2 & x4_marriage==3 & age_buckets==1': (7,\n",
       "  None,\n",
       "  'Not enough observations'),\n",
       " 'x3_education==2 & x4_marriage==3 & age_buckets==2': (12,\n",
       "  None,\n",
       "  'Not enough observations'),\n",
       " 'x3_education==2 & x4_marriage==0 & age_buckets==3': (0,\n",
       "  None,\n",
       "  'Not enough observations'),\n",
       " 'x3_education==2 & x4_marriage==0 & age_buckets==1': (1,\n",
       "  None,\n",
       "  'Not enough observations'),\n",
       " 'x3_education==2 & x4_marriage==0 & age_buckets==2': (1,\n",
       "  None,\n",
       "  'Not enough observations'),\n",
       " 'x3_education==4 & x4_marriage==1 & age_buckets==3': (9,\n",
       "  None,\n",
       "  'Not enough observations'),\n",
       " 'x3_education==4 & x4_marriage==1 & age_buckets==1': (2,\n",
       "  None,\n",
       "  'Not enough observations'),\n",
       " 'x3_education==4 & x4_marriage==1 & age_buckets==2': (6,\n",
       "  None,\n",
       "  'Not enough observations'),\n",
       " 'x3_education==4 & x4_marriage==2 & age_buckets==3': (3,\n",
       "  None,\n",
       "  'Not enough observations'),\n",
       " 'x3_education==4 & x4_marriage==2 & age_buckets==1': (12,\n",
       "  None,\n",
       "  'Not enough observations'),\n",
       " 'x3_education==4 & x4_marriage==2 & age_buckets==2': (6,\n",
       "  None,\n",
       "  'Not enough observations'),\n",
       " 'x3_education==4 & x4_marriage==3 & age_buckets==3': (1,\n",
       "  None,\n",
       "  'Not enough observations'),\n",
       " 'x3_education==4 & x4_marriage==3 & age_buckets==1': (1,\n",
       "  None,\n",
       "  'Not enough observations'),\n",
       " 'x3_education==4 & x4_marriage==3 & age_buckets==2': (0,\n",
       "  None,\n",
       "  'Not enough observations'),\n",
       " 'x3_education==4 & x4_marriage==0 & age_buckets==3': (0,\n",
       "  None,\n",
       "  'Not enough observations'),\n",
       " 'x3_education==4 & x4_marriage==0 & age_buckets==1': (0,\n",
       "  None,\n",
       "  'Not enough observations'),\n",
       " 'x3_education==4 & x4_marriage==0 & age_buckets==2': (0,\n",
       "  None,\n",
       "  'Not enough observations'),\n",
       " 'x3_education==5 & x4_marriage==1 & age_buckets==3': (22,\n",
       "  None,\n",
       "  'Not enough observations'),\n",
       " 'x3_education==5 & x4_marriage==1 & age_buckets==1': (10,\n",
       "  None,\n",
       "  'Not enough observations'),\n",
       " 'x3_education==5 & x4_marriage==1 & age_buckets==2': (13,\n",
       "  None,\n",
       "  'Not enough observations'),\n",
       " 'x3_education==5 & x4_marriage==2 & age_buckets==3': (6,\n",
       "  None,\n",
       "  'Not enough observations'),\n",
       " 'x3_education==5 & x4_marriage==2 & age_buckets==1': (16,\n",
       "  None,\n",
       "  'Not enough observations'),\n",
       " 'x3_education==5 & x4_marriage==2 & age_buckets==2': (7,\n",
       "  None,\n",
       "  'Not enough observations'),\n",
       " 'x3_education==5 & x4_marriage==3 & age_buckets==3': (0,\n",
       "  None,\n",
       "  'Not enough observations'),\n",
       " 'x3_education==5 & x4_marriage==3 & age_buckets==1': (0,\n",
       "  None,\n",
       "  'Not enough observations'),\n",
       " 'x3_education==5 & x4_marriage==3 & age_buckets==2': (1,\n",
       "  None,\n",
       "  'Not enough observations'),\n",
       " 'x3_education==5 & x4_marriage==0 & age_buckets==3': (0,\n",
       "  None,\n",
       "  'Not enough observations'),\n",
       " 'x3_education==5 & x4_marriage==0 & age_buckets==1': (0,\n",
       "  None,\n",
       "  'Not enough observations'),\n",
       " 'x3_education==5 & x4_marriage==0 & age_buckets==2': (0,\n",
       "  None,\n",
       "  'Not enough observations'),\n",
       " 'x3_education==6 & x4_marriage==1 & age_buckets==3': (6,\n",
       "  None,\n",
       "  'Not enough observations'),\n",
       " 'x3_education==6 & x4_marriage==1 & age_buckets==1': (0,\n",
       "  None,\n",
       "  'Not enough observations'),\n",
       " 'x3_education==6 & x4_marriage==1 & age_buckets==2': (1,\n",
       "  None,\n",
       "  'Not enough observations'),\n",
       " 'x3_education==6 & x4_marriage==2 & age_buckets==3': (6,\n",
       "  None,\n",
       "  'Not enough observations'),\n",
       " 'x3_education==6 & x4_marriage==2 & age_buckets==1': (1,\n",
       "  None,\n",
       "  'Not enough observations'),\n",
       " 'x3_education==6 & x4_marriage==2 & age_buckets==2': (0,\n",
       "  None,\n",
       "  'Not enough observations'),\n",
       " 'x3_education==6 & x4_marriage==3 & age_buckets==3': (0,\n",
       "  None,\n",
       "  'Not enough observations'),\n",
       " 'x3_education==6 & x4_marriage==3 & age_buckets==1': (0,\n",
       "  None,\n",
       "  'Not enough observations'),\n",
       " 'x3_education==6 & x4_marriage==3 & age_buckets==2': (0,\n",
       "  None,\n",
       "  'Not enough observations'),\n",
       " 'x3_education==6 & x4_marriage==0 & age_buckets==3': (0,\n",
       "  None,\n",
       "  'Not enough observations'),\n",
       " 'x3_education==6 & x4_marriage==0 & age_buckets==1': (0,\n",
       "  None,\n",
       "  'Not enough observations'),\n",
       " 'x3_education==6 & x4_marriage==0 & age_buckets==2': (0,\n",
       "  None,\n",
       "  'Not enough observations'),\n",
       " 'x3_education==0 & x4_marriage==1 & age_buckets==3': (1,\n",
       "  None,\n",
       "  'Not enough observations'),\n",
       " 'x3_education==0 & x4_marriage==1 & age_buckets==1': (0,\n",
       "  None,\n",
       "  'Not enough observations'),\n",
       " 'x3_education==0 & x4_marriage==1 & age_buckets==2': (0,\n",
       "  None,\n",
       "  'Not enough observations'),\n",
       " 'x3_education==0 & x4_marriage==2 & age_buckets==3': (0,\n",
       "  None,\n",
       "  'Not enough observations'),\n",
       " 'x3_education==0 & x4_marriage==2 & age_buckets==1': (0,\n",
       "  None,\n",
       "  'Not enough observations'),\n",
       " 'x3_education==0 & x4_marriage==2 & age_buckets==2': (2,\n",
       "  None,\n",
       "  'Not enough observations'),\n",
       " 'x3_education==0 & x4_marriage==3 & age_buckets==3': (0,\n",
       "  None,\n",
       "  'Not enough observations'),\n",
       " 'x3_education==0 & x4_marriage==3 & age_buckets==1': (0,\n",
       "  None,\n",
       "  'Not enough observations'),\n",
       " 'x3_education==0 & x4_marriage==3 & age_buckets==2': (0,\n",
       "  None,\n",
       "  'Not enough observations'),\n",
       " 'x3_education==0 & x4_marriage==0 & age_buckets==3': (0,\n",
       "  None,\n",
       "  'Not enough observations'),\n",
       " 'x3_education==0 & x4_marriage==0 & age_buckets==1': (0,\n",
       "  None,\n",
       "  'Not enough observations'),\n",
       " 'x3_education==0 & x4_marriage==0 & age_buckets==2': (0,\n",
       "  None,\n",
       "  'Not enough observations')}"
      ]
     },
     "execution_count": 308,
     "metadata": {},
     "output_type": "execute_result"
    }
   ],
   "source": [
    "results"
   ]
  },
  {
   "cell_type": "code",
   "execution_count": 309,
   "id": "d101c5b4",
   "metadata": {},
   "outputs": [],
   "source": [
    "# selecting only combinations for which the distance is greater than the threshold \n",
    "violations = {k: v for k, v in results.items() if (not v[2][0] or not v[2][1])}"
   ]
  },
  {
   "cell_type": "code",
   "execution_count": 310,
   "id": "43df5a75",
   "metadata": {
    "scrolled": true
   },
   "outputs": [
    {
     "data": {
      "text/plain": [
       "{'x3_education==1': (3119,\n",
       "  [0.19953637846872263, 0.15292885987559768],\n",
       "  [False, False],\n",
       "  0.1),\n",
       " 'x3_education==4': (40, [1.0, 1.0], [False, False], 0.1),\n",
       " 'x3_education==5': (75,\n",
       "  [0.38832031424465063, 0.14386916131129301],\n",
       "  [False, False],\n",
       "  0.1),\n",
       " 'x4_marriage==1': (4065,\n",
       "  [0.10973782259615394, 0.07892104655259335],\n",
       "  [False, True],\n",
       "  0.1),\n",
       " 'x4_marriage==2': (4822,\n",
       "  [0.12158030611282034, 0.07082922204298259],\n",
       "  [False, True],\n",
       "  0.1),\n",
       " 'x4_marriage==3': (95,\n",
       "  [0.0516801997479408, 0.13547714823554813],\n",
       "  [True, False],\n",
       "  0.1),\n",
       " 'age_buckets==3': (2727,\n",
       "  [0.10037160327202987, 0.07325935937033368],\n",
       "  [False, True],\n",
       "  0.1),\n",
       " 'age_buckets==2': (3378,\n",
       "  [0.17187679217619678, 0.08024299977384175],\n",
       "  [False, True],\n",
       "  0.1),\n",
       " 'x3_education==1 & x4_marriage==1': (1106,\n",
       "  [0.23477269281627888, 0.1732719966909978],\n",
       "  [False, False],\n",
       "  0.1),\n",
       " 'x3_education==1 & x4_marriage==2': (2002,\n",
       "  [0.18238653638283597, 0.14048573698048983],\n",
       "  [False, False],\n",
       "  0.1),\n",
       " 'x3_education==5 & x4_marriage==1': (45,\n",
       "  [0.31635629023563394, 1.0],\n",
       "  [False, False],\n",
       "  0.1),\n",
       " 'x3_education==1 & age_buckets==3': (710,\n",
       "  [0.1471246859838381, 0.13338674155660446],\n",
       "  [False, False],\n",
       "  0.1),\n",
       " 'x3_education==1 & age_buckets==1': (1070,\n",
       "  [0.17495557655939997, 0.16013503636193915],\n",
       "  [False, False],\n",
       "  0.1),\n",
       " 'x3_education==1 & age_buckets==2': (1339,\n",
       "  [0.258746576414592, 0.1615517332532561],\n",
       "  [False, False],\n",
       "  0.1),\n",
       " 'x3_education==3 & age_buckets==2': (435,\n",
       "  [0.10798092343850008, 0.024503395249435456],\n",
       "  [False, True],\n",
       "  0.1),\n",
       " 'x3_education==2 & age_buckets==2': (1568,\n",
       "  [0.13547714823554813, 0.04872048847620669],\n",
       "  [False, True],\n",
       "  0.1),\n",
       " 'x4_marriage==1 & age_buckets==3': (1973,\n",
       "  [0.11072108256045687, 0.0812604399821707],\n",
       "  [False, True],\n",
       "  0.1),\n",
       " 'x4_marriage==1 & age_buckets==2': (1659,\n",
       "  [0.14211423589100192, 0.07801522953266815],\n",
       "  [False, True],\n",
       "  0.1),\n",
       " 'x4_marriage==2 & age_buckets==2': (1690,\n",
       "  [0.21518805556014753, 0.0812200872098191],\n",
       "  [False, True],\n",
       "  0.1),\n",
       " 'x3_education==1 & x4_marriage==1 & age_buckets==3': (530,\n",
       "  [0.1950497282269018, 0.1340999764465297],\n",
       "  [False, False],\n",
       "  0.1),\n",
       " 'x3_education==1 & x4_marriage==1 & age_buckets==1': (57,\n",
       "  [0.24937447523334666, 0.2054373061899063],\n",
       "  [False, False],\n",
       "  0.1),\n",
       " 'x3_education==1 & x4_marriage==1 & age_buckets==2': (519,\n",
       "  [0.26988105346579405, 0.24071819959656482],\n",
       "  [False, False],\n",
       "  0.1),\n",
       " 'x3_education==1 & x4_marriage==2 & age_buckets==3': (174,\n",
       "  [0.05601453155910385, 0.12217857127436904],\n",
       "  [True, False],\n",
       "  0.1),\n",
       " 'x3_education==1 & x4_marriage==2 & age_buckets==1': (1013,\n",
       "  [0.17116707650967022, 0.158197700478802],\n",
       "  [False, False],\n",
       "  0.1),\n",
       " 'x3_education==1 & x4_marriage==2 & age_buckets==2': (815,\n",
       "  [0.24917461468590718, 0.130164635271804],\n",
       "  [False, False],\n",
       "  0.1),\n",
       " 'x3_education==3 & x4_marriage==2 & age_buckets==2': (189,\n",
       "  [0.22058852462566592, 0.031231455892820725],\n",
       "  [False, True],\n",
       "  0.1),\n",
       " 'x3_education==2 & x4_marriage==1 & age_buckets==3': (865,\n",
       "  [0.10375409673501168, 0.08148562095001177],\n",
       "  [False, True],\n",
       "  0.1),\n",
       " 'x3_education==2 & x4_marriage==1 & age_buckets==2': (884,\n",
       "  [0.11819278221903518, 0.04096455117845477],\n",
       "  [False, True],\n",
       "  0.1),\n",
       " 'x3_education==2 & x4_marriage==2 & age_buckets==3': (278,\n",
       "  [0.10248703452248398, 0.0542437745936738],\n",
       "  [False, True],\n",
       "  0.1),\n",
       " 'x3_education==2 & x4_marriage==2 & age_buckets==2': (671,\n",
       "  [0.17457523261767371, 0.05628963644538598],\n",
       "  [False, True],\n",
       "  0.1)}"
      ]
     },
     "execution_count": 310,
     "metadata": {},
     "output_type": "execute_result"
    }
   ],
   "source": [
    "violations"
   ]
  },
  {
   "cell_type": "code",
   "execution_count": null,
   "id": "3e7e915f",
   "metadata": {},
   "outputs": [],
   "source": []
  }
 ],
 "metadata": {
  "kernelspec": {
   "display_name": "Python 3 (ipykernel)",
   "language": "python",
   "name": "python3"
  },
  "language_info": {
   "codemirror_mode": {
    "name": "ipython",
    "version": 3
   },
   "file_extension": ".py",
   "mimetype": "text/x-python",
   "name": "python",
   "nbconvert_exporter": "python",
   "pygments_lexer": "ipython3",
   "version": "3.10.12"
  }
 },
 "nbformat": 4,
 "nbformat_minor": 5
}
