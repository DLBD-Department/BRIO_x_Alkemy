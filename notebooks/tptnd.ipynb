{
 "cells": [
  {
   "cell_type": "code",
   "execution_count": 10,
   "metadata": {},
   "outputs": [],
   "source": [
    "# REMINDER: USE ENVIRONMENT \"alkemy\"\n",
    "%reset -s -f\n",
    "import logging\n",
    "import os\n",
    "\n",
    "import torch\n",
    "import numpy as np\n",
    "import pandas as pd\n",
    "import seaborn as sns\n",
    "import matplotlib.pyplot as plt\n",
    "\n",
    "import pyro"
   ]
  },
  {
   "cell_type": "code",
   "execution_count": 11,
   "metadata": {},
   "outputs": [],
   "source": [
    "smoke_test = ('CI' in os.environ)\n",
    "assert pyro.__version__.startswith('1.8.3')\n",
    "\n",
    "pyro.enable_validation(True)\n",
    "pyro.set_rng_seed(1)\n",
    "logging.basicConfig(format='%(message)s', level=logging.INFO)\n",
    "\n",
    "# Set matplotlib settings\n",
    "%matplotlib inline\n",
    "plt.style.use('default')"
   ]
  },
  {
   "cell_type": "code",
   "execution_count": 12,
   "metadata": {},
   "outputs": [
    {
     "name": "stdout",
     "output_type": "stream",
     "text": [
      "10 Bernoulli trials:\n",
      "tensor(0.)\n",
      "tensor(1.)\n",
      "tensor(1.)\n",
      "tensor(0.)\n",
      "tensor(1.)\n",
      "tensor(0.)\n",
      "tensor(1.)\n",
      "tensor(0.)\n",
      "tensor(1.)\n",
      "tensor(1.)\n",
      "\n",
      "Binomial(10,0.7):\n",
      "tensor(8.)\n"
     ]
    }
   ],
   "source": [
    "import pyro.distributions as dist\n",
    "print(\"10 Bernoulli trials:\")\n",
    "print( dist.Bernoulli(0.7).sample() )\n",
    "print( dist.Bernoulli(0.7).sample() )\n",
    "print( dist.Bernoulli(0.7).sample() )\n",
    "print( dist.Bernoulli(0.7).sample() )\n",
    "print( dist.Bernoulli(0.7).sample() )\n",
    "print( dist.Bernoulli(0.7).sample() )\n",
    "print( dist.Bernoulli(0.7).sample() )\n",
    "print( dist.Bernoulli(0.7).sample() )\n",
    "print( dist.Bernoulli(0.7).sample() )\n",
    "print( dist.Bernoulli(0.7).sample() )\n",
    "\n",
    "print(\"\\nBinomial(10,0.7):\")\n",
    "print( dist.Binomial(10,0.7).sample() )"
   ]
  },
  {
   "cell_type": "code",
   "execution_count": 13,
   "metadata": {},
   "outputs": [
    {
     "data": {
      "text/plain": [
       "[tensor(1.),\n",
       " tensor(1.),\n",
       " tensor(0.),\n",
       " tensor(1.),\n",
       " tensor(1.),\n",
       " tensor(1.),\n",
       " tensor(1.),\n",
       " tensor(1.),\n",
       " tensor(1.),\n",
       " tensor(1.)]"
      ]
     },
     "execution_count": 13,
     "metadata": {},
     "output_type": "execute_result"
    }
   ],
   "source": [
    "list(map( lambda x: pyro.sample(\"actualSample\",x), # Sample from\n",
    "    list(map(lambda x: dist.Bernoulli(x), [0.7]*10 )) # <{ 0 3/10, 1 7/10 }, { 0 3/10, 1 7/10 }, { 0 3/10, 1 7/10 }, { 0 3/10, 1 7/10 }, { 0 3/10, 1 7/10 }, { 0 3/10, 1 7/10 }, { 0 3/10, 1 7/10 }, { 0 3/10, 1 7/10 }, { 0 3/10, 1 7/10 }, { 0 3/10, 1 7/10 }>\n",
    "))"
   ]
  },
  {
   "cell_type": "code",
   "execution_count": 14,
   "metadata": {},
   "outputs": [
    {
     "name": "stdout",
     "output_type": "stream",
     "text": [
      "Black box: \n",
      " [tensor(1.), tensor(1.), tensor(1.), tensor(0.), tensor(1.), tensor(0.), tensor(0.), tensor(1.), tensor(1.), tensor(1.), tensor(0.), tensor(1.), tensor(1.), tensor(1.), tensor(0.), tensor(1.), tensor(0.), tensor(1.), tensor(1.), tensor(1.), tensor(1.), tensor(1.), tensor(1.), tensor(1.), tensor(1.), tensor(1.), tensor(1.), tensor(1.), tensor(0.), tensor(0.), tensor(1.), tensor(1.), tensor(0.), tensor(1.), tensor(1.), tensor(0.), tensor(0.), tensor(0.), tensor(1.), tensor(1.), tensor(1.), tensor(1.), tensor(1.), tensor(1.), tensor(1.), tensor(1.), tensor(1.), tensor(1.), tensor(1.), tensor(1.), tensor(1.), tensor(1.), tensor(1.), tensor(1.), tensor(1.), tensor(1.), tensor(1.), tensor(1.), tensor(1.), tensor(1.), tensor(1.), tensor(0.), tensor(1.), tensor(1.), tensor(1.), tensor(1.), tensor(1.), tensor(1.), tensor(1.), tensor(1.), tensor(1.), tensor(1.), tensor(1.), tensor(1.), tensor(0.), tensor(1.), tensor(1.), tensor(1.), tensor(1.), tensor(1.), tensor(0.), tensor(1.), tensor(0.), tensor(1.), tensor(1.), tensor(0.), tensor(0.), tensor(1.), tensor(1.), tensor(0.), tensor(0.), tensor(0.), tensor(1.), tensor(1.), tensor(1.), tensor(1.), tensor(0.), tensor(1.), tensor(1.), tensor(1.)]\n",
      "Class 0: tensor(0.2200)\n",
      "Class 1: tensor(0.7800)\n",
      "Distance between frequency and reference: tensor(0.0800)\n",
      "Does the black box approximate the reference distribution? tensor(True)\n"
     ]
    }
   ],
   "source": [
    "n = 100\n",
    "\n",
    "# Let's say that the reference distribution is precisely\n",
    "# <{ 0 3/10, 1 7/10 }, { 0 3/10, 1 7/10 }, { 0 3/10, 1 7/10 }, { 0 3/10, 1 7/10 }, { 0 3/10, 1 7/10 }, { 0 3/10, 1 7/10 }, { 0 3/10, 1 7/10 }, { 0 3/10, 1 7/10 }, { 0 3/10, 1 7/10 }, { 0 3/10, 1 7/10 }>\n",
    "class_0_ref = 3/10\n",
    "class_1_ref = 7/10\n",
    "threshold = 0.1\n",
    "\n",
    "# Black Box\n",
    "output_black_box = list( map(lambda x: pyro.sample(\"actualSample\",x), [dist.Bernoulli(8/10)]*n) ) # output_black_box = callClassifier(20000,2,2,1,24,2,2,-1,-1,-2,-2,3913,3102,689,0,0,0,0,689,0,0,0,0)\n",
    "class_0_freq = 1 - sum(output_black_box)/len(output_black_box)\n",
    "class_1_freq = sum(output_black_box)/len(output_black_box)\n",
    "print(\"Black box: \\n\", output_black_box)\n",
    "print( \"Class 0:\", class_0_freq )\n",
    "print( \"Class 1:\", class_1_freq )\n",
    "\n",
    "distance = max( abs(class_0_freq - class_0_ref), abs(class_1_freq - class_1_ref) )\n",
    "print(\"Distance between frequency and reference:\", distance)\n",
    "print(\"Does the black box approximate the reference distribution?\", distance<=threshold )"
   ]
  },
  {
   "cell_type": "code",
   "execution_count": 74,
   "metadata": {},
   "outputs": [
    {
     "name": "stdout",
     "output_type": "stream",
     "text": [
      "Criterio 1: n= 11888\n",
      "Criterio 2: n= 18112\n",
      "Proportion of male subjects: 0.3962534582180594 \n",
      "Proportion of female subjects: 0.6037132095596813\n",
      "WARNING: Classes are imbalanced\n",
      "\n",
      "Male 0 freq: tensor(0.7555)\n",
      "Male 1 freq: tensor(0.2445)\n",
      "Distance between frequency and reference: tensor(0.0055)\n",
      "Does the black box approximate the reference distribution? tensor(True)\n",
      "\n",
      "Female 0 freq: tensor(0.7825)\n",
      "Female 1 freq: tensor(0.2175)\n",
      "Distance between frequency and reference: tensor(0.0325)\n",
      "Does the black box approximate the reference distribution? tensor(True)\n",
      "\n",
      "Now let's look at the difference between frequencies:\n",
      "Distance between frequency and reference: tensor(0.0270)\n",
      "Does the black box approximate the reference distribution? tensor(True)\n"
     ]
    }
   ],
   "source": [
    "n = 2000\n",
    "\n",
    "df = pd.read_excel('defaults.xls', sheet_name='Data')\n",
    "#print(df.columns) # Print column names\n",
    "#df.head()\n",
    "\n",
    "filtered_df_1 = df[(df['X2'] == 1)] # SEX = Male and MARITAL = Married\n",
    "#print(filtered_df_1)\n",
    "print(\"Criterio 1: n=\", len(filtered_df_1))\n",
    "\n",
    "filtered_df_2 = df[(df['X2'] == 2)] # SEX = Female and MARITAL = Married\n",
    "#print(filtered_df_2)\n",
    "print(\"Criterio 2: n=\", len(filtered_df_2))\n",
    "\n",
    "print(\"Proportion of male subjects:\",len(filtered_df_1)/len(df), \"\\nProportion of female subjects:\", len(filtered_df_2)/len(df))\n",
    "if (abs(len(filtered_df_1)/len(df) - len(filtered_df_2)/len(df))>0.1):\n",
    "    print(\"WARNING: Classes are imbalanced\\n\")\n",
    "\n",
    "random_rows_1 = filtered_df_1.sample(n) #possibly subsample\n",
    "random_rows_1_tensor = tensor_array = [torch.tensor(val) for val in random_rows_1['Y']]\n",
    "#print(random_rows_1_tensor)\n",
    "\n",
    "random_rows_2 = filtered_df_2.sample(n) #possibly subsample\n",
    "random_rows_2_tensor = tensor_array = [torch.tensor(val) for val in random_rows_2['Y']]\n",
    "#print(random_rows_2_tensor)\n",
    "\n",
    "# MALE case\n",
    "male_0_ref = 75/100\n",
    "male_1_ref = 25/100\n",
    "threshold = 0.05\n",
    "\n",
    "# Black Box frequencies\n",
    "male_0_freq = 1 - sum(random_rows_1_tensor)/len(random_rows_1_tensor)\n",
    "male_1_freq = sum(random_rows_1_tensor)/len(random_rows_1_tensor)\n",
    "print( \"Male 0 freq:\", male_0_freq )\n",
    "print( \"Male 1 freq:\", male_1_freq )\n",
    "\n",
    "distance = max( abs(male_0_freq - male_0_ref), abs(male_1_freq - male_1_ref) )\n",
    "print(\"Distance between frequency and reference:\", distance)\n",
    "print(\"Does the black box approximate the reference distribution?\", distance<=threshold )\n",
    "\n",
    "# Set reference\n",
    "female_0_ref = 75/100\n",
    "female_1_ref = 25/100\n",
    "\n",
    "# Black Box frequencies\n",
    "female_0_freq = 1 - sum(random_rows_2_tensor)/len(random_rows_2_tensor)\n",
    "female_1_freq = sum(random_rows_2_tensor)/len(random_rows_2_tensor)\n",
    "print( \"\\nFemale 0 freq:\", female_0_freq )\n",
    "print( \"Female 1 freq:\", female_1_freq )\n",
    "\n",
    "distance = max( abs(female_0_freq - female_0_ref), abs(female_1_freq - female_1_ref) )\n",
    "print(\"Distance between frequency and reference:\", distance)\n",
    "print(\"Does the black box approximate the reference distribution?\", distance<=threshold )\n",
    "\n",
    "print(\"\\nNow let's look at the difference between frequencies:\")\n",
    "distance = max( abs(female_0_freq - male_0_freq), abs(female_1_freq - male_1_freq) )\n",
    "print(\"Distance between frequency and reference:\", distance)\n",
    "print(\"Does the black box approximate the reference distribution?\", distance<=threshold )"
   ]
  },
  {
   "cell_type": "code",
   "execution_count": null,
   "metadata": {},
   "outputs": [],
   "source": []
  }
 ],
 "metadata": {
  "kernelspec": {
   "display_name": "Python 3 (ipykernel)",
   "language": "python",
   "name": "python3"
  },
  "language_info": {
   "codemirror_mode": {
    "name": "ipython",
    "version": 3
   },
   "file_extension": ".py",
   "mimetype": "text/x-python",
   "name": "python",
   "nbconvert_exporter": "python",
   "pygments_lexer": "ipython3",
   "version": "3.10.9"
  },
  "vscode": {
   "interpreter": {
    "hash": "de177ccee849609f6a944751273740b1bd627b320c4ddcb4d513822ff6fd93b5"
   }
  }
 },
 "nbformat": 4,
 "nbformat_minor": 2
}
