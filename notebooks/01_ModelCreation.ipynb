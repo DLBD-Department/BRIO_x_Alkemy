{
 "cells": [
  {
   "cell_type": "code",
   "execution_count": 1,
   "id": "f85b60e8",
   "metadata": {},
   "outputs": [],
   "source": [
    "import os, sys\n",
    "dir2 = os.path.abspath('')\n",
    "dir1 = os.path.dirname(dir2)\n",
    "if not dir1 in sys.path: sys.path.append(dir1)"
   ]
  },
  {
   "cell_type": "code",
   "execution_count": 2,
   "id": "4e1df154",
   "metadata": {},
   "outputs": [],
   "source": [
    "from brio.data_processing.Preprocessing import Preprocessing\n",
    "from brio.ml_models.BinaryClassificationTraining import BinaryClassificationTraining \n",
    "\n",
    "import mlflow\n",
    "import os\n",
    "from sklearn.model_selection import train_test_split\n",
    "import json\n",
    "from pickle import dump, load\n",
    "import numpy as np\n",
    "import pandas as pd\n",
    "from hyperopt import fmin, tpe, Trials, STATUS_OK, hp, space_eval\n",
    "from functools import partial\n",
    "\n",
    "from scikitplot.metrics import plot_confusion_matrix, plot_roc, plot_lift_curve"
   ]
  },
  {
   "cell_type": "code",
   "execution_count": 3,
   "id": "cc51a397",
   "metadata": {},
   "outputs": [],
   "source": [
    "with open(\"../data/raw_data/uci-default-of-credit-card/datapackage.json\", \"rb\") as file:\n",
    "    data_dictionary = json.load(file)"
   ]
  },
  {
   "cell_type": "code",
   "execution_count": 4,
   "id": "9985d097",
   "metadata": {},
   "outputs": [
    {
     "data": {
      "text/plain": [
       "['1: Amount of the given credit (NT dollar): it includes both the individual consumer credit and his/her family (supplementary) credit.',\n",
       " '2: Gender (1 = male; 2 = female).',\n",
       " '3: Education (1 = graduate school; 2 = university; 3 = high school; 4 = others).',\n",
       " '4: Marital status (1 = married; 2 = single; 3 = others).',\n",
       " '5: Age (year).',\n",
       " '6 - ',\n",
       " '11: History of past payment. We tracked the past monthly payment records (from April to September, 2005) as follows: ',\n",
       " '6 = the repayment status in September, 2005; ',\n",
       " '7 = the repayment status in August, 2005; . . .;',\n",
       " '11 = the repayment status in April, 2005. The measurement scale for the repayment status is: -1 = pay duly; 1 = payment delay for one month; 2 = payment delay for two months; . . .; 8 = payment delay for eight months; 9 = payment delay for nine months and above.',\n",
       " '12-',\n",
       " '17: Amount of bill statement (NT dollar). ',\n",
       " '12 = amount of bill statement in September, 2005; ',\n",
       " '13 = amount of bill statement in August, 2005; . . .; ',\n",
       " '17 = amount of bill statement in April, 2005. ',\n",
       " '18-',\n",
       " '23: Amount of previous payment (NT dollar). ',\n",
       " '18 = amount paid in September, 2005; ',\n",
       " '19 = amount paid in August, 2005; . . .;',\n",
       " '23 = amount paid in April, 2005.\\n# Relevant Papers:\\nYeh, I. C., & Lien, C. H. (2009). The comparisons of data mining techniques for the predictive accuracy of probability of default of credit card clients. Expert Systems with Applications, 36(2), 2473-2480.\\n# Citation Request:\\nYeh, I. C., & Lien, C. H. (2009). The comparisons of data mining techniques for the predictive accuracy of probability of default of credit card clients. Expert Systems with Applications, 36(2), 2473-2480.\\n\\n**_Source:_** http://archive.ics.uci.edu/ml/datasets/default+of+credit+card+clients']"
      ]
     },
     "execution_count": 4,
     "metadata": {},
     "output_type": "execute_result"
    }
   ],
   "source": [
    "data_dictionary['description'].split(\"X\")[3:]"
   ]
  },
  {
   "cell_type": "code",
   "execution_count": 8,
   "id": "1495971e",
   "metadata": {},
   "outputs": [],
   "source": [
    "input_data_path = \"../data/raw_data/uci-default-of-credit-card/data/data.csv\"\n",
    "local_path_save = '../data/mlflow_artifacts/'"
   ]
  },
  {
   "cell_type": "code",
   "execution_count": 6,
   "id": "29c0a93c",
   "metadata": {},
   "outputs": [],
   "source": [
    "if not os.path.exists(local_path_save):\n",
    "    os.makedirs(local_path_save)\n",
    "\n",
    "#save all metadata in a sqlite db. Artifacts will be saved on local folder ./mlflow    \n",
    "mlflow.set_tracking_uri(\"sqlite:///mlflow.db\")\n",
    "\n",
    "# Name of the experiment\n",
    "exp_name = \"Default_prediction_with_RandomForest\"\n",
    "# set up MlFlow axperiment\n",
    "experiment_id = mlflow.set_experiment(exp_name)"
   ]
  },
  {
   "cell_type": "markdown",
   "id": "5f1756ed",
   "metadata": {},
   "source": [
    "## Preprocessing"
   ]
  },
  {
   "cell_type": "code",
   "execution_count": 9,
   "id": "2e767b1c",
   "metadata": {},
   "outputs": [],
   "source": [
    "pp = Preprocessing(input_data_path, \"default\")"
   ]
  },
  {
   "cell_type": "code",
   "execution_count": 10,
   "id": "4b745316",
   "metadata": {},
   "outputs": [],
   "source": [
    "X, Y = pp.read_dataframe()"
   ]
  },
  {
   "cell_type": "code",
   "execution_count": 11,
   "id": "e43a9ca3",
   "metadata": {},
   "outputs": [
    {
     "data": {
      "text/html": [
       "<div>\n",
       "<style scoped>\n",
       "    .dataframe tbody tr th:only-of-type {\n",
       "        vertical-align: middle;\n",
       "    }\n",
       "\n",
       "    .dataframe tbody tr th {\n",
       "        vertical-align: top;\n",
       "    }\n",
       "\n",
       "    .dataframe thead th {\n",
       "        text-align: right;\n",
       "    }\n",
       "</style>\n",
       "<table border=\"1\" class=\"dataframe\">\n",
       "  <thead>\n",
       "    <tr style=\"text-align: right;\">\n",
       "      <th></th>\n",
       "      <th>id</th>\n",
       "      <th>x1_limit_bal</th>\n",
       "      <th>x2_sex</th>\n",
       "      <th>x3_education</th>\n",
       "      <th>x4_marriage</th>\n",
       "      <th>x5_age</th>\n",
       "      <th>x6_pay_0</th>\n",
       "      <th>x7_pay_2</th>\n",
       "      <th>x8_pay_3</th>\n",
       "      <th>x9_pay_4</th>\n",
       "      <th>...</th>\n",
       "      <th>x15_bill_amt4</th>\n",
       "      <th>x16_bill_amt5</th>\n",
       "      <th>x17_bill_amt6</th>\n",
       "      <th>x18_pay_amt1</th>\n",
       "      <th>x19_pay_amt2</th>\n",
       "      <th>x20_pay_amt3</th>\n",
       "      <th>x21_pay_amt4</th>\n",
       "      <th>x22_pay_amt5</th>\n",
       "      <th>x23_pay_amt6</th>\n",
       "      <th>y_default_payment_next_month</th>\n",
       "    </tr>\n",
       "  </thead>\n",
       "  <tbody>\n",
       "    <tr>\n",
       "      <th>0</th>\n",
       "      <td>1</td>\n",
       "      <td>20000</td>\n",
       "      <td>2</td>\n",
       "      <td>2</td>\n",
       "      <td>1</td>\n",
       "      <td>24</td>\n",
       "      <td>2</td>\n",
       "      <td>2</td>\n",
       "      <td>-1</td>\n",
       "      <td>-1</td>\n",
       "      <td>...</td>\n",
       "      <td>0</td>\n",
       "      <td>0</td>\n",
       "      <td>0</td>\n",
       "      <td>0</td>\n",
       "      <td>689</td>\n",
       "      <td>0</td>\n",
       "      <td>0</td>\n",
       "      <td>0</td>\n",
       "      <td>0</td>\n",
       "      <td>True</td>\n",
       "    </tr>\n",
       "    <tr>\n",
       "      <th>1</th>\n",
       "      <td>2</td>\n",
       "      <td>120000</td>\n",
       "      <td>2</td>\n",
       "      <td>2</td>\n",
       "      <td>2</td>\n",
       "      <td>26</td>\n",
       "      <td>-1</td>\n",
       "      <td>2</td>\n",
       "      <td>0</td>\n",
       "      <td>0</td>\n",
       "      <td>...</td>\n",
       "      <td>3272</td>\n",
       "      <td>3455</td>\n",
       "      <td>3261</td>\n",
       "      <td>0</td>\n",
       "      <td>1000</td>\n",
       "      <td>1000</td>\n",
       "      <td>1000</td>\n",
       "      <td>0</td>\n",
       "      <td>2000</td>\n",
       "      <td>True</td>\n",
       "    </tr>\n",
       "    <tr>\n",
       "      <th>2</th>\n",
       "      <td>3</td>\n",
       "      <td>90000</td>\n",
       "      <td>2</td>\n",
       "      <td>2</td>\n",
       "      <td>2</td>\n",
       "      <td>34</td>\n",
       "      <td>0</td>\n",
       "      <td>0</td>\n",
       "      <td>0</td>\n",
       "      <td>0</td>\n",
       "      <td>...</td>\n",
       "      <td>14331</td>\n",
       "      <td>14948</td>\n",
       "      <td>15549</td>\n",
       "      <td>1518</td>\n",
       "      <td>1500</td>\n",
       "      <td>1000</td>\n",
       "      <td>1000</td>\n",
       "      <td>1000</td>\n",
       "      <td>5000</td>\n",
       "      <td>False</td>\n",
       "    </tr>\n",
       "    <tr>\n",
       "      <th>3</th>\n",
       "      <td>4</td>\n",
       "      <td>50000</td>\n",
       "      <td>2</td>\n",
       "      <td>2</td>\n",
       "      <td>1</td>\n",
       "      <td>37</td>\n",
       "      <td>0</td>\n",
       "      <td>0</td>\n",
       "      <td>0</td>\n",
       "      <td>0</td>\n",
       "      <td>...</td>\n",
       "      <td>28314</td>\n",
       "      <td>28959</td>\n",
       "      <td>29547</td>\n",
       "      <td>2000</td>\n",
       "      <td>2019</td>\n",
       "      <td>1200</td>\n",
       "      <td>1100</td>\n",
       "      <td>1069</td>\n",
       "      <td>1000</td>\n",
       "      <td>False</td>\n",
       "    </tr>\n",
       "    <tr>\n",
       "      <th>4</th>\n",
       "      <td>5</td>\n",
       "      <td>50000</td>\n",
       "      <td>1</td>\n",
       "      <td>2</td>\n",
       "      <td>1</td>\n",
       "      <td>57</td>\n",
       "      <td>-1</td>\n",
       "      <td>0</td>\n",
       "      <td>-1</td>\n",
       "      <td>0</td>\n",
       "      <td>...</td>\n",
       "      <td>20940</td>\n",
       "      <td>19146</td>\n",
       "      <td>19131</td>\n",
       "      <td>2000</td>\n",
       "      <td>36681</td>\n",
       "      <td>10000</td>\n",
       "      <td>9000</td>\n",
       "      <td>689</td>\n",
       "      <td>679</td>\n",
       "      <td>False</td>\n",
       "    </tr>\n",
       "  </tbody>\n",
       "</table>\n",
       "<p>5 rows × 25 columns</p>\n",
       "</div>"
      ],
      "text/plain": [
       "   id  x1_limit_bal  x2_sex  x3_education  x4_marriage  x5_age  x6_pay_0  \\\n",
       "0   1         20000       2             2            1      24         2   \n",
       "1   2        120000       2             2            2      26        -1   \n",
       "2   3         90000       2             2            2      34         0   \n",
       "3   4         50000       2             2            1      37         0   \n",
       "4   5         50000       1             2            1      57        -1   \n",
       "\n",
       "   x7_pay_2  x8_pay_3  x9_pay_4  ...  x15_bill_amt4  x16_bill_amt5  \\\n",
       "0         2        -1        -1  ...              0              0   \n",
       "1         2         0         0  ...           3272           3455   \n",
       "2         0         0         0  ...          14331          14948   \n",
       "3         0         0         0  ...          28314          28959   \n",
       "4         0        -1         0  ...          20940          19146   \n",
       "\n",
       "   x17_bill_amt6  x18_pay_amt1  x19_pay_amt2  x20_pay_amt3  x21_pay_amt4  \\\n",
       "0              0             0           689             0             0   \n",
       "1           3261             0          1000          1000          1000   \n",
       "2          15549          1518          1500          1000          1000   \n",
       "3          29547          2000          2019          1200          1100   \n",
       "4          19131          2000         36681         10000          9000   \n",
       "\n",
       "   x22_pay_amt5  x23_pay_amt6  y_default_payment_next_month  \n",
       "0             0             0                          True  \n",
       "1             0          2000                          True  \n",
       "2          1000          5000                         False  \n",
       "3          1069          1000                         False  \n",
       "4           689           679                         False  \n",
       "\n",
       "[5 rows x 25 columns]"
      ]
     },
     "execution_count": 11,
     "metadata": {},
     "output_type": "execute_result"
    }
   ],
   "source": [
    "X.head()"
   ]
  },
  {
   "cell_type": "code",
   "execution_count": 12,
   "id": "531cbcf2",
   "metadata": {},
   "outputs": [
    {
     "data": {
      "text/plain": [
       "Index(['id', 'x1_limit_bal', 'x2_sex', 'x3_education', 'x4_marriage', 'x5_age',\n",
       "       'x6_pay_0', 'x7_pay_2', 'x8_pay_3', 'x9_pay_4', 'x10_pay_5',\n",
       "       'x11_pay_6', 'x12_bill_amt1', 'x13_bill_amt2', 'x14_bill_amt3',\n",
       "       'x15_bill_amt4', 'x16_bill_amt5', 'x17_bill_amt6', 'x18_pay_amt1',\n",
       "       'x19_pay_amt2', 'x20_pay_amt3', 'x21_pay_amt4', 'x22_pay_amt5',\n",
       "       'x23_pay_amt6', 'y_default_payment_next_month'],\n",
       "      dtype='object')"
      ]
     },
     "execution_count": 12,
     "metadata": {},
     "output_type": "execute_result"
    }
   ],
   "source": [
    "X.columns"
   ]
  },
  {
   "cell_type": "code",
   "execution_count": 9,
   "id": "6e8cb6e3",
   "metadata": {},
   "outputs": [],
   "source": [
    "X_train, X_test, Y_train, Y_test = train_test_split(X,Y, test_size=0.3, random_state=420)\n",
    "\n",
    "\n",
    "#preprocessing ohe\n",
    "shapes_pre = (X_train.shape[0], X_test.shape[0])\n",
    "X_train_ohe, ohe, scaler = pp.preprocess_for_classification(df=X_train, fit_ohe=True, perform_scaling=True)\n",
    "X_test_ohe, _, _ = pp.preprocess_for_classification(df=X_test, \n",
    "                                                    fit_ohe=True, \n",
    "                                                    fitted_ohe=ohe,\n",
    "                                                    perform_scaling=True,\n",
    "                                                    fitted_scaler=scaler)\n",
    "assert shapes_pre == (X_train.shape[0], X_test.shape[0])\n",
    "\n",
    "dump(ohe, open(local_path_save + '_ohe.pkl', 'wb'))\n",
    "dump(scaler, open(local_path_save + '_scaler.pkl', 'wb'))"
   ]
  },
  {
   "cell_type": "markdown",
   "id": "d34f7225",
   "metadata": {},
   "source": [
    "## Hyperparameters Optimization and Training"
   ]
  },
  {
   "cell_type": "code",
   "execution_count": 10,
   "id": "b5ebf0f5",
   "metadata": {},
   "outputs": [],
   "source": [
    "run_name = 'base'"
   ]
  },
  {
   "cell_type": "code",
   "execution_count": 11,
   "id": "716f55bc",
   "metadata": {},
   "outputs": [],
   "source": [
    "random_forest_training = BinaryClassificationTraining(\n",
    "    input_data_path,\n",
    "    local_path_save,\n",
    "    'random_forest')"
   ]
  },
  {
   "cell_type": "code",
   "execution_count": 12,
   "id": "f6efd046",
   "metadata": {},
   "outputs": [
    {
     "name": "stderr",
     "output_type": "stream",
     "text": [
      "/Users/davideposillipo/.pyenv/versions/3.10.9/envs/prova/lib/python3.10/site-packages/sklearn/metrics/_classification.py:1318: UndefinedMetricWarning: Precision is ill-defined and being set to 0.0 due to no predicted samples. Use `zero_division` parameter to control this behavior.\n",
      "  _warn_prf(average, modifier, msg_start, len(result))\n",
      "/Users/davideposillipo/.pyenv/versions/3.10.9/envs/prova/lib/python3.10/site-packages/sklearn/metrics/_classification.py:1318: UndefinedMetricWarning: Precision is ill-defined and being set to 0.0 due to no predicted samples. Use `zero_division` parameter to control this behavior.\n",
      "  _warn_prf(average, modifier, msg_start, len(result))\n"
     ]
    },
    {
     "data": {
      "text/plain": [
       "{'loss': 0.5, 'status': 'ok'}"
      ]
     },
     "execution_count": 12,
     "metadata": {},
     "output_type": "execute_result"
    }
   ],
   "source": [
    "# Calculating the baseline\n",
    "random_forest_training.calculate_classification_baseline(Y_train=Y_train, Y_test=Y_test, run_name=run_name)"
   ]
  },
  {
   "cell_type": "code",
   "execution_count": 13,
   "id": "8be24f5c",
   "metadata": {},
   "outputs": [
    {
     "name": "stdout",
     "output_type": "stream",
     "text": [
      "100%|██████████████████████████████████████████████████| 1/1 [00:01<00:00,  1.57s/trial, best loss: 0.7640276212518085]\n",
      "  0%|                                                                            | 0/1 [00:00<?, ?trial/s, best loss=?]"
     ]
    },
    {
     "name": "stderr",
     "output_type": "stream",
     "text": [
      "/Users/davideposillipo/.pyenv/versions/3.10.9/envs/prova/lib/python3.10/site-packages/_distutils_hack/__init__.py:33: UserWarning: Setuptools is replacing distutils.\n",
      "  warnings.warn(\"Setuptools is replacing distutils.\")\n",
      "\n"
     ]
    },
    {
     "name": "stdout",
     "output_type": "stream",
     "text": [
      "100%|██████████████████████████████████████████████████| 1/1 [00:02<00:00,  2.15s/trial, best loss: 0.7656004148743085]\n",
      "100%|██████████████████████████████████████████████████| 1/1 [00:03<00:00,  3.05s/trial, best loss: 0.7671030399417594]\n",
      "100%|██████████████████████████████████████████████████| 1/1 [00:03<00:00,  3.97s/trial, best loss: 0.7668701385098191]\n",
      "100%|██████████████████████████████████████████████████| 1/1 [00:04<00:00,  5.00s/trial, best loss: 0.7666210219610126]\n",
      "100%|██████████████████████████████████████████████████| 1/1 [00:05<00:00,  5.87s/trial, best loss: 0.7668380718437293]\n"
     ]
    }
   ],
   "source": [
    "# Fixed depth, varying number of trees\n",
    "run_name = \"trial_1\"\n",
    "\n",
    "for B in np.arange(10,600,100, dtype=int):\n",
    "    \n",
    "    max_evals = 1\n",
    "                   \n",
    "    # Here we can decide which hyperparameters we want to tune\n",
    "    rf_parameters_search = {\n",
    "        'n_estimators': B,\n",
    "        'max_depth': 5\n",
    "    }\n",
    "\n",
    "    random_forest_training.set_hyperparameter_space(rf_parameters_search)\n",
    "                   \n",
    "    trials = Trials()\n",
    "\n",
    "    best_result = fmin(\n",
    "        fn=partial(random_forest_training.objective_random_forest, \n",
    "            X_train=X_train_ohe,\n",
    "            X_test=X_test_ohe,\n",
    "            Y_train=Y_train,\n",
    "            Y_test=Y_test,\n",
    "            run_name=run_name,\n",
    "            threshold=0.5),\n",
    "        space=random_forest_training.hp_space,\n",
    "        algo=tpe.suggest,\n",
    "        max_evals=max_evals,\n",
    "        trials=trials,\n",
    "        rstate=np.random.default_rng(420)\n",
    "    )\n",
    "\n",
    "    best_result"
   ]
  },
  {
   "cell_type": "code",
   "execution_count": 14,
   "id": "cbc27e4f",
   "metadata": {},
   "outputs": [
    {
     "name": "stdout",
     "output_type": "stream",
     "text": [
      "100%|███████████████████████████████████████████████████| 1/1 [00:02<00:00,  2.43s/trial, best loss: 0.754710836838913]\n",
      "100%|██████████████████████████████████████████████████| 1/1 [00:03<00:00,  3.46s/trial, best loss: 0.7738168981732108]\n",
      "100%|██████████████████████████████████████████████████| 1/1 [00:04<00:00,  4.87s/trial, best loss: 0.7799017480259549]\n",
      "100%|██████████████████████████████████████████████████| 1/1 [00:05<00:00,  5.96s/trial, best loss: 0.7796743001086558]\n",
      "100%|██████████████████████████████████████████████████| 1/1 [00:06<00:00,  6.92s/trial, best loss: 0.7771727729427724]\n",
      "100%|██████████████████████████████████████████████████| 1/1 [00:07<00:00,  7.17s/trial, best loss: 0.7729530978108211]\n",
      "100%|██████████████████████████████████████████████████| 1/1 [00:07<00:00,  7.22s/trial, best loss: 0.7685996297863407]\n",
      "100%|██████████████████████████████████████████████████| 1/1 [00:07<00:00,  7.06s/trial, best loss: 0.7648254704438049]\n",
      "100%|███████████████████████████████████████████████████| 1/1 [00:06<00:00,  6.97s/trial, best loss: 0.767223671685621]\n",
      "100%|██████████████████████████████████████████████████| 1/1 [00:07<00:00,  7.04s/trial, best loss: 0.7651810395984063]\n"
     ]
    }
   ],
   "source": [
    "#Fixed number of trees, varying depth\n",
    "run_name = \"trial_2\"\n",
    "\n",
    "for d in np.arange(2,50,5, dtype=int):\n",
    "    \n",
    "    max_evals = 1\n",
    "                   \n",
    "    # Here we can decide which hyperparameters we want to tune\n",
    "    rf_parameters_search = {\n",
    "        'n_estimators': 200,\n",
    "        'max_depth': d\n",
    "    }\n",
    "\n",
    "    random_forest_training.set_hyperparameter_space(rf_parameters_search)\n",
    "                   \n",
    "    trials = Trials()\n",
    "\n",
    "    best_result = fmin(\n",
    "        fn=partial(random_forest_training.objective_random_forest, \n",
    "            X_train=X_train_ohe,\n",
    "            X_test=X_test_ohe,\n",
    "            Y_train=Y_train,\n",
    "            Y_test=Y_test,\n",
    "            run_name=run_name,\n",
    "            threshold=0.5),\n",
    "        space=random_forest_training.hp_space,\n",
    "        algo=tpe.suggest,\n",
    "        max_evals=max_evals,\n",
    "        trials=trials,\n",
    "        rstate=np.random.default_rng(420)\n",
    "    )\n",
    "\n",
    "    best_result"
   ]
  },
  {
   "cell_type": "markdown",
   "id": "febb67b8",
   "metadata": {},
   "source": [
    "## Inference"
   ]
  },
  {
   "cell_type": "markdown",
   "id": "63a2dd50",
   "metadata": {},
   "source": [
    "#### With MLFlow functionalities"
   ]
  },
  {
   "cell_type": "code",
   "execution_count": 32,
   "id": "5a065321",
   "metadata": {},
   "outputs": [
    {
     "data": {
      "text/plain": [
       "array([0, 1, 0, ..., 0, 1, 0])"
      ]
     },
     "execution_count": 32,
     "metadata": {},
     "output_type": "execute_result"
    }
   ],
   "source": [
    "# the URI \n",
    "logged_model = 'runs:/1e4a0667c7a64cbe8c7b023410e5781c/model'\n",
    "\n",
    "# Load model as a PyFuncModel.\n",
    "loaded_model = mlflow.pyfunc.load_model(logged_model)\n",
    "\n",
    "# Predict on a Pandas DataFrame.\n",
    "loaded_model.predict(pd.DataFrame(X_test_ohe))"
   ]
  },
  {
   "cell_type": "markdown",
   "id": "2b854938",
   "metadata": {},
   "source": [
    "#### Using the sklearn object directly"
   ]
  },
  {
   "cell_type": "code",
   "execution_count": 37,
   "id": "8f3541f1",
   "metadata": {
    "scrolled": true
   },
   "outputs": [],
   "source": [
    "with open(\"mlruns/1/1e4a0667c7a64cbe8c7b023410e5781c/artifacts/model/model.pkl\", \"rb\") as file:\n",
    "    winning_model = load(file)"
   ]
  },
  {
   "cell_type": "code",
   "execution_count": 38,
   "id": "2a2bc7b8",
   "metadata": {},
   "outputs": [
    {
     "data": {
      "text/plain": [
       "RandomForestClassifier(max_depth=12, n_estimators=200)"
      ]
     },
     "execution_count": 38,
     "metadata": {},
     "output_type": "execute_result"
    }
   ],
   "source": [
    "winning_model"
   ]
  },
  {
   "cell_type": "code",
   "execution_count": 56,
   "id": "2f360c0a",
   "metadata": {},
   "outputs": [
    {
     "data": {
      "text/html": [
       "<div>\n",
       "<style scoped>\n",
       "    .dataframe tbody tr th:only-of-type {\n",
       "        vertical-align: middle;\n",
       "    }\n",
       "\n",
       "    .dataframe tbody tr th {\n",
       "        vertical-align: top;\n",
       "    }\n",
       "\n",
       "    .dataframe thead th {\n",
       "        text-align: right;\n",
       "    }\n",
       "</style>\n",
       "<table border=\"1\" class=\"dataframe\">\n",
       "  <thead>\n",
       "    <tr style=\"text-align: right;\">\n",
       "      <th></th>\n",
       "      <th>importance</th>\n",
       "      <th>feature</th>\n",
       "    </tr>\n",
       "  </thead>\n",
       "  <tbody>\n",
       "    <tr>\n",
       "      <th>31</th>\n",
       "      <td>0.137158</td>\n",
       "      <td>x6_pay_0_2</td>\n",
       "    </tr>\n",
       "    <tr>\n",
       "      <th>42</th>\n",
       "      <td>0.062741</td>\n",
       "      <td>x7_pay_2_2</td>\n",
       "    </tr>\n",
       "    <tr>\n",
       "      <th>0</th>\n",
       "      <td>0.04363</td>\n",
       "      <td>x1_limit_bal</td>\n",
       "    </tr>\n",
       "    <tr>\n",
       "      <th>8</th>\n",
       "      <td>0.040919</td>\n",
       "      <td>x18_pay_amt1</td>\n",
       "    </tr>\n",
       "    <tr>\n",
       "      <th>64</th>\n",
       "      <td>0.040456</td>\n",
       "      <td>x9_pay_4_2</td>\n",
       "    </tr>\n",
       "    <tr>\n",
       "      <th>2</th>\n",
       "      <td>0.038592</td>\n",
       "      <td>x12_bill_amt1</td>\n",
       "    </tr>\n",
       "    <tr>\n",
       "      <th>53</th>\n",
       "      <td>0.03663</td>\n",
       "      <td>x8_pay_3_2</td>\n",
       "    </tr>\n",
       "    <tr>\n",
       "      <th>3</th>\n",
       "      <td>0.036425</td>\n",
       "      <td>x13_bill_amt2</td>\n",
       "    </tr>\n",
       "    <tr>\n",
       "      <th>9</th>\n",
       "      <td>0.035265</td>\n",
       "      <td>x19_pay_amt2</td>\n",
       "    </tr>\n",
       "    <tr>\n",
       "      <th>4</th>\n",
       "      <td>0.035244</td>\n",
       "      <td>x14_bill_amt3</td>\n",
       "    </tr>\n",
       "    <tr>\n",
       "      <th>29</th>\n",
       "      <td>0.034368</td>\n",
       "      <td>x6_pay_0_0</td>\n",
       "    </tr>\n",
       "    <tr>\n",
       "      <th>7</th>\n",
       "      <td>0.033455</td>\n",
       "      <td>x17_bill_amt6</td>\n",
       "    </tr>\n",
       "    <tr>\n",
       "      <th>6</th>\n",
       "      <td>0.033252</td>\n",
       "      <td>x16_bill_amt5</td>\n",
       "    </tr>\n",
       "    <tr>\n",
       "      <th>5</th>\n",
       "      <td>0.032524</td>\n",
       "      <td>x15_bill_amt4</td>\n",
       "    </tr>\n",
       "    <tr>\n",
       "      <th>10</th>\n",
       "      <td>0.031007</td>\n",
       "      <td>x20_pay_amt3</td>\n",
       "    </tr>\n",
       "    <tr>\n",
       "      <th>12</th>\n",
       "      <td>0.029771</td>\n",
       "      <td>x22_pay_amt5</td>\n",
       "    </tr>\n",
       "    <tr>\n",
       "      <th>74</th>\n",
       "      <td>0.02927</td>\n",
       "      <td>x10_pay_5_2</td>\n",
       "    </tr>\n",
       "    <tr>\n",
       "      <th>11</th>\n",
       "      <td>0.029175</td>\n",
       "      <td>x21_pay_amt4</td>\n",
       "    </tr>\n",
       "    <tr>\n",
       "      <th>1</th>\n",
       "      <td>0.029107</td>\n",
       "      <td>x5_age</td>\n",
       "    </tr>\n",
       "    <tr>\n",
       "      <th>13</th>\n",
       "      <td>0.028464</td>\n",
       "      <td>x23_pay_amt6</td>\n",
       "    </tr>\n",
       "  </tbody>\n",
       "</table>\n",
       "</div>"
      ],
      "text/plain": [
       "   importance        feature\n",
       "31   0.137158     x6_pay_0_2\n",
       "42   0.062741     x7_pay_2_2\n",
       "0     0.04363   x1_limit_bal\n",
       "8    0.040919   x18_pay_amt1\n",
       "64   0.040456     x9_pay_4_2\n",
       "2    0.038592  x12_bill_amt1\n",
       "53    0.03663     x8_pay_3_2\n",
       "3    0.036425  x13_bill_amt2\n",
       "9    0.035265   x19_pay_amt2\n",
       "4    0.035244  x14_bill_amt3\n",
       "29   0.034368     x6_pay_0_0\n",
       "7    0.033455  x17_bill_amt6\n",
       "6    0.033252  x16_bill_amt5\n",
       "5    0.032524  x15_bill_amt4\n",
       "10   0.031007   x20_pay_amt3\n",
       "12   0.029771   x22_pay_amt5\n",
       "74    0.02927    x10_pay_5_2\n",
       "11   0.029175   x21_pay_amt4\n",
       "1    0.029107         x5_age\n",
       "13   0.028464   x23_pay_amt6"
      ]
     },
     "execution_count": 56,
     "metadata": {},
     "output_type": "execute_result"
    }
   ],
   "source": [
    "fi = pd.DataFrame([pd.Series(winning_model.feature_importances_), pd.Series(winning_model.feature_names_in_)])\n",
    "fi.T.rename(columns={1:\"feature\", 0:\"importance\"}).sort_values('importance', ascending=False)[0:20]"
   ]
  },
  {
   "cell_type": "code",
   "execution_count": 50,
   "id": "df2d5422",
   "metadata": {},
   "outputs": [],
   "source": [
    "predicted_prob = winning_model.predict_proba(X_test_ohe)\n",
    "predicted_values = winning_model.predict(X_test_ohe)"
   ]
  },
  {
   "cell_type": "markdown",
   "id": "0ef21120",
   "metadata": {},
   "source": [
    "## Diagnostic Plots"
   ]
  },
  {
   "cell_type": "code",
   "execution_count": 51,
   "id": "9f1af01a",
   "metadata": {},
   "outputs": [
    {
     "data": {
      "text/plain": [
       "<AxesSubplot:title={'center':'Confusion Matrix'}, xlabel='Predicted label', ylabel='True label'>"
      ]
     },
     "execution_count": 51,
     "metadata": {},
     "output_type": "execute_result"
    },
    {
     "data": {
      "image/png": "[encoded data removed]",
      "text/plain": [
       "<Figure size 640x480 with 2 Axes>"
      ]
     },
     "metadata": {},
     "output_type": "display_data"
    }
   ],
   "source": [
    "plot_confusion_matrix(Y_test, predicted_values)"
   ]
  },
  {
   "cell_type": "code",
   "execution_count": 53,
   "id": "fddeea90",
   "metadata": {},
   "outputs": [
    {
     "data": {
      "text/plain": [
       "<AxesSubplot:title={'center':'ROC Curves'}, xlabel='False Positive Rate', ylabel='True Positive Rate'>"
      ]
     },
     "execution_count": 53,
     "metadata": {},
     "output_type": "execute_result"
    },
    {
     "data": {
      "image/png": "[encoded data removed]",
      "text/plain": [
       "<Figure size 640x480 with 1 Axes>"
      ]
     },
     "metadata": {},
     "output_type": "display_data"
    }
   ],
   "source": [
    "plot_roc(Y_test, predicted_prob)"
   ]
  },
  {
   "cell_type": "code",
   "execution_count": 55,
   "id": "f1e94657",
   "metadata": {},
   "outputs": [
    {
     "data": {
      "text/plain": [
       "<AxesSubplot:title={'center':'Lift Curve'}, xlabel='Percentage of sample', ylabel='Lift'>"
      ]
     },
     "execution_count": 55,
     "metadata": {},
     "output_type": "execute_result"
    },
    {
     "data": {
      "image/png": "[encoded data removed]",
      "text/plain": [
       "<Figure size 640x480 with 1 Axes>"
      ]
     },
     "metadata": {},
     "output_type": "display_data"
    }
   ],
   "source": [
    "plot_lift_curve(Y_test, predicted_prob)"
   ]
  },
  {
   "cell_type": "code",
   "execution_count": null,
   "id": "d4997bdf",
   "metadata": {},
   "outputs": [],
   "source": []
  }
 ],
 "metadata": {
  "kernelspec": {
   "display_name": "Python 3 (ipykernel)",
   "language": "python",
   "name": "python3"
  },
  "language_info": {
   "codemirror_mode": {
    "name": "ipython",
    "version": 3
   },
   "file_extension": ".py",
   "mimetype": "text/x-python",
   "name": "python",
   "nbconvert_exporter": "python",
   "pygments_lexer": "ipython3",
   "version": "3.10.9"
  }
 },
 "nbformat": 4,
 "nbformat_minor": 5
}
