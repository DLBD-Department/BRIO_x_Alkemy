{
 "cells": [
  {
   "cell_type": "code",
   "execution_count": 1,
   "id": "0b134d6e",
   "metadata": {},
   "outputs": [],
   "source": [
    "import os, sys\n",
    "dir2 = os.path.abspath('')\n",
    "dir1 = os.path.dirname(dir2)\n",
    "if not dir1 in sys.path: sys.path.append(dir1)"
   ]
  },
  {
   "cell_type": "code",
   "execution_count": 2,
   "id": "77c1e269",
   "metadata": {},
   "outputs": [],
   "source": [
    "from brio.utils.Preprocessing import Preprocessing\n",
    "from sklearn.model_selection import train_test_split\n",
    "from pickle import dump, load\n",
    "import pandas as pd\n",
    "import numpy as np\n",
    "\n",
    "from brio.bias.FreqVsFreqBiasDetector import FreqVsFreqBiasDetector"
   ]
  },
  {
   "cell_type": "markdown",
   "id": "68af6499",
   "metadata": {},
   "source": [
    "## Importing Data and Trained Classifier"
   ]
  },
  {
   "cell_type": "code",
   "execution_count": 3,
   "id": "66127e6c",
   "metadata": {},
   "outputs": [],
   "source": [
    "input_data_path = \"../data/raw_data/uci-default-of-credit-card/data/data.csv\"\n",
    "local_path_save = '../data/mlflow_artifacts/'"
   ]
  },
  {
   "cell_type": "code",
   "execution_count": 4,
   "id": "bf0e3b01",
   "metadata": {},
   "outputs": [
    {
     "name": "stderr",
     "output_type": "stream",
     "text": [
      "/Users/davideposillipo/.pyenv/versions/3.10.9/envs/prova/lib/python3.10/site-packages/sklearn/base.py:329: UserWarning: Trying to unpickle estimator OneHotEncoder from version 1.2.1 when using version 1.0.2. This might lead to breaking code or invalid results. Use at your own risk. For more info please refer to:\n",
      "https://scikit-learn.org/stable/modules/model_persistence.html#security-maintainability-limitations\n",
      "  warnings.warn(\n",
      "/Users/davideposillipo/.pyenv/versions/3.10.9/envs/prova/lib/python3.10/site-packages/sklearn/base.py:329: UserWarning: Trying to unpickle estimator StandardScaler from version 1.2.1 when using version 1.0.2. This might lead to breaking code or invalid results. Use at your own risk. For more info please refer to:\n",
      "https://scikit-learn.org/stable/modules/model_persistence.html#security-maintainability-limitations\n",
      "  warnings.warn(\n"
     ]
    }
   ],
   "source": [
    "fitted_ohe = load(open(local_path_save + '_ohe.pkl', 'rb')) \n",
    "fitted_scaler = load(open(local_path_save + '_scaler.pkl', 'rb'))"
   ]
  },
  {
   "cell_type": "code",
   "execution_count": 5,
   "id": "6646c312",
   "metadata": {},
   "outputs": [],
   "source": [
    "pp = Preprocessing(input_data_path, \"default\")\n",
    "X, Y = pp.read_dataframe()\n",
    "\n",
    "X_train, X_test, Y_train, Y_test = train_test_split(X,Y, test_size=0.3, random_state=420)\n",
    "\n",
    "X_test_ohe, _, _ = pp.preprocess_for_classification(df=X_test, \n",
    "                                                fit_ohe=True, \n",
    "                                                fitted_ohe=fitted_ohe,\n",
    "                                                perform_scaling=True,\n",
    "                                                fitted_scaler=fitted_scaler)"
   ]
  },
  {
   "cell_type": "code",
   "execution_count": 6,
   "id": "ba010d39",
   "metadata": {},
   "outputs": [],
   "source": [
    "with open(\"trained_model_for_testing/RF_12_200.pkl\", \"rb\") as file:\n",
    "    classifier_strong = load(file)\n",
    "    \n",
    "with open(\"trained_model_for_testing/RF_37_10.pkl\", \"rb\") as file:\n",
    "    classifier_weak = load(file)\n",
    "    \n",
    "with open(\"trained_model_for_testing/Tree_depth2.pkl\", \"rb\") as file:\n",
    "    classifier_lame = load(file)"
   ]
  },
  {
   "cell_type": "code",
   "execution_count": 7,
   "id": "04cacf92",
   "metadata": {},
   "outputs": [],
   "source": [
    "predicted_values_strong = classifier_strong.predict(X_test_ohe)\n",
    "predicted_values_weak = classifier_weak.predict(X_test_ohe)\n",
    "predicted_values_lame = classifier_lame.predict(X_test_ohe)"
   ]
  },
  {
   "cell_type": "code",
   "execution_count": 8,
   "id": "d7e96a84",
   "metadata": {},
   "outputs": [],
   "source": [
    "def age_buckets(x):\n",
    "    if x < 30:\n",
    "        return 1\n",
    "    elif x < 40:\n",
    "        return 2\n",
    "    else:\n",
    "        return 3\n",
    "\n",
    "X_test['age_buckets'] = X.x5_age.apply(age_buckets)"
   ]
  },
  {
   "cell_type": "code",
   "execution_count": 9,
   "id": "c24a0c9c",
   "metadata": {},
   "outputs": [],
   "source": [
    "conditioning_variables = ['x3_education', 'x4_marriage', 'age_buckets']"
   ]
  },
  {
   "cell_type": "code",
   "execution_count": 10,
   "id": "7950602d",
   "metadata": {},
   "outputs": [],
   "source": [
    "df_with_predictions_strong = pd.concat(\n",
    "    [X_test.reset_index(drop=True), pd.Series(predicted_values_strong)], axis=1).rename(columns={0:\"predictions\"})\n",
    "\n",
    "df_with_predictions_weak = pd.concat(\n",
    "    [X_test.reset_index(drop=True), pd.Series(predicted_values_weak)], axis=1).rename(columns={0:\"predictions\"})\n",
    "\n",
    "df_with_predictions_lame = pd.concat(\n",
    "    [X_test.reset_index(drop=True), pd.Series(predicted_values_lame)], axis=1).rename(columns={0:\"predictions\"})"
   ]
  },
  {
   "cell_type": "markdown",
   "id": "ea1b5fc8",
   "metadata": {},
   "source": [
    "## Experiment 1: freqs-vs-freqs, TVD, A1=low, root_variable=x2_sex"
   ]
  },
  {
   "cell_type": "code",
   "execution_count": 11,
   "id": "38346302",
   "metadata": {},
   "outputs": [],
   "source": [
    "bd = FreqVsFreqBiasDetector(distance=\"TVD\", A1=\"low\")"
   ]
  },
  {
   "cell_type": "markdown",
   "id": "0e6e5723",
   "metadata": {},
   "source": [
    "#### Strong model, no conditioning variables"
   ]
  },
  {
   "cell_type": "code",
   "execution_count": 12,
   "id": "9dc1af6e",
   "metadata": {},
   "outputs": [
    {
     "data": {
      "text/plain": [
       "(0.025269625352224545, True, 0.038868585412256317, None)"
      ]
     },
     "execution_count": 12,
     "metadata": {},
     "output_type": "execute_result"
    }
   ],
   "source": [
    "bd.compare_root_variable_groups(\n",
    "    dataframe=df_with_predictions_strong,\n",
    "    target_variable='predictions',\n",
    "    root_variable='x2_sex'\n",
    ")"
   ]
  },
  {
   "cell_type": "markdown",
   "id": "bd73ac65",
   "metadata": {},
   "source": [
    "#### Weak model, no conditioning variables"
   ]
  },
  {
   "cell_type": "code",
   "execution_count": 13,
   "id": "eef0e4db",
   "metadata": {},
   "outputs": [
    {
     "data": {
      "text/plain": [
       "(0.02310418899075288, True, 0.038868585412256317, None)"
      ]
     },
     "execution_count": 13,
     "metadata": {},
     "output_type": "execute_result"
    }
   ],
   "source": [
    "bd.compare_root_variable_groups(\n",
    "    dataframe=df_with_predictions_weak,\n",
    "    target_variable='predictions',\n",
    "    root_variable='x2_sex'\n",
    ")"
   ]
  },
  {
   "cell_type": "markdown",
   "id": "bd7c0058",
   "metadata": {},
   "source": [
    "#### Lame model, no conditioning variables"
   ]
  },
  {
   "cell_type": "code",
   "execution_count": 14,
   "id": "bc388f1e",
   "metadata": {},
   "outputs": [
    {
     "data": {
      "text/plain": [
       "(0.011162043100369085, True, 0.038868585412256317, None)"
      ]
     },
     "execution_count": 14,
     "metadata": {},
     "output_type": "execute_result"
    }
   ],
   "source": [
    "bd.compare_root_variable_groups(\n",
    "    dataframe=df_with_predictions_lame,\n",
    "    target_variable='predictions',\n",
    "    root_variable='x2_sex'\n",
    ")"
   ]
  },
  {
   "cell_type": "markdown",
   "id": "f9d0f219",
   "metadata": {},
   "source": [
    "## Experiment 2: freqs-vs-freqs, TVD, A1=low, root_variable=x3_education"
   ]
  },
  {
   "cell_type": "code",
   "execution_count": 15,
   "id": "e0383527",
   "metadata": {},
   "outputs": [],
   "source": [
    "bd = FreqVsFreqBiasDetector(distance=\"TVD\", A1=\"low\")"
   ]
  },
  {
   "cell_type": "markdown",
   "id": "c854cfe8",
   "metadata": {},
   "source": [
    "#### Strong model, no conditioning variables"
   ]
  },
  {
   "cell_type": "code",
   "execution_count": 16,
   "id": "2dbd7413",
   "metadata": {},
   "outputs": [
    {
     "data": {
      "text/plain": [
       "(0.14609739826551038, False, 0.030917574992439394, 0.04868174081342471)"
      ]
     },
     "execution_count": 16,
     "metadata": {},
     "output_type": "execute_result"
    }
   ],
   "source": [
    "bd.compare_root_variable_groups(\n",
    "    dataframe=df_with_predictions_strong,\n",
    "    target_variable='predictions',\n",
    "    root_variable='x3_education'\n",
    ")"
   ]
  },
  {
   "cell_type": "markdown",
   "id": "8ebf9a79",
   "metadata": {},
   "source": [
    "#### Weak model, no conditioning variables"
   ]
  },
  {
   "cell_type": "code",
   "execution_count": 17,
   "id": "d0a2f18f",
   "metadata": {},
   "outputs": [
    {
     "data": {
      "text/plain": [
       "(0.1428571428571429, False, 0.030917574992439394, 0.04818124491646396)"
      ]
     },
     "execution_count": 17,
     "metadata": {},
     "output_type": "execute_result"
    }
   ],
   "source": [
    "bd.compare_root_variable_groups(\n",
    "    dataframe=df_with_predictions_weak,\n",
    "    target_variable='predictions',\n",
    "    root_variable='x3_education'\n",
    ")"
   ]
  },
  {
   "cell_type": "markdown",
   "id": "64f0e069",
   "metadata": {},
   "source": [
    "#### Lame model, no conditioning variables"
   ]
  },
  {
   "cell_type": "code",
   "execution_count": 18,
   "id": "d95bf4c3",
   "metadata": {},
   "outputs": [
    {
     "data": {
      "text/plain": [
       "(0.1428571428571429, False, 0.030917574992439394, 0.04257219130365396)"
      ]
     },
     "execution_count": 18,
     "metadata": {},
     "output_type": "execute_result"
    }
   ],
   "source": [
    "bd.compare_root_variable_groups(\n",
    "    dataframe=df_with_predictions_lame,\n",
    "    target_variable='predictions',\n",
    "    root_variable='x3_education'\n",
    ")"
   ]
  },
  {
   "cell_type": "markdown",
   "id": "8a2bc328",
   "metadata": {},
   "source": [
    "## Experiment 3: freqs-vs-freqs, JS, A1=low, root_variable=x2_sex"
   ]
  },
  {
   "cell_type": "code",
   "execution_count": 19,
   "id": "6a29920a",
   "metadata": {},
   "outputs": [],
   "source": [
    "bd = FreqVsFreqBiasDetector(distance=\"JS\", A1=\"low\")"
   ]
  },
  {
   "cell_type": "markdown",
   "id": "47357f3b",
   "metadata": {},
   "source": [
    "#### Strong model, no conditioning variables"
   ]
  },
  {
   "cell_type": "code",
   "execution_count": 20,
   "id": "854b8e7d",
   "metadata": {},
   "outputs": [
    {
     "data": {
      "text/plain": [
       "(0.0011441803173238346, True, 0.038868585412256317, None)"
      ]
     },
     "execution_count": 20,
     "metadata": {},
     "output_type": "execute_result"
    }
   ],
   "source": [
    "bd.compare_root_variable_groups(\n",
    "    dataframe=df_with_predictions_strong,\n",
    "    target_variable='predictions',\n",
    "    root_variable='x2_sex'\n",
    ")"
   ]
  },
  {
   "cell_type": "markdown",
   "id": "1bf751a0",
   "metadata": {},
   "source": [
    "#### Weak model, no conditioning variables"
   ]
  },
  {
   "cell_type": "code",
   "execution_count": 21,
   "id": "9dc7857c",
   "metadata": {},
   "outputs": [
    {
     "data": {
      "text/plain": [
       "(0.0009363117559263138, True, 0.038868585412256317, None)"
      ]
     },
     "execution_count": 21,
     "metadata": {},
     "output_type": "execute_result"
    }
   ],
   "source": [
    "bd.compare_root_variable_groups(\n",
    "    dataframe=df_with_predictions_weak,\n",
    "    target_variable='predictions',\n",
    "    root_variable='x2_sex'\n",
    ")"
   ]
  },
  {
   "cell_type": "markdown",
   "id": "ef2db718",
   "metadata": {},
   "source": [
    "#### Lame model, no conditioning variables"
   ]
  },
  {
   "cell_type": "code",
   "execution_count": 22,
   "id": "14d3c7ab",
   "metadata": {},
   "outputs": [
    {
     "data": {
      "text/plain": [
       "(0.00029060576357160914, True, 0.038868585412256317, None)"
      ]
     },
     "execution_count": 22,
     "metadata": {},
     "output_type": "execute_result"
    }
   ],
   "source": [
    "bd.compare_root_variable_groups(\n",
    "    dataframe=df_with_predictions_lame,\n",
    "    target_variable='predictions',\n",
    "    root_variable='x2_sex'\n",
    ")"
   ]
  },
  {
   "cell_type": "markdown",
   "id": "8433113e",
   "metadata": {},
   "source": [
    "## Experiment 4: freqs-vs-freqs, JS, A1=low, root_variable=x3_education"
   ]
  },
  {
   "cell_type": "code",
   "execution_count": 23,
   "id": "1496adfe",
   "metadata": {},
   "outputs": [],
   "source": [
    "bd = FreqVsFreqBiasDetector(distance=\"JS\", A1=\"low\")"
   ]
  },
  {
   "cell_type": "markdown",
   "id": "6dc3cf5c",
   "metadata": {},
   "source": [
    "#### Strong model, no conditioning variables"
   ]
  },
  {
   "cell_type": "code",
   "execution_count": 24,
   "id": "fdbf5374",
   "metadata": {},
   "outputs": [
    {
     "data": {
      "text/plain": [
       "(0.07720553617455106, False, 0.030917574992439394, 0.028868970403301546)"
      ]
     },
     "execution_count": 24,
     "metadata": {},
     "output_type": "execute_result"
    }
   ],
   "source": [
    "bd.compare_root_variable_groups(\n",
    "    dataframe=df_with_predictions_strong,\n",
    "    target_variable='predictions',\n",
    "    root_variable='x3_education'\n",
    ")"
   ]
  },
  {
   "cell_type": "markdown",
   "id": "007f59f3",
   "metadata": {},
   "source": [
    "#### Weak model, no conditioning variables"
   ]
  },
  {
   "cell_type": "code",
   "execution_count": 25,
   "id": "f7744fef",
   "metadata": {},
   "outputs": [
    {
     "data": {
      "text/plain": [
       "(0.07539593734971191, False, 0.030917574992439394, 0.02886128575319307)"
      ]
     },
     "execution_count": 25,
     "metadata": {},
     "output_type": "execute_result"
    }
   ],
   "source": [
    "bd.compare_root_variable_groups(\n",
    "    dataframe=df_with_predictions_weak,\n",
    "    target_variable='predictions',\n",
    "    root_variable='x3_education'\n",
    ")"
   ]
  },
  {
   "cell_type": "markdown",
   "id": "1ce1c434",
   "metadata": {},
   "source": [
    "#### Lame model, no conditioning variables"
   ]
  },
  {
   "cell_type": "code",
   "execution_count": 26,
   "id": "4de9b1dc",
   "metadata": {},
   "outputs": [
    {
     "data": {
      "text/plain": [
       "(0.07539593734971191, False, 0.030917574992439394, 0.024635222244734474)"
      ]
     },
     "execution_count": 26,
     "metadata": {},
     "output_type": "execute_result"
    }
   ],
   "source": [
    "bd.compare_root_variable_groups(\n",
    "    dataframe=df_with_predictions_lame,\n",
    "    target_variable='predictions',\n",
    "    root_variable='x3_education'\n",
    ")"
   ]
  },
  {
   "cell_type": "markdown",
   "id": "558ca1e6",
   "metadata": {},
   "source": [
    "## Experiment 5: freqs-vs-freqs, JS, A1=low, root_variable=x6_pay_0 (discrete)"
   ]
  },
  {
   "cell_type": "code",
   "execution_count": 27,
   "id": "718bacdf",
   "metadata": {},
   "outputs": [],
   "source": [
    "def discrete_x6(x):\n",
    "    if x <= 2:\n",
    "        return x\n",
    "    else:\n",
    "        return 3\n",
    "\n",
    "df_with_predictions_lame[\"x6_pay_0_discrete\"] = df_with_predictions_lame[\"x6_pay_0\"].apply(lambda x: discrete_x6(x))\n",
    "df_with_predictions_strong[\"x6_pay_0_discrete\"] = df_with_predictions_strong[\"x6_pay_0\"].apply(lambda x: discrete_x6(x))\n",
    "df_with_predictions_weak[\"x6_pay_0_discrete\"] = df_with_predictions_weak[\"x6_pay_0\"].apply(lambda x: discrete_x6(x))"
   ]
  },
  {
   "cell_type": "code",
   "execution_count": 28,
   "id": "74dfb269",
   "metadata": {},
   "outputs": [],
   "source": [
    "bd = FreqVsFreqBiasDetector(distance=\"JS\", A1=\"low\")"
   ]
  },
  {
   "cell_type": "markdown",
   "id": "6d058c88",
   "metadata": {},
   "source": [
    "#### Strong model, no conditioning variables"
   ]
  },
  {
   "cell_type": "code",
   "execution_count": 29,
   "id": "45a8534c",
   "metadata": {},
   "outputs": [
    {
     "data": {
      "text/plain": [
       "(0.7711906405718167, False, 0.03144764235376052, 0.33614740604221743)"
      ]
     },
     "execution_count": 29,
     "metadata": {},
     "output_type": "execute_result"
    }
   ],
   "source": [
    "bd.compare_root_variable_groups(\n",
    "    dataframe=df_with_predictions_strong,\n",
    "    target_variable='predictions',\n",
    "    root_variable='x6_pay_0_discrete'\n",
    ")"
   ]
  },
  {
   "cell_type": "markdown",
   "id": "8452572d",
   "metadata": {},
   "source": [
    "#### Weak model, no conditioning variables"
   ]
  },
  {
   "cell_type": "code",
   "execution_count": 30,
   "id": "919dac4c",
   "metadata": {},
   "outputs": [
    {
     "data": {
      "text/plain": [
       "(0.4989003789987942, False, 0.03144764235376052, 0.19953711032941285)"
      ]
     },
     "execution_count": 30,
     "metadata": {},
     "output_type": "execute_result"
    }
   ],
   "source": [
    "bd.compare_root_variable_groups(\n",
    "    dataframe=df_with_predictions_weak,\n",
    "    target_variable='predictions',\n",
    "    root_variable='x6_pay_0_discrete'\n",
    ")"
   ]
  },
  {
   "cell_type": "markdown",
   "id": "b97c6a3e",
   "metadata": {},
   "source": [
    "#### Lame model, no conditioning variables"
   ]
  },
  {
   "cell_type": "code",
   "execution_count": 31,
   "id": "b88a6c70",
   "metadata": {},
   "outputs": [
    {
     "data": {
      "text/plain": [
       "(0.8589211642449359, False, 0.03144764235376052, 0.404899319828159)"
      ]
     },
     "execution_count": 31,
     "metadata": {},
     "output_type": "execute_result"
    }
   ],
   "source": [
    "bd.compare_root_variable_groups(\n",
    "    dataframe=df_with_predictions_lame,\n",
    "    target_variable='predictions',\n",
    "    root_variable='x6_pay_0_discrete'\n",
    ")"
   ]
  },
  {
   "cell_type": "markdown",
   "id": "0b35c261",
   "metadata": {},
   "source": [
    "## Experiment 6: freqs-vs-freqs, JS, A1=low, root_variable=x2_sex, conditioning_variable=x6_pay (discrete)"
   ]
  },
  {
   "cell_type": "code",
   "execution_count": 32,
   "id": "811152b6",
   "metadata": {},
   "outputs": [],
   "source": [
    "bd = FreqVsFreqBiasDetector(distance=\"JS\", A1=\"low\")"
   ]
  },
  {
   "cell_type": "markdown",
   "id": "1c1d0135",
   "metadata": {},
   "source": [
    "#### Strong model"
   ]
  },
  {
   "cell_type": "code",
   "execution_count": 33,
   "id": "0306bdb4",
   "metadata": {},
   "outputs": [],
   "source": [
    "results_strong_ex6 = bd.compare_root_variable_conditioned_groups(\n",
    "    dataframe=df_with_predictions_strong,\n",
    "    target_variable='predictions',\n",
    "    root_variable='x2_sex',\n",
    "    conditioning_variables=[\"x6_pay_0_discrete\"],\n",
    "    min_obs_per_group=30)"
   ]
  },
  {
   "cell_type": "code",
   "execution_count": 34,
   "id": "90a19b1b",
   "metadata": {},
   "outputs": [
    {
     "data": {
      "text/plain": [
       "{'x6_pay_0_discrete==0': (4415,\n",
       "  3.359847035497652e-05,\n",
       "  True,\n",
       "  0.0389193117772519,\n",
       "  None),\n",
       " 'x6_pay_0_discrete==2': (788,\n",
       "  6.792126013614701e-08,\n",
       "  True,\n",
       "  0.03915076465618199,\n",
       "  None),\n",
       " 'x6_pay_0_discrete==1': (1076,\n",
       "  0.01079832671100786,\n",
       "  True,\n",
       "  0.03909296230297796,\n",
       "  None),\n",
       " 'x6_pay_0_discrete==-2': (851, 0.0, True, 0.039135645033232476, None),\n",
       " 'x6_pay_0_discrete==-1': (1726,\n",
       "  3.3960511033214674e-05,\n",
       "  True,\n",
       "  0.039020789691049496,\n",
       "  None),\n",
       " 'x6_pay_0_discrete==3': (144, 0.0004375255127418719, True, 0.0396875, None)}"
      ]
     },
     "execution_count": 34,
     "metadata": {},
     "output_type": "execute_result"
    }
   ],
   "source": [
    "results_strong_ex6"
   ]
  },
  {
   "cell_type": "markdown",
   "id": "b2ef8b30",
   "metadata": {},
   "source": [
    "#### Weak model"
   ]
  },
  {
   "cell_type": "code",
   "execution_count": 35,
   "id": "379b1807",
   "metadata": {
    "scrolled": true
   },
   "outputs": [],
   "source": [
    "results_weak_ex6 = bd.compare_root_variable_conditioned_groups(\n",
    "    dataframe=df_with_predictions_weak,\n",
    "    target_variable='predictions',\n",
    "    root_variable='x2_sex',\n",
    "    conditioning_variables=[\"x6_pay_0_discrete\"],\n",
    "    min_obs_per_group=30)"
   ]
  },
  {
   "cell_type": "code",
   "execution_count": 36,
   "id": "82c321fe",
   "metadata": {},
   "outputs": [
    {
     "data": {
      "text/plain": [
       "{'x6_pay_0_discrete==0': (4415,\n",
       "  0.00022767345324620537,\n",
       "  True,\n",
       "  0.0389193117772519,\n",
       "  None),\n",
       " 'x6_pay_0_discrete==2': (788,\n",
       "  0.00017464737721858793,\n",
       "  True,\n",
       "  0.03915076465618199,\n",
       "  None),\n",
       " 'x6_pay_0_discrete==1': (1076,\n",
       "  0.005624199766508536,\n",
       "  True,\n",
       "  0.03909296230297796,\n",
       "  None),\n",
       " 'x6_pay_0_discrete==-2': (851,\n",
       "  0.00556536793974934,\n",
       "  True,\n",
       "  0.039135645033232476,\n",
       "  None),\n",
       " 'x6_pay_0_discrete==-1': (1726,\n",
       "  0.0002454704757063513,\n",
       "  True,\n",
       "  0.039020789691049496,\n",
       "  None),\n",
       " 'x6_pay_0_discrete==3': (144, 0.010663712690594325, True, 0.0396875, None)}"
      ]
     },
     "execution_count": 36,
     "metadata": {},
     "output_type": "execute_result"
    }
   ],
   "source": [
    "results_weak_ex6"
   ]
  },
  {
   "cell_type": "markdown",
   "id": "6e502eb7",
   "metadata": {},
   "source": [
    "#### Lame model"
   ]
  },
  {
   "cell_type": "code",
   "execution_count": 37,
   "id": "20b58d1f",
   "metadata": {},
   "outputs": [],
   "source": [
    "results_lame_ex6 = bd.compare_root_variable_conditioned_groups(\n",
    "    dataframe=df_with_predictions_lame,\n",
    "    target_variable='predictions',\n",
    "    root_variable='x2_sex',\n",
    "    conditioning_variables=[\"x6_pay_0_discrete\"],\n",
    "    min_obs_per_group=30)"
   ]
  },
  {
   "cell_type": "code",
   "execution_count": 38,
   "id": "1f04b549",
   "metadata": {},
   "outputs": [
    {
     "data": {
      "text/plain": [
       "{'x6_pay_0_discrete==0': (4415, 0.0, True, 0.0389193117772519, None),\n",
       " 'x6_pay_0_discrete==2': (788,\n",
       "  0.00014263243686207786,\n",
       "  True,\n",
       "  0.03915076465618199,\n",
       "  None),\n",
       " 'x6_pay_0_discrete==1': (1076, 0.0, True, 0.03909296230297796, None),\n",
       " 'x6_pay_0_discrete==-2': (851, 0.0, True, 0.039135645033232476, None),\n",
       " 'x6_pay_0_discrete==-1': (1726, 0.0, True, 0.039020789691049496, None),\n",
       " 'x6_pay_0_discrete==3': (144, 0.0, True, 0.0396875, None)}"
      ]
     },
     "execution_count": 38,
     "metadata": {},
     "output_type": "execute_result"
    }
   ],
   "source": [
    "results_lame_ex6"
   ]
  },
  {
   "cell_type": "markdown",
   "id": "e59f92b2",
   "metadata": {},
   "source": [
    "## Experiment 7: freqs-vs-freqs, TVD, A1=low, root_variable=x2_sex, conditioning_variable=x6_pay (discrete)"
   ]
  },
  {
   "cell_type": "code",
   "execution_count": 39,
   "id": "a3962f2c",
   "metadata": {},
   "outputs": [],
   "source": [
    "bd = FreqVsFreqBiasDetector(distance=\"TVD\", A1=\"low\")"
   ]
  },
  {
   "cell_type": "markdown",
   "id": "93632697",
   "metadata": {},
   "source": [
    "#### Strong model"
   ]
  },
  {
   "cell_type": "code",
   "execution_count": 40,
   "id": "db04edf8",
   "metadata": {},
   "outputs": [],
   "source": [
    "results_strong_ex7 = bd.compare_root_variable_conditioned_groups(\n",
    "    dataframe=df_with_predictions_strong,\n",
    "    target_variable='predictions',\n",
    "    root_variable='x2_sex',\n",
    "    conditioning_variables=[\"x6_pay_0_discrete\"],\n",
    "    min_obs_per_group=30)"
   ]
  },
  {
   "cell_type": "code",
   "execution_count": 41,
   "id": "c24fd3d5",
   "metadata": {},
   "outputs": [
    {
     "data": {
      "text/plain": [
       "{'x6_pay_0_discrete==0': (4415,\n",
       "  0.0005099035448375608,\n",
       "  True,\n",
       "  0.0389193117772519,\n",
       "  None),\n",
       " 'x6_pay_0_discrete==2': (788,\n",
       "  0.00017791835524372246,\n",
       "  True,\n",
       "  0.03915076465618199,\n",
       "  None),\n",
       " 'x6_pay_0_discrete==1': (1076,\n",
       "  0.08358658256880735,\n",
       "  False,\n",
       "  0.03909296230297796,\n",
       "  None),\n",
       " 'x6_pay_0_discrete==-2': (851, 0.0, True, 0.039135645033232476, None),\n",
       " 'x6_pay_0_discrete==-1': (1726,\n",
       "  0.001151020781208943,\n",
       "  True,\n",
       "  0.039020789691049496,\n",
       "  None),\n",
       " 'x6_pay_0_discrete==3': (144, 0.01550688117852296, True, 0.0396875, None)}"
      ]
     },
     "execution_count": 41,
     "metadata": {},
     "output_type": "execute_result"
    }
   ],
   "source": [
    "results_strong_ex7"
   ]
  },
  {
   "cell_type": "markdown",
   "id": "c8afb302",
   "metadata": {},
   "source": [
    "#### Weak model"
   ]
  },
  {
   "cell_type": "code",
   "execution_count": 42,
   "id": "fc3240a4",
   "metadata": {
    "scrolled": true
   },
   "outputs": [],
   "source": [
    "results_weak_ex7 = bd.compare_root_variable_conditioned_groups(\n",
    "    dataframe=df_with_predictions_weak,\n",
    "    target_variable='predictions',\n",
    "    root_variable='x2_sex',\n",
    "    conditioning_variables=[\"x6_pay_0_discrete\"],\n",
    "    min_obs_per_group=30)"
   ]
  },
  {
   "cell_type": "code",
   "execution_count": 43,
   "id": "6f4e1dc2",
   "metadata": {},
   "outputs": [
    {
     "data": {
      "text/plain": [
       "{'x6_pay_0_discrete==0': (4415,\n",
       "  0.004162196434452259,\n",
       "  True,\n",
       "  0.0389193117772519,\n",
       "  None),\n",
       " 'x6_pay_0_discrete==2': (788,\n",
       "  0.013502026292379177,\n",
       "  True,\n",
       "  0.03915076465618199,\n",
       "  None),\n",
       " 'x6_pay_0_discrete==1': (1076,\n",
       "  0.07061353211009175,\n",
       "  False,\n",
       "  0.03909296230297796,\n",
       "  None),\n",
       " 'x6_pay_0_discrete==-2': (851,\n",
       "  0.030280300039478902,\n",
       "  True,\n",
       "  0.039135645033232476,\n",
       "  None),\n",
       " 'x6_pay_0_discrete==-1': (1726,\n",
       "  0.005857924620991439,\n",
       "  True,\n",
       "  0.039020789691049496,\n",
       "  None),\n",
       " 'x6_pay_0_discrete==3': (144, 0.11145570847063391, False, 0.0396875, None)}"
      ]
     },
     "execution_count": 43,
     "metadata": {},
     "output_type": "execute_result"
    }
   ],
   "source": [
    "results_weak_ex7"
   ]
  },
  {
   "cell_type": "markdown",
   "id": "d3842421",
   "metadata": {},
   "source": [
    "#### Lame model"
   ]
  },
  {
   "cell_type": "code",
   "execution_count": 44,
   "id": "aa2a5f01",
   "metadata": {},
   "outputs": [],
   "source": [
    "results_lame_ex7 = bd.compare_root_variable_conditioned_groups(\n",
    "    dataframe=df_with_predictions_lame,\n",
    "    target_variable='predictions',\n",
    "    root_variable='x2_sex',\n",
    "    conditioning_variables=[\"x6_pay_0_discrete\"],\n",
    "    min_obs_per_group=30)"
   ]
  },
  {
   "cell_type": "code",
   "execution_count": 45,
   "id": "1169e5d3",
   "metadata": {},
   "outputs": [
    {
     "data": {
      "text/plain": [
       "{'x6_pay_0_discrete==0': (4415, 0.0, True, 0.0389193117772519, None),\n",
       " 'x6_pay_0_discrete==2': (788,\n",
       "  0.005996507528582273,\n",
       "  True,\n",
       "  0.03915076465618199,\n",
       "  None),\n",
       " 'x6_pay_0_discrete==1': (1076, 0.0, True, 0.03909296230297796, None),\n",
       " 'x6_pay_0_discrete==-2': (851, 0.0, True, 0.039135645033232476, None),\n",
       " 'x6_pay_0_discrete==-1': (1726, 0.0, True, 0.039020789691049496, None),\n",
       " 'x6_pay_0_discrete==3': (144, 0.0, True, 0.0396875, None)}"
      ]
     },
     "execution_count": 45,
     "metadata": {},
     "output_type": "execute_result"
    }
   ],
   "source": [
    "results_lame_ex7"
   ]
  },
  {
   "cell_type": "markdown",
   "id": "67b32889",
   "metadata": {},
   "source": [
    "#### Checking distances ordering for experiment 6 vs 7"
   ]
  },
  {
   "cell_type": "code",
   "execution_count": 46,
   "id": "8780f9a4",
   "metadata": {},
   "outputs": [],
   "source": [
    "#### Checking JS <= TVD"
   ]
  },
  {
   "cell_type": "code",
   "execution_count": 47,
   "id": "6c66f9e4",
   "metadata": {},
   "outputs": [
    {
     "data": {
      "text/plain": [
       "[True, True, True, True, True, True]"
      ]
     },
     "execution_count": 47,
     "metadata": {},
     "output_type": "execute_result"
    }
   ],
   "source": [
    "[js[1]<=tvd[1] for js, tvd in zip(results_weak_ex6.values(), results_weak_ex7.values())]"
   ]
  },
  {
   "cell_type": "code",
   "execution_count": 48,
   "id": "39dcd631",
   "metadata": {},
   "outputs": [
    {
     "data": {
      "text/plain": [
       "[True, True, True, True, True, True]"
      ]
     },
     "execution_count": 48,
     "metadata": {},
     "output_type": "execute_result"
    }
   ],
   "source": [
    "[js[1]<=tvd[1] for js, tvd in zip(results_strong_ex6.values(), results_strong_ex7.values())]"
   ]
  },
  {
   "cell_type": "code",
   "execution_count": 49,
   "id": "77d8de39",
   "metadata": {},
   "outputs": [
    {
     "data": {
      "text/plain": [
       "[True, True, True, True, True, True]"
      ]
     },
     "execution_count": 49,
     "metadata": {},
     "output_type": "execute_result"
    }
   ],
   "source": [
    "[js[1]<=tvd[1] for js, tvd in zip(results_lame_ex6.values(), results_lame_ex7.values())]"
   ]
  },
  {
   "cell_type": "code",
   "execution_count": 50,
   "id": "fdbef465",
   "metadata": {},
   "outputs": [],
   "source": [
    "#### Checking JS < TVD"
   ]
  },
  {
   "cell_type": "code",
   "execution_count": 51,
   "id": "4381ff42",
   "metadata": {},
   "outputs": [
    {
     "data": {
      "text/plain": [
       "[True, True, True, True, True, True]"
      ]
     },
     "execution_count": 51,
     "metadata": {},
     "output_type": "execute_result"
    }
   ],
   "source": [
    "[js[1]<tvd[1] for js, tvd in zip(results_weak_ex6.values(), results_weak_ex7.values())]"
   ]
  },
  {
   "cell_type": "code",
   "execution_count": 52,
   "id": "b6885d5c",
   "metadata": {},
   "outputs": [
    {
     "data": {
      "text/plain": [
       "[True, True, True, False, True, True]"
      ]
     },
     "execution_count": 52,
     "metadata": {},
     "output_type": "execute_result"
    }
   ],
   "source": [
    "# The false here is for one case with JS==TVD\n",
    "[js[1]<tvd[1] for js, tvd in zip(results_strong_ex6.values(), results_strong_ex7.values())]"
   ]
  },
  {
   "cell_type": "code",
   "execution_count": 53,
   "id": "e8e5f806",
   "metadata": {},
   "outputs": [
    {
     "data": {
      "text/plain": [
       "[True, True, True, True, True, True]"
      ]
     },
     "execution_count": 53,
     "metadata": {},
     "output_type": "execute_result"
    }
   ],
   "source": [
    "[js[1]<=tvd[1] for js, tvd in zip(results_lame_ex6.values(), results_lame_ex7.values())]"
   ]
  },
  {
   "cell_type": "markdown",
   "id": "c1932544",
   "metadata": {},
   "source": [
    "###### Focus on the case where the ordering is not respected"
   ]
  },
  {
   "cell_type": "code",
   "execution_count": 54,
   "id": "d93ae962",
   "metadata": {},
   "outputs": [
    {
     "data": {
      "text/plain": [
       "{'x6_pay_0_discrete==0': (True, 3.359847035497652e-05, 0.0005099035448375608),\n",
       " 'x6_pay_0_discrete==2': (True, 6.792126013614701e-08, 0.00017791835524372246),\n",
       " 'x6_pay_0_discrete==1': (True, 0.01079832671100786, 0.08358658256880735),\n",
       " 'x6_pay_0_discrete==-2': (False, 0.0, 0.0),\n",
       " 'x6_pay_0_discrete==-1': (True, 3.3960511033214674e-05, 0.001151020781208943),\n",
       " 'x6_pay_0_discrete==3': (True, 0.0004375255127418719, 0.01550688117852296)}"
      ]
     },
     "execution_count": 54,
     "metadata": {},
     "output_type": "execute_result"
    }
   ],
   "source": [
    "# The false here is for one case with JS==TVD\n",
    "{k: (js[1]<tvd[1], js[1], tvd[1]) for k, js, tvd in zip(results_strong_ex6.keys(), results_strong_ex6.values(), results_strong_ex7.values())}"
   ]
  },
  {
   "cell_type": "code",
   "execution_count": null,
   "id": "a37cefe1",
   "metadata": {},
   "outputs": [],
   "source": []
  }
 ],
 "metadata": {
  "kernelspec": {
   "display_name": "Python 3 (ipykernel)",
   "language": "python",
   "name": "python3"
  },
  "language_info": {
   "codemirror_mode": {
    "name": "ipython",
    "version": 3
   },
   "file_extension": ".py",
   "mimetype": "text/x-python",
   "name": "python",
   "nbconvert_exporter": "python",
   "pygments_lexer": "ipython3",
   "version": "3.10.9"
  }
 },
 "nbformat": 4,
 "nbformat_minor": 5
}
