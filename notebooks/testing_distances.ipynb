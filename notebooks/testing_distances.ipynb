{
 "cells": [
  {
   "cell_type": "code",
   "execution_count": 1,
   "id": "79696b7e",
   "metadata": {},
   "outputs": [],
   "source": [
    "import os, sys\n",
    "dir2 = os.path.abspath('')\n",
    "dir1 = os.path.dirname(dir2)\n",
    "if not dir1 in sys.path: sys.path.append(dir1)"
   ]
  },
  {
   "cell_type": "code",
   "execution_count": 2,
   "id": "b86449e9",
   "metadata": {},
   "outputs": [],
   "source": [
    "from src.data_processing.Preprocessing import Preprocessing\n",
    "from src.bias.BiasDetector import BiasDetector\n",
    "from sklearn.model_selection import train_test_split\n",
    "import numpy as np\n",
    "from src.bias.Distance import Distance\n",
    "from pickle import dump, load\n",
    "import pandas as pd"
   ]
  },
  {
   "cell_type": "code",
   "execution_count": 3,
   "id": "c00ebafa",
   "metadata": {},
   "outputs": [],
   "source": [
    "input_data_path = \"../data/raw_data/uci-default-of-credit-card/data/data.csv\"\n"
   ]
  },
  {
   "cell_type": "code",
   "execution_count": 4,
   "id": "7b58e286",
   "metadata": {},
   "outputs": [],
   "source": [
    "with open(\"mlruns/1/1e4a0667c7a64cbe8c7b023410e5781c/artifacts/model/model.pkl\", \"rb\") as file:\n",
    "    classifier = load(file)"
   ]
  },
  {
   "cell_type": "code",
   "execution_count": 5,
   "id": "694e0ae7",
   "metadata": {},
   "outputs": [],
   "source": [
    "pp = Preprocessing(input_data_path, \"default\")\n",
    "X, Y = pp.read_dataframe()\n",
    "\n",
    "X_train, X_test, Y_train, Y_test = train_test_split(X,Y, test_size=0.3, random_state=420)\n",
    "\n",
    "\n",
    "#preprocessing ohe\n",
    "shapes_pre = (X_train.shape[0], X_test.shape[0])\n",
    "X_train_ohe, ohe, scaler = pp.preprocess_for_classification(df=X_train, fit_ohe=True, perform_scaling=True)\n",
    "X_test_ohe, _, _ = pp.preprocess_for_classification(df=X_test, \n",
    "                                                    fit_ohe=True, \n",
    "                                                    fitted_ohe=ohe,\n",
    "                                                    perform_scaling=True,\n",
    "                                                    fitted_scaler=scaler)"
   ]
  },
  {
   "cell_type": "code",
   "execution_count": 6,
   "id": "2f4a2d55",
   "metadata": {},
   "outputs": [],
   "source": [
    "predicted_prob = classifier.predict_proba(X_test_ohe)\n",
    "predicted_values = classifier.predict(X_test_ohe)"
   ]
  },
  {
   "cell_type": "code",
   "execution_count": 7,
   "id": "3258780d",
   "metadata": {},
   "outputs": [],
   "source": [
    "df_with_predictions = pd.concat(\n",
    "    [X_test.reset_index(drop=True), pd.Series(predicted_values)], axis=1).rename(columns={0:\"predictions\"})"
   ]
  },
  {
   "cell_type": "code",
   "execution_count": 8,
   "id": "2f38721a",
   "metadata": {},
   "outputs": [],
   "source": [
    "predicted_ones = df_with_predictions.loc[\n",
    "    df_with_predictions.predictions==1\n",
    "]"
   ]
  },
  {
   "cell_type": "code",
   "execution_count": 9,
   "id": "ffd958b6",
   "metadata": {},
   "outputs": [],
   "source": [
    "predicted_zeroes = df_with_predictions.loc[\n",
    "    df_with_predictions.predictions==0\n",
    "]"
   ]
  },
  {
   "cell_type": "code",
   "execution_count": 10,
   "id": "d677c703",
   "metadata": {},
   "outputs": [],
   "source": [
    "dis = Distance()"
   ]
  },
  {
   "cell_type": "code",
   "execution_count": 11,
   "id": "727a0deb",
   "metadata": {},
   "outputs": [],
   "source": [
    "# 2: Gender (1 = male; 2 = female).',\n",
    "# '3: Education (1 = graduate school; 2 = university; 3 = high school; 4 = others).',\n"
   ]
  },
  {
   "cell_type": "code",
   "execution_count": 12,
   "id": "fc541120",
   "metadata": {},
   "outputs": [],
   "source": [
    "gender_freq_zeros = np.array(\n",
    "    predicted_zeroes.x2_sex.value_counts(normalize=True)\n",
    ")"
   ]
  },
  {
   "cell_type": "code",
   "execution_count": 13,
   "id": "ba680040",
   "metadata": {},
   "outputs": [
    {
     "data": {
      "text/plain": [
       "2    4897\n",
       "1    3103\n",
       "Name: x2_sex, dtype: int64"
      ]
     },
     "execution_count": 13,
     "metadata": {},
     "output_type": "execute_result"
    }
   ],
   "source": [
    "predicted_zeroes.x2_sex.value_counts()"
   ]
  },
  {
   "cell_type": "code",
   "execution_count": 14,
   "id": "ed1b5346",
   "metadata": {},
   "outputs": [],
   "source": [
    "gender_freq_ones = np.array(\n",
    "    predicted_ones.x2_sex.value_counts(normalize=True)\n",
    ")"
   ]
  },
  {
   "cell_type": "code",
   "execution_count": 15,
   "id": "ef872e99",
   "metadata": {},
   "outputs": [],
   "source": [
    "# [female_0, male_0], [female_1, male_1]\n",
    "freq_list = [ \n",
    "    np.array([gender_freq_zeros[0], gender_freq_zeros[1]]), \n",
    "    np.array([gender_freq_ones[0], gender_freq_ones[1]]) \n",
    "]"
   ]
  },
  {
   "cell_type": "code",
   "execution_count": 16,
   "id": "d8452f04",
   "metadata": {},
   "outputs": [
    {
     "data": {
      "text/plain": [
       "[array([0.612125, 0.387875]), array([0.551, 0.449])]"
      ]
     },
     "execution_count": 16,
     "metadata": {},
     "output_type": "execute_result"
    }
   ],
   "source": [
    "freq_list"
   ]
  },
  {
   "cell_type": "code",
   "execution_count": 17,
   "id": "a4a50c36",
   "metadata": {
    "scrolled": true
   },
   "outputs": [
    {
     "data": {
      "text/plain": [
       "0.061124999999999985"
      ]
     },
     "execution_count": 17,
     "metadata": {},
     "output_type": "execute_result"
    }
   ],
   "source": [
    "dis.compute_distance_between_frequencies(freq_list)"
   ]
  },
  {
   "cell_type": "code",
   "execution_count": 18,
   "id": "3f7dc916",
   "metadata": {},
   "outputs": [],
   "source": [
    "# test della funzione da BiasDetector\n",
    "bd = BiasDetector()"
   ]
  },
  {
   "cell_type": "code",
   "execution_count": 19,
   "id": "3bdcca90",
   "metadata": {},
   "outputs": [
    {
     "data": {
      "text/plain": [
       "{1: (0.06643323350994396, True),\n",
       " 3: (0.06406963470319638, True),\n",
       " 2: (0.062267282715836814, True),\n",
       " 4: (0.6, False),\n",
       " 5: (0.37500000000000006, False),\n",
       " 6: (0.08333333333333337, True),\n",
       " 0: (1.0, False)}"
      ]
     },
     "execution_count": 19,
     "metadata": {},
     "output_type": "execute_result"
    }
   ],
   "source": [
    "bd.compare_binary_variable_conditioned_groups(df_with_predictions,\n",
    "                                              'predictions',\n",
    "                                              'x2_sex',\n",
    "                                              'x3_education',\n",
    "                                              0.1)"
   ]
  },
  {
   "cell_type": "code",
   "execution_count": 20,
   "id": "6e1b2f6b",
   "metadata": {},
   "outputs": [
    {
     "data": {
      "text/plain": [
       "{1: (0.04541704252931733, True),\n",
       " 2: (0.07753412294068796, True),\n",
       " 3: (0.11144578313253017, False),\n",
       " 0: (0.8333333333333334, False)}"
      ]
     },
     "execution_count": 20,
     "metadata": {},
     "output_type": "execute_result"
    }
   ],
   "source": [
    "bd.compare_binary_variable_conditioned_groups(df_with_predictions,\n",
    "                                              'predictions',\n",
    "                                              'x2_sex',\n",
    "                                              'x4_marriage',\n",
    "                                              0.1)"
   ]
  },
  {
   "cell_type": "code",
   "execution_count": 21,
   "id": "cad7c320",
   "metadata": {},
   "outputs": [
    {
     "data": {
      "text/plain": [
       "Index(['id', 'x1_limit_bal', 'x2_sex', 'x3_education', 'x4_marriage', 'x5_age',\n",
       "       'x6_pay_0', 'x7_pay_2', 'x8_pay_3', 'x9_pay_4', 'x10_pay_5',\n",
       "       'x11_pay_6', 'x12_bill_amt1', 'x13_bill_amt2', 'x14_bill_amt3',\n",
       "       'x15_bill_amt4', 'x16_bill_amt5', 'x17_bill_amt6', 'x18_pay_amt1',\n",
       "       'x19_pay_amt2', 'x20_pay_amt3', 'x21_pay_amt4', 'x22_pay_amt5',\n",
       "       'x23_pay_amt6', 'y_default_payment_next_month'],\n",
       "      dtype='object')"
      ]
     },
     "execution_count": 21,
     "metadata": {},
     "output_type": "execute_result"
    }
   ],
   "source": [
    "X.columns"
   ]
  },
  {
   "cell_type": "code",
   "execution_count": 22,
   "id": "5ad06eaf",
   "metadata": {},
   "outputs": [
    {
     "data": {
      "text/plain": [
       "{1: (0.04541704252931733, True),\n",
       " 2: (0.07753412294068796, True),\n",
       " 3: (0.11144578313253017, False),\n",
       " 0: (0.8333333333333334, False)}"
      ]
     },
     "execution_count": 22,
     "metadata": {},
     "output_type": "execute_result"
    }
   ],
   "source": [
    "bd.compare_binary_variable_conditioned_groups(df_with_predictions,\n",
    "                                              'predictions',\n",
    "                                              'x2_sex',\n",
    "                                              'x4_marriage',\n",
    "                                              0.1)"
   ]
  },
  {
   "cell_type": "code",
   "execution_count": null,
   "id": "4536849e",
   "metadata": {},
   "outputs": [],
   "source": []
  }
 ],
 "metadata": {
  "kernelspec": {
   "display_name": "Python 3 (ipykernel)",
   "language": "python",
   "name": "python3"
  },
  "language_info": {
   "codemirror_mode": {
    "name": "ipython",
    "version": 3
   },
   "file_extension": ".py",
   "mimetype": "text/x-python",
   "name": "python",
   "nbconvert_exporter": "python",
   "pygments_lexer": "ipython3",
   "version": "3.10.9"
  }
 },
 "nbformat": 4,
 "nbformat_minor": 5
}
