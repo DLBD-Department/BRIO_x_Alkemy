{
 "cells": [
  {
   "cell_type": "code",
   "execution_count": 1,
   "id": "0b134d6e",
   "metadata": {},
   "outputs": [],
   "source": [
    "import os, sys\n",
    "dir2 = os.path.abspath('')\n",
    "dir1 = os.path.dirname(dir2)\n",
    "if not dir1 in sys.path: sys.path.append(dir1)"
   ]
  },
  {
   "cell_type": "code",
   "execution_count": 2,
   "id": "77c1e269",
   "metadata": {},
   "outputs": [],
   "source": [
    "from src.utils.Preprocessing import Preprocessing\n",
    "from sklearn.model_selection import train_test_split\n",
    "from pickle import dump, load\n",
    "import pandas as pd\n",
    "import numpy as np\n",
    "\n",
    "from src.bias.FreqVsFreqBiasDetector import FreqVsFreqBiasDetector"
   ]
  },
  {
   "cell_type": "markdown",
   "id": "68af6499",
   "metadata": {},
   "source": [
    "## Importing Data and Trained Classifier"
   ]
  },
  {
   "cell_type": "markdown",
   "id": "6cfad7a0",
   "metadata": {},
   "source": [
    "**UX**: \n",
    "- the user uploads the dataset with the features (X)\n",
    "- the user uploads \n",
    "    - the sklearn model as pkl file **or**\n",
    "    - a file with the predictions already created (Y). \n",
    "- the user uploads scaler and ohe (if needed)\n",
    "\n",
    "If a model is provided, the application checks if the the provided datasets and model match in terms of column names. "
   ]
  },
  {
   "cell_type": "code",
   "execution_count": 3,
   "id": "66127e6c",
   "metadata": {},
   "outputs": [],
   "source": [
    "input_data_path = \"../data/raw_data/uci-default-of-credit-card/data/data.csv\"\n",
    "local_path_save = '../data/mlflow_artifacts/'"
   ]
  },
  {
   "cell_type": "code",
   "execution_count": 4,
   "id": "bf0e3b01",
   "metadata": {},
   "outputs": [
    {
     "name": "stderr",
     "output_type": "stream",
     "text": [
      "/Users/davideposillipo/.pyenv/versions/3.10.9/envs/prova/lib/python3.10/site-packages/sklearn/base.py:329: UserWarning: Trying to unpickle estimator OneHotEncoder from version 1.2.1 when using version 1.0.2. This might lead to breaking code or invalid results. Use at your own risk. For more info please refer to:\n",
      "https://scikit-learn.org/stable/modules/model_persistence.html#security-maintainability-limitations\n",
      "  warnings.warn(\n",
      "/Users/davideposillipo/.pyenv/versions/3.10.9/envs/prova/lib/python3.10/site-packages/sklearn/base.py:329: UserWarning: Trying to unpickle estimator StandardScaler from version 1.2.1 when using version 1.0.2. This might lead to breaking code or invalid results. Use at your own risk. For more info please refer to:\n",
      "https://scikit-learn.org/stable/modules/model_persistence.html#security-maintainability-limitations\n",
      "  warnings.warn(\n"
     ]
    }
   ],
   "source": [
    "fitted_ohe = load(open(local_path_save + '_ohe.pkl', 'rb')) \n",
    "fitted_scaler = load(open(local_path_save + '_scaler.pkl', 'rb'))"
   ]
  },
  {
   "cell_type": "code",
   "execution_count": 5,
   "id": "6646c312",
   "metadata": {},
   "outputs": [],
   "source": [
    "pp = Preprocessing(input_data_path, \"default\")\n",
    "X, Y = pp.read_dataframe()\n",
    "\n",
    "X_train, X_test, Y_train, Y_test = train_test_split(X,Y, test_size=0.3, random_state=420)\n",
    "\n",
    "X_test_ohe, _, _ = pp.preprocess_for_classification(df=X_test, \n",
    "                                                fit_ohe=True, \n",
    "                                                fitted_ohe=fitted_ohe,\n",
    "                                                perform_scaling=True,\n",
    "                                                fitted_scaler=fitted_scaler)"
   ]
  },
  {
   "cell_type": "code",
   "execution_count": 6,
   "id": "ba010d39",
   "metadata": {},
   "outputs": [],
   "source": [
    "with open(\"mlruns/1/1e4a0667c7a64cbe8c7b023410e5781c/artifacts/model/model.pkl\", \"rb\") as file:\n",
    "    classifier = load(file)"
   ]
  },
  {
   "cell_type": "code",
   "execution_count": 7,
   "id": "04cacf92",
   "metadata": {},
   "outputs": [],
   "source": [
    "predicted_prob = classifier.predict_proba(X_test_ohe)\n",
    "predicted_values = classifier.predict(X_test_ohe)"
   ]
  },
  {
   "cell_type": "markdown",
   "id": "01057c6d",
   "metadata": {},
   "source": [
    "#### Definition of conditioning variables\n",
    "**UX**:\n",
    "- the user selects the continuous features to be categorized and used for the creation of control groups. \n",
    "\n",
    "The application propose splitting cuts that make the resulting discrete distribution uniform (but also other binning procedures are possible). "
   ]
  },
  {
   "cell_type": "code",
   "execution_count": 8,
   "id": "d7e96a84",
   "metadata": {},
   "outputs": [],
   "source": [
    "def age_buckets(x):\n",
    "    if x < 30:\n",
    "        return 1\n",
    "    elif x < 40:\n",
    "        return 2\n",
    "    else:\n",
    "        return 3\n",
    "\n",
    "X_test['age_buckets'] = X.x5_age.apply(age_buckets)"
   ]
  },
  {
   "cell_type": "markdown",
   "id": "7fbb116c",
   "metadata": {},
   "source": [
    "**UX**:\n",
    "- the user selects from a drop down menu the variables to be used for the groups creation\n",
    "- the user can select \"check all the variables\" and the application will use all the available discrete features"
   ]
  },
  {
   "cell_type": "code",
   "execution_count": 9,
   "id": "c24a0c9c",
   "metadata": {},
   "outputs": [],
   "source": [
    "conditioning_variables = ['x3_education', 'x4_marriage', 'age_buckets']"
   ]
  },
  {
   "cell_type": "code",
   "execution_count": 10,
   "id": "7950602d",
   "metadata": {},
   "outputs": [],
   "source": [
    "df_with_predictions = pd.concat(\n",
    "    [X_test.reset_index(drop=True), pd.Series(predicted_values)], axis=1).rename(columns={0:\"predictions\"})"
   ]
  },
  {
   "cell_type": "markdown",
   "id": "ea1b5fc8",
   "metadata": {},
   "source": [
    "## Bias Detection"
   ]
  },
  {
   "cell_type": "markdown",
   "id": "852c7137",
   "metadata": {},
   "source": [
    "**UX**:\n",
    "- the user selects from a drop down menu the binary variable to be used for the distance calculation\n",
    "- the user selects a threshold for the distance\n",
    "- the user selects a Distance (if more than one are provided)"
   ]
  },
  {
   "cell_type": "code",
   "execution_count": 11,
   "id": "38346302",
   "metadata": {},
   "outputs": [],
   "source": [
    "bd = FreqVsFreqBiasDetector(distance=\"TVD\")"
   ]
  },
  {
   "cell_type": "markdown",
   "id": "28af1338",
   "metadata": {},
   "source": [
    "**UX**:\n",
    "\n",
    "The user has can select between two options:\n",
    "- Option 1: distance between frequencies\n",
    "- Option 2: distance from reference distribution\n",
    "    - in this case, the user has to insert values for a reference distribution"
   ]
  },
  {
   "cell_type": "markdown",
   "id": "af1d858e",
   "metadata": {},
   "source": [
    "## Option 1: Distance between frequencies"
   ]
  },
  {
   "cell_type": "markdown",
   "id": "0e6e5723",
   "metadata": {},
   "source": [
    "### Comparison of the two groups observed freqs (A1=high)"
   ]
  },
  {
   "cell_type": "code",
   "execution_count": 12,
   "id": "9dc1af6e",
   "metadata": {},
   "outputs": [
    {
     "data": {
      "text/plain": [
       "(0.025269625352224545, True, 0.1)"
      ]
     },
     "execution_count": 12,
     "metadata": {},
     "output_type": "execute_result"
    }
   ],
   "source": [
    "bd.compare_root_variable_groups(\n",
    "    dataframe=df_with_predictions,\n",
    "    target_variable='predictions',\n",
    "    root_variable='x2_sex',\n",
    "    threshold=0.1\n",
    ")"
   ]
  },
  {
   "cell_type": "code",
   "execution_count": 13,
   "id": "a9a3633c",
   "metadata": {},
   "outputs": [
    {
     "data": {
      "text/plain": [
       "(0.025269625352224545, False, 0.016368585412256314)"
      ]
     },
     "execution_count": 13,
     "metadata": {},
     "output_type": "execute_result"
    }
   ],
   "source": [
    "bd.compare_root_variable_groups(\n",
    "    dataframe=df_with_predictions,\n",
    "    target_variable='predictions',\n",
    "    root_variable='x2_sex'\n",
    ")"
   ]
  },
  {
   "cell_type": "code",
   "execution_count": 14,
   "id": "ed803019",
   "metadata": {},
   "outputs": [],
   "source": [
    "#distance = max( abs(female_0_freq - male_0_freq), abs(female_1_freq - male_1_freq) )"
   ]
  },
  {
   "cell_type": "code",
   "execution_count": 15,
   "id": "a9ed3e0b",
   "metadata": {
    "scrolled": true
   },
   "outputs": [
    {
     "data": {
      "text/plain": [
       "x2_sex  predictions\n",
       "1       0              0.873592\n",
       "        1              0.126408\n",
       "2       0              0.898862\n",
       "        1              0.101138\n",
       "Name: predictions, dtype: float64"
      ]
     },
     "execution_count": 15,
     "metadata": {},
     "output_type": "execute_result"
    }
   ],
   "source": [
    "df_with_predictions.groupby(\"x2_sex\").predictions.value_counts(normalize=True)"
   ]
  },
  {
   "cell_type": "markdown",
   "id": "f5a700b6",
   "metadata": {},
   "source": [
    "### Comparison of the two groups observed freqs (A1=low)"
   ]
  },
  {
   "cell_type": "code",
   "execution_count": 16,
   "id": "bf553658",
   "metadata": {},
   "outputs": [],
   "source": [
    "bd_low = FreqVsFreqBiasDetector(distance=\"TVD\", A1=\"low\")"
   ]
  },
  {
   "cell_type": "code",
   "execution_count": 17,
   "id": "32d2b7fe",
   "metadata": {},
   "outputs": [
    {
     "data": {
      "text/plain": [
       "(0.025269625352224545, True, 0.038868585412256317)"
      ]
     },
     "execution_count": 17,
     "metadata": {},
     "output_type": "execute_result"
    }
   ],
   "source": [
    "bd_low.compare_root_variable_groups(\n",
    "    dataframe=df_with_predictions,\n",
    "    target_variable='predictions',\n",
    "    root_variable='x2_sex'\n",
    ")"
   ]
  },
  {
   "cell_type": "markdown",
   "id": "12314213",
   "metadata": {},
   "source": [
    "### Comparison of the two groups observed freqs, root_variable = age_buckets"
   ]
  },
  {
   "cell_type": "code",
   "execution_count": 18,
   "id": "7a46a391",
   "metadata": {},
   "outputs": [
    {
     "data": {
      "text/plain": [
       "(0.029621721777916887, True, 0.1)"
      ]
     },
     "execution_count": 18,
     "metadata": {},
     "output_type": "execute_result"
    }
   ],
   "source": [
    "bd.compare_root_variable_groups(\n",
    "    dataframe=df_with_predictions,\n",
    "    target_variable='predictions',\n",
    "    root_variable='age_buckets',\n",
    "    threshold=0.1\n",
    ")"
   ]
  },
  {
   "cell_type": "code",
   "execution_count": 19,
   "id": "fc4f0de8",
   "metadata": {},
   "outputs": [
    {
     "data": {
      "text/plain": [
       "(0.029621721777916887, False, 0.012658113883008418)"
      ]
     },
     "execution_count": 19,
     "metadata": {},
     "output_type": "execute_result"
    }
   ],
   "source": [
    "bd.compare_root_variable_groups(\n",
    "    dataframe=df_with_predictions,\n",
    "    target_variable='predictions',\n",
    "    root_variable='age_buckets'\n",
    ")"
   ]
  },
  {
   "cell_type": "code",
   "execution_count": 20,
   "id": "93379a14",
   "metadata": {},
   "outputs": [
    {
     "data": {
      "text/plain": [
       "(0.029621721777916887, True, 0.03515811388300842)"
      ]
     },
     "execution_count": 20,
     "metadata": {},
     "output_type": "execute_result"
    }
   ],
   "source": [
    "bd_low.compare_root_variable_groups(\n",
    "    dataframe=df_with_predictions,\n",
    "    target_variable='predictions',\n",
    "    root_variable='age_buckets'\n",
    ")"
   ]
  },
  {
   "cell_type": "markdown",
   "id": "e5846912",
   "metadata": {},
   "source": [
    "### Comparison of the two groups observed freqs, root_variable = x3_education"
   ]
  },
  {
   "cell_type": "code",
   "execution_count": 21,
   "id": "6a3a43a8",
   "metadata": {},
   "outputs": [
    {
     "data": {
      "text/plain": [
       "(0.14609739826551038, False, 0.1)"
      ]
     },
     "execution_count": 21,
     "metadata": {},
     "output_type": "execute_result"
    }
   ],
   "source": [
    "bd.compare_root_variable_groups(\n",
    "    dataframe=df_with_predictions,\n",
    "    target_variable='predictions',\n",
    "    root_variable='x3_education',\n",
    "    threshold=0.1\n",
    ")"
   ]
  },
  {
   "cell_type": "code",
   "execution_count": 22,
   "id": "1a79b393",
   "metadata": {},
   "outputs": [
    {
     "data": {
      "text/plain": [
       "(0.14609739826551038, False, 0.008417574992439395)"
      ]
     },
     "execution_count": 22,
     "metadata": {},
     "output_type": "execute_result"
    }
   ],
   "source": [
    "bd.compare_root_variable_groups(\n",
    "    dataframe=df_with_predictions,\n",
    "    target_variable='predictions',\n",
    "    root_variable='x3_education'\n",
    ")"
   ]
  },
  {
   "cell_type": "code",
   "execution_count": 23,
   "id": "21007b95",
   "metadata": {
    "scrolled": true
   },
   "outputs": [
    {
     "data": {
      "text/plain": [
       "(0.14609739826551038, False, 0.030917574992439394)"
      ]
     },
     "execution_count": 23,
     "metadata": {},
     "output_type": "execute_result"
    }
   ],
   "source": [
    "bd_low.compare_root_variable_groups(\n",
    "    dataframe=df_with_predictions,\n",
    "    target_variable='predictions',\n",
    "    root_variable='x3_education'\n",
    ")"
   ]
  },
  {
   "cell_type": "markdown",
   "id": "62b90251",
   "metadata": {},
   "source": [
    "##### Using min as aggregating function"
   ]
  },
  {
   "cell_type": "code",
   "execution_count": 24,
   "id": "f5c77378",
   "metadata": {},
   "outputs": [],
   "source": [
    "bd_high_min = FreqVsFreqBiasDetector(distance=\"TVD\", aggregating_function=min)\n",
    "bd_low_min = FreqVsFreqBiasDetector(distance=\"TVD\",aggregating_function=min, A1=\"low\")"
   ]
  },
  {
   "cell_type": "code",
   "execution_count": 25,
   "id": "2793873a",
   "metadata": {},
   "outputs": [
    {
     "data": {
      "text/plain": [
       "(0.0, True, 0.1)"
      ]
     },
     "execution_count": 25,
     "metadata": {},
     "output_type": "execute_result"
    }
   ],
   "source": [
    "bd_high_min.compare_root_variable_groups(\n",
    "    dataframe=df_with_predictions,\n",
    "    target_variable='predictions',\n",
    "    root_variable='x3_education',\n",
    "    threshold=0.1\n",
    ")"
   ]
  },
  {
   "cell_type": "code",
   "execution_count": 26,
   "id": "c26473bb",
   "metadata": {},
   "outputs": [
    {
     "data": {
      "text/plain": [
       "(0.0, True, 0.008417574992439395)"
      ]
     },
     "execution_count": 26,
     "metadata": {},
     "output_type": "execute_result"
    }
   ],
   "source": [
    "bd_high_min.compare_root_variable_groups(\n",
    "    dataframe=df_with_predictions,\n",
    "    target_variable='predictions',\n",
    "    root_variable='x3_education'\n",
    ")"
   ]
  },
  {
   "cell_type": "code",
   "execution_count": 27,
   "id": "541783a6",
   "metadata": {},
   "outputs": [
    {
     "data": {
      "text/plain": [
       "(0.0, True, 0.030917574992439394)"
      ]
     },
     "execution_count": 27,
     "metadata": {},
     "output_type": "execute_result"
    }
   ],
   "source": [
    "bd_low_min.compare_root_variable_groups(\n",
    "    dataframe=df_with_predictions,\n",
    "    target_variable='predictions',\n",
    "    root_variable='x3_education'\n",
    ")"
   ]
  },
  {
   "cell_type": "markdown",
   "id": "d525d6d8",
   "metadata": {},
   "source": [
    "##### Using std as aggregating function"
   ]
  },
  {
   "cell_type": "code",
   "execution_count": 28,
   "id": "424270a7",
   "metadata": {},
   "outputs": [],
   "source": [
    "bd_high_std = FreqVsFreqBiasDetector(distance=\"TVD\", aggregating_function=np.std)\n",
    "bd_low_std = FreqVsFreqBiasDetector(distance=\"TVD\", aggregating_function=np.std, A1=\"low\")"
   ]
  },
  {
   "cell_type": "code",
   "execution_count": 29,
   "id": "6e4c61a9",
   "metadata": {},
   "outputs": [
    {
     "data": {
      "text/plain": [
       "(0.04868174081342471, True, 0.1)"
      ]
     },
     "execution_count": 29,
     "metadata": {},
     "output_type": "execute_result"
    }
   ],
   "source": [
    "bd_high_std.compare_root_variable_groups(\n",
    "    dataframe=df_with_predictions,\n",
    "    target_variable='predictions',\n",
    "    root_variable='x3_education',\n",
    "    threshold=0.1\n",
    ")"
   ]
  },
  {
   "cell_type": "code",
   "execution_count": 30,
   "id": "a75c7d3f",
   "metadata": {},
   "outputs": [
    {
     "data": {
      "text/plain": [
       "(0.04868174081342471, False, 0.008417574992439395)"
      ]
     },
     "execution_count": 30,
     "metadata": {},
     "output_type": "execute_result"
    }
   ],
   "source": [
    "bd_high_std.compare_root_variable_groups(\n",
    "    dataframe=df_with_predictions,\n",
    "    target_variable='predictions',\n",
    "    root_variable='x3_education'\n",
    ")"
   ]
  },
  {
   "cell_type": "code",
   "execution_count": 31,
   "id": "134693a0",
   "metadata": {},
   "outputs": [
    {
     "data": {
      "text/plain": [
       "(0.04868174081342471, False, 0.030917574992439394)"
      ]
     },
     "execution_count": 31,
     "metadata": {},
     "output_type": "execute_result"
    }
   ],
   "source": [
    "bd_low_std.compare_root_variable_groups(\n",
    "    dataframe=df_with_predictions,\n",
    "    target_variable='predictions',\n",
    "    root_variable='x3_education'\n",
    ")"
   ]
  },
  {
   "cell_type": "markdown",
   "id": "0c5a8817",
   "metadata": {},
   "source": [
    "##### Using median as aggregating function"
   ]
  },
  {
   "cell_type": "code",
   "execution_count": 32,
   "id": "650f9477",
   "metadata": {},
   "outputs": [],
   "source": [
    "bd_high_median = FreqVsFreqBiasDetector(distance=\"TVD\", aggregating_function=np.median)\n",
    "bd_low_median = FreqVsFreqBiasDetector(distance=\"TVD\", aggregating_function=np.median, A1=\"low\")"
   ]
  },
  {
   "cell_type": "code",
   "execution_count": 33,
   "id": "f29ba878",
   "metadata": {},
   "outputs": [
    {
     "data": {
      "text/plain": [
       "(0.07213850593138826, True, 0.1)"
      ]
     },
     "execution_count": 33,
     "metadata": {},
     "output_type": "execute_result"
    }
   ],
   "source": [
    "bd_high_median.compare_root_variable_groups(\n",
    "    dataframe=df_with_predictions,\n",
    "    target_variable='predictions',\n",
    "    root_variable='x3_education',\n",
    "    threshold=0.1\n",
    ")"
   ]
  },
  {
   "cell_type": "code",
   "execution_count": 34,
   "id": "f4af3b80",
   "metadata": {},
   "outputs": [
    {
     "data": {
      "text/plain": [
       "(0.07213850593138826, False, 0.008417574992439395)"
      ]
     },
     "execution_count": 34,
     "metadata": {},
     "output_type": "execute_result"
    }
   ],
   "source": [
    "bd_high_median.compare_root_variable_groups(\n",
    "    dataframe=df_with_predictions,\n",
    "    target_variable='predictions',\n",
    "    root_variable='x3_education'\n",
    ")"
   ]
  },
  {
   "cell_type": "code",
   "execution_count": 35,
   "id": "c3af82c6",
   "metadata": {},
   "outputs": [
    {
     "data": {
      "text/plain": [
       "(0.07213850593138826, False, 0.030917574992439394)"
      ]
     },
     "execution_count": 35,
     "metadata": {},
     "output_type": "execute_result"
    }
   ],
   "source": [
    "bd_low_median.compare_root_variable_groups(\n",
    "    dataframe=df_with_predictions,\n",
    "    target_variable='predictions',\n",
    "    root_variable='x3_education'\n",
    ")"
   ]
  },
  {
   "cell_type": "markdown",
   "id": "afb3f393",
   "metadata": {},
   "source": [
    "##### Using mean as aggregating function"
   ]
  },
  {
   "cell_type": "code",
   "execution_count": 36,
   "id": "69490e3d",
   "metadata": {},
   "outputs": [],
   "source": [
    "bd_high_mean = FreqVsFreqBiasDetector(distance=\"TVD\", aggregating_function=np.mean)\n",
    "bd_low_mean = FreqVsFreqBiasDetector(distance=\"TVD\", aggregating_function=np.mean, A1=\"low\")"
   ]
  },
  {
   "cell_type": "code",
   "execution_count": 37,
   "id": "e8f1aab5",
   "metadata": {},
   "outputs": [
    {
     "data": {
      "text/plain": [
       "(0.07749081326993774, True, 0.1)"
      ]
     },
     "execution_count": 37,
     "metadata": {},
     "output_type": "execute_result"
    }
   ],
   "source": [
    "bd_high_mean.compare_root_variable_groups(\n",
    "    dataframe=df_with_predictions,\n",
    "    target_variable='predictions',\n",
    "    root_variable='x3_education',\n",
    "    threshold=0.1\n",
    ")"
   ]
  },
  {
   "cell_type": "code",
   "execution_count": 38,
   "id": "b8cb6874",
   "metadata": {},
   "outputs": [
    {
     "data": {
      "text/plain": [
       "(0.07749081326993774, False, 0.008417574992439395)"
      ]
     },
     "execution_count": 38,
     "metadata": {},
     "output_type": "execute_result"
    }
   ],
   "source": [
    "bd_high_mean.compare_root_variable_groups(\n",
    "    dataframe=df_with_predictions,\n",
    "    target_variable='predictions',\n",
    "    root_variable='x3_education'\n",
    ")"
   ]
  },
  {
   "cell_type": "code",
   "execution_count": 39,
   "id": "59d50291",
   "metadata": {},
   "outputs": [
    {
     "data": {
      "text/plain": [
       "(0.07749081326993774, False, 0.030917574992439394)"
      ]
     },
     "execution_count": 39,
     "metadata": {},
     "output_type": "execute_result"
    }
   ],
   "source": [
    "bd_low_mean.compare_root_variable_groups(\n",
    "    dataframe=df_with_predictions,\n",
    "    target_variable='predictions',\n",
    "    root_variable='x3_education'\n",
    ")"
   ]
  },
  {
   "cell_type": "code",
   "execution_count": null,
   "id": "763fc5ca",
   "metadata": {},
   "outputs": [],
   "source": []
  }
 ],
 "metadata": {
  "kernelspec": {
   "display_name": "Python 3 (ipykernel)",
   "language": "python",
   "name": "python3"
  },
  "language_info": {
   "codemirror_mode": {
    "name": "ipython",
    "version": 3
   },
   "file_extension": ".py",
   "mimetype": "text/x-python",
   "name": "python",
   "nbconvert_exporter": "python",
   "pygments_lexer": "ipython3",
   "version": "3.10.9"
  }
 },
 "nbformat": 4,
 "nbformat_minor": 5
}
