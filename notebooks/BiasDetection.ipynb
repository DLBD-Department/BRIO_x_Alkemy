{
 "cells": [
  {
   "cell_type": "code",
   "execution_count": 1,
   "id": "0b134d6e",
   "metadata": {},
   "outputs": [],
   "source": [
    "import os, sys\n",
    "dir2 = os.path.abspath('')\n",
    "dir1 = os.path.dirname(dir2)\n",
    "if not dir1 in sys.path: sys.path.append(dir1)"
   ]
  },
  {
   "cell_type": "code",
   "execution_count": 3,
   "id": "77c1e269",
   "metadata": {},
   "outputs": [],
   "source": [
    "from src.preprocessing.Preprocessing import Preprocessing\n",
    "from pickle import dump, load"
   ]
  },
  {
   "cell_type": "markdown",
   "id": "68af6499",
   "metadata": {},
   "source": [
    "## Importing Data and Trained Classifier"
   ]
  },
  {
   "cell_type": "code",
   "execution_count": 7,
   "id": "66127e6c",
   "metadata": {},
   "outputs": [],
   "source": [
    "input_data_path = \"../data/uci-default-of-credit-card-clients/data/data.csv\"\n",
    "local_path_save = '../data/experiments/'"
   ]
  },
  {
   "cell_type": "code",
   "execution_count": 8,
   "id": "bf0e3b01",
   "metadata": {},
   "outputs": [],
   "source": [
    "fitted_ohe = load(open(local_path_save + '_ohe.pkl', 'rb')) \n",
    "fitted_scaler = load(open(local_path_save + '_scaler.pkl', 'rb'))"
   ]
  },
  {
   "cell_type": "code",
   "execution_count": 9,
   "id": "6646c312",
   "metadata": {},
   "outputs": [],
   "source": [
    "pp = Preprocessing(input_data_path, \"default\")\n",
    "X, Y = pp.read_dataframe()\n",
    "\n",
    "X_ohe, _, _ = pp.preprocess_for_classification(df=X, \n",
    "                                                fit_ohe=True, \n",
    "                                                fitted_ohe=fitted_ohe,\n",
    "                                                perform_scaling=True,\n",
    "                                                fitted_scaler=fitted_scaler)"
   ]
  },
  {
   "cell_type": "code",
   "execution_count": 11,
   "id": "ba010d39",
   "metadata": {},
   "outputs": [],
   "source": [
    "with open(\"mlruns/1/1e4a0667c7a64cbe8c7b023410e5781c/artifacts/model/model.pkl\", \"rb\") as file:\n",
    "    classifier = load(file)"
   ]
  },
  {
   "cell_type": "code",
   "execution_count": 13,
   "id": "04cacf92",
   "metadata": {},
   "outputs": [],
   "source": [
    "predicted_prob = classifier.predict_proba(X_ohe)\n",
    "predicted_values = classifier.predict(X_ohe)"
   ]
  },
  {
   "cell_type": "markdown",
   "id": "ea1b5fc8",
   "metadata": {},
   "source": [
    "## Bias Detection"
   ]
  },
  {
   "cell_type": "code",
   "execution_count": null,
   "id": "a68a1463",
   "metadata": {},
   "outputs": [],
   "source": []
  }
 ],
 "metadata": {
  "kernelspec": {
   "display_name": "Python 3 (ipykernel)",
   "language": "python",
   "name": "python3"
  },
  "language_info": {
   "codemirror_mode": {
    "name": "ipython",
    "version": 3
   },
   "file_extension": ".py",
   "mimetype": "text/x-python",
   "name": "python",
   "nbconvert_exporter": "python",
   "pygments_lexer": "ipython3",
   "version": "3.10.9"
  }
 },
 "nbformat": 4,
 "nbformat_minor": 5
}
