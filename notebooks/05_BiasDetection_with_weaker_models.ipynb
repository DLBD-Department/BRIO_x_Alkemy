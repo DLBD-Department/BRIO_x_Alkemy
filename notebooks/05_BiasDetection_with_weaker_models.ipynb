{
 "cells": [
  {
   "cell_type": "code",
   "execution_count": 1,
   "id": "0b134d6e",
   "metadata": {},
   "outputs": [],
   "source": [
    "import os, sys\n",
    "dir2 = os.path.abspath('')\n",
    "dir1 = os.path.dirname(dir2)\n",
    "if not dir1 in sys.path: sys.path.append(dir1)"
   ]
  },
  {
   "cell_type": "code",
   "execution_count": 22,
   "id": "77c1e269",
   "metadata": {},
   "outputs": [],
   "source": [
    "from src.utils.Preprocessing import Preprocessing\n",
    "from sklearn.model_selection import train_test_split\n",
    "from pickle import dump, load\n",
    "import pandas as pd\n",
    "import numpy as np\n",
    "\n",
    "from src.bias.BiasDetector import BiasDetector\n",
    "from src.bias.TotalVariationDistance import TotalVariationDistance\n",
    "from src.bias.JSDivergence import JSDivergence"
   ]
  },
  {
   "cell_type": "markdown",
   "id": "68af6499",
   "metadata": {},
   "source": [
    "## Importing Data and Trained Classifier"
   ]
  },
  {
   "cell_type": "code",
   "execution_count": 4,
   "id": "66127e6c",
   "metadata": {},
   "outputs": [],
   "source": [
    "input_data_path = \"../data/raw_data/uci-default-of-credit-card/data/data.csv\"\n",
    "local_path_save = '../data/mlflow_artifacts/'"
   ]
  },
  {
   "cell_type": "code",
   "execution_count": 5,
   "id": "bf0e3b01",
   "metadata": {},
   "outputs": [
    {
     "name": "stderr",
     "output_type": "stream",
     "text": [
      "/Users/davideposillipo/.pyenv/versions/3.10.9/envs/prova/lib/python3.10/site-packages/sklearn/base.py:329: UserWarning: Trying to unpickle estimator OneHotEncoder from version 1.2.1 when using version 1.0.2. This might lead to breaking code or invalid results. Use at your own risk. For more info please refer to:\n",
      "https://scikit-learn.org/stable/modules/model_persistence.html#security-maintainability-limitations\n",
      "  warnings.warn(\n",
      "/Users/davideposillipo/.pyenv/versions/3.10.9/envs/prova/lib/python3.10/site-packages/sklearn/base.py:329: UserWarning: Trying to unpickle estimator StandardScaler from version 1.2.1 when using version 1.0.2. This might lead to breaking code or invalid results. Use at your own risk. For more info please refer to:\n",
      "https://scikit-learn.org/stable/modules/model_persistence.html#security-maintainability-limitations\n",
      "  warnings.warn(\n"
     ]
    }
   ],
   "source": [
    "fitted_ohe = load(open(local_path_save + '_ohe.pkl', 'rb')) \n",
    "fitted_scaler = load(open(local_path_save + '_scaler.pkl', 'rb'))"
   ]
  },
  {
   "cell_type": "code",
   "execution_count": 6,
   "id": "6646c312",
   "metadata": {},
   "outputs": [],
   "source": [
    "pp = Preprocessing(input_data_path, \"default\")\n",
    "X, Y = pp.read_dataframe()\n",
    "\n",
    "X_train, X_test, Y_train, Y_test = train_test_split(X,Y, test_size=0.3, random_state=420)\n",
    "\n",
    "X_test_ohe, _, _ = pp.preprocess_for_classification(df=X_test, \n",
    "                                                fit_ohe=True, \n",
    "                                                fitted_ohe=fitted_ohe,\n",
    "                                                perform_scaling=True,\n",
    "                                                fitted_scaler=fitted_scaler)"
   ]
  },
  {
   "cell_type": "code",
   "execution_count": 7,
   "id": "ba010d39",
   "metadata": {},
   "outputs": [],
   "source": [
    "with open(\"trained_model_for_testing/RF_12_200.pkl\", \"rb\") as file:\n",
    "    classifier_strong = load(file)\n",
    "    \n",
    "with open(\"trained_model_for_testing/RF_37_10.pkl\", \"rb\") as file:\n",
    "    classifier_weak = load(file)\n",
    "    \n",
    "with open(\"trained_model_for_testing/Tree_depth2.pkl\", \"rb\") as file:\n",
    "    classifier_lame = load(file)"
   ]
  },
  {
   "cell_type": "code",
   "execution_count": 8,
   "id": "04cacf92",
   "metadata": {},
   "outputs": [],
   "source": [
    "predicted_values_strong = classifier_strong.predict(X_test_ohe)\n",
    "predicted_values_weak = classifier_weak.predict(X_test_ohe)\n",
    "predicted_values_lame = classifier_lame.predict(X_test_ohe)"
   ]
  },
  {
   "cell_type": "code",
   "execution_count": 9,
   "id": "d7e96a84",
   "metadata": {},
   "outputs": [],
   "source": [
    "def age_buckets(x):\n",
    "    if x < 30:\n",
    "        return 1\n",
    "    elif x < 40:\n",
    "        return 2\n",
    "    else:\n",
    "        return 3\n",
    "\n",
    "X_test['age_buckets'] = X.x5_age.apply(age_buckets)"
   ]
  },
  {
   "cell_type": "code",
   "execution_count": 10,
   "id": "c24a0c9c",
   "metadata": {},
   "outputs": [],
   "source": [
    "conditioning_variables = ['x3_education', 'x4_marriage', 'age_buckets']"
   ]
  },
  {
   "cell_type": "code",
   "execution_count": 11,
   "id": "7950602d",
   "metadata": {},
   "outputs": [],
   "source": [
    "df_with_predictions_strong = pd.concat(\n",
    "    [X_test.reset_index(drop=True), pd.Series(predicted_values_strong)], axis=1).rename(columns={0:\"predictions\"})\n",
    "\n",
    "df_with_predictions_weak = pd.concat(\n",
    "    [X_test.reset_index(drop=True), pd.Series(predicted_values_weak)], axis=1).rename(columns={0:\"predictions\"})\n",
    "\n",
    "df_with_predictions_lame = pd.concat(\n",
    "    [X_test.reset_index(drop=True), pd.Series(predicted_values_lame)], axis=1).rename(columns={0:\"predictions\"})"
   ]
  },
  {
   "cell_type": "markdown",
   "id": "ea1b5fc8",
   "metadata": {},
   "source": [
    "## Experiment 1: freqs-vs-freqs, TVD, A1=low, root_variable=x2_sex"
   ]
  },
  {
   "cell_type": "code",
   "execution_count": 12,
   "id": "38346302",
   "metadata": {},
   "outputs": [],
   "source": [
    "d = TotalVariationDistance()\n",
    "bd = BiasDetector(distance=d, A1=\"low\")"
   ]
  },
  {
   "cell_type": "markdown",
   "id": "0e6e5723",
   "metadata": {},
   "source": [
    "#### Strong model, no conditioning variables"
   ]
  },
  {
   "cell_type": "code",
   "execution_count": 13,
   "id": "9dc1af6e",
   "metadata": {},
   "outputs": [
    {
     "data": {
      "text/plain": [
       "(0.025269625352224545, True, 0.038868585412256317)"
      ]
     },
     "execution_count": 13,
     "metadata": {},
     "output_type": "execute_result"
    }
   ],
   "source": [
    "bd.compare_root_variable_groups(\n",
    "    dataframe=df_with_predictions_strong,\n",
    "    target_variable='predictions',\n",
    "    root_variable='x2_sex'\n",
    ")"
   ]
  },
  {
   "cell_type": "markdown",
   "id": "bd73ac65",
   "metadata": {},
   "source": [
    "#### Weak model, no conditioning variables"
   ]
  },
  {
   "cell_type": "code",
   "execution_count": 14,
   "id": "eef0e4db",
   "metadata": {},
   "outputs": [
    {
     "data": {
      "text/plain": [
       "(0.02310418899075288, True, 0.038868585412256317)"
      ]
     },
     "execution_count": 14,
     "metadata": {},
     "output_type": "execute_result"
    }
   ],
   "source": [
    "bd.compare_root_variable_groups(\n",
    "    dataframe=df_with_predictions_weak,\n",
    "    target_variable='predictions',\n",
    "    root_variable='x2_sex'\n",
    ")"
   ]
  },
  {
   "cell_type": "markdown",
   "id": "bd7c0058",
   "metadata": {},
   "source": [
    "#### Lame model, no conditioning variables"
   ]
  },
  {
   "cell_type": "code",
   "execution_count": 15,
   "id": "bc388f1e",
   "metadata": {},
   "outputs": [
    {
     "data": {
      "text/plain": [
       "(0.011162043100369085, True, 0.038868585412256317)"
      ]
     },
     "execution_count": 15,
     "metadata": {},
     "output_type": "execute_result"
    }
   ],
   "source": [
    "bd.compare_root_variable_groups(\n",
    "    dataframe=df_with_predictions_lame,\n",
    "    target_variable='predictions',\n",
    "    root_variable='x2_sex'\n",
    ")"
   ]
  },
  {
   "cell_type": "markdown",
   "id": "f9d0f219",
   "metadata": {},
   "source": [
    "## Experiment 2: freqs-vs-freqs, TVD, A1=low, root_variable=x3_education"
   ]
  },
  {
   "cell_type": "code",
   "execution_count": 17,
   "id": "e0383527",
   "metadata": {},
   "outputs": [],
   "source": [
    "d = TotalVariationDistance()\n",
    "bd = BiasDetector(distance=d, A1=\"low\")"
   ]
  },
  {
   "cell_type": "markdown",
   "id": "c854cfe8",
   "metadata": {},
   "source": [
    "#### Strong model, no conditioning variables"
   ]
  },
  {
   "cell_type": "code",
   "execution_count": 18,
   "id": "2dbd7413",
   "metadata": {},
   "outputs": [
    {
     "data": {
      "text/plain": [
       "(0.14609739826551038, False, 0.030917574992439394)"
      ]
     },
     "execution_count": 18,
     "metadata": {},
     "output_type": "execute_result"
    }
   ],
   "source": [
    "bd.compare_root_variable_groups(\n",
    "    dataframe=df_with_predictions_strong,\n",
    "    target_variable='predictions',\n",
    "    root_variable='x3_education'\n",
    ")"
   ]
  },
  {
   "cell_type": "markdown",
   "id": "8ebf9a79",
   "metadata": {},
   "source": [
    "#### Weak model, no conditioning variables"
   ]
  },
  {
   "cell_type": "code",
   "execution_count": 19,
   "id": "d0a2f18f",
   "metadata": {},
   "outputs": [
    {
     "data": {
      "text/plain": [
       "(0.1428571428571429, False, 0.030917574992439394)"
      ]
     },
     "execution_count": 19,
     "metadata": {},
     "output_type": "execute_result"
    }
   ],
   "source": [
    "bd.compare_root_variable_groups(\n",
    "    dataframe=df_with_predictions_weak,\n",
    "    target_variable='predictions',\n",
    "    root_variable='x3_education'\n",
    ")"
   ]
  },
  {
   "cell_type": "markdown",
   "id": "64f0e069",
   "metadata": {},
   "source": [
    "#### Lame model, no conditioning variables"
   ]
  },
  {
   "cell_type": "code",
   "execution_count": 20,
   "id": "d95bf4c3",
   "metadata": {},
   "outputs": [
    {
     "data": {
      "text/plain": [
       "(0.1428571428571429, False, 0.030917574992439394)"
      ]
     },
     "execution_count": 20,
     "metadata": {},
     "output_type": "execute_result"
    }
   ],
   "source": [
    "bd.compare_root_variable_groups(\n",
    "    dataframe=df_with_predictions_lame,\n",
    "    target_variable='predictions',\n",
    "    root_variable='x3_education'\n",
    ")"
   ]
  },
  {
   "cell_type": "markdown",
   "id": "8a2bc328",
   "metadata": {},
   "source": [
    "## Experiment 3: freqs-vs-freqs, JS, A1=low, root_variable=x2_sex"
   ]
  },
  {
   "cell_type": "code",
   "execution_count": 23,
   "id": "6a29920a",
   "metadata": {},
   "outputs": [],
   "source": [
    "d = JSDivergence()\n",
    "bd = BiasDetector(distance=d, A1=\"low\")"
   ]
  },
  {
   "cell_type": "markdown",
   "id": "47357f3b",
   "metadata": {},
   "source": [
    "#### Strong model, no conditioning variables"
   ]
  },
  {
   "cell_type": "code",
   "execution_count": 24,
   "id": "854b8e7d",
   "metadata": {},
   "outputs": [
    {
     "data": {
      "text/plain": [
       "(0.03382573454226581, True, 0.038868585412256317)"
      ]
     },
     "execution_count": 24,
     "metadata": {},
     "output_type": "execute_result"
    }
   ],
   "source": [
    "bd.compare_root_variable_groups(\n",
    "    dataframe=df_with_predictions_strong,\n",
    "    target_variable='predictions',\n",
    "    root_variable='x2_sex'\n",
    ")"
   ]
  },
  {
   "cell_type": "markdown",
   "id": "1bf751a0",
   "metadata": {},
   "source": [
    "#### Weak model, no conditioning variables"
   ]
  },
  {
   "cell_type": "code",
   "execution_count": 25,
   "id": "9dc7857c",
   "metadata": {},
   "outputs": [
    {
     "data": {
      "text/plain": [
       "(0.030599211687988202, True, 0.038868585412256317)"
      ]
     },
     "execution_count": 25,
     "metadata": {},
     "output_type": "execute_result"
    }
   ],
   "source": [
    "bd.compare_root_variable_groups(\n",
    "    dataframe=df_with_predictions_weak,\n",
    "    target_variable='predictions',\n",
    "    root_variable='x2_sex'\n",
    ")"
   ]
  },
  {
   "cell_type": "markdown",
   "id": "ef2db718",
   "metadata": {},
   "source": [
    "#### Lame model, no conditioning variables"
   ]
  },
  {
   "cell_type": "code",
   "execution_count": 26,
   "id": "14d3c7ab",
   "metadata": {},
   "outputs": [
    {
     "data": {
      "text/plain": [
       "(0.017047162918550674, True, 0.038868585412256317)"
      ]
     },
     "execution_count": 26,
     "metadata": {},
     "output_type": "execute_result"
    }
   ],
   "source": [
    "bd.compare_root_variable_groups(\n",
    "    dataframe=df_with_predictions_lame,\n",
    "    target_variable='predictions',\n",
    "    root_variable='x2_sex'\n",
    ")"
   ]
  },
  {
   "cell_type": "markdown",
   "id": "8433113e",
   "metadata": {},
   "source": [
    "## Experiment 4: freqs-vs-freqs, JS, A1=low, root_variable=x3_education"
   ]
  },
  {
   "cell_type": "code",
   "execution_count": 27,
   "id": "1496adfe",
   "metadata": {},
   "outputs": [],
   "source": [
    "d = JSDivergence()\n",
    "bd = BiasDetector(distance=d, A1=\"low\")"
   ]
  },
  {
   "cell_type": "markdown",
   "id": "6dc3cf5c",
   "metadata": {},
   "source": [
    "#### Strong model, no conditioning variables"
   ]
  },
  {
   "cell_type": "code",
   "execution_count": 28,
   "id": "fdbf5374",
   "metadata": {},
   "outputs": [
    {
     "data": {
      "text/plain": [
       "(0.27785884217449525, False, 0.030917574992439394)"
      ]
     },
     "execution_count": 28,
     "metadata": {},
     "output_type": "execute_result"
    }
   ],
   "source": [
    "bd.compare_root_variable_groups(\n",
    "    dataframe=df_with_predictions_strong,\n",
    "    target_variable='predictions',\n",
    "    root_variable='x3_education'\n",
    ")"
   ]
  },
  {
   "cell_type": "markdown",
   "id": "007f59f3",
   "metadata": {},
   "source": [
    "#### Weak model, no conditioning variables"
   ]
  },
  {
   "cell_type": "code",
   "execution_count": 29,
   "id": "f7744fef",
   "metadata": {},
   "outputs": [
    {
     "data": {
      "text/plain": [
       "(0.2745832066054148, False, 0.030917574992439394)"
      ]
     },
     "execution_count": 29,
     "metadata": {},
     "output_type": "execute_result"
    }
   ],
   "source": [
    "bd.compare_root_variable_groups(\n",
    "    dataframe=df_with_predictions_weak,\n",
    "    target_variable='predictions',\n",
    "    root_variable='x3_education'\n",
    ")"
   ]
  },
  {
   "cell_type": "markdown",
   "id": "1ce1c434",
   "metadata": {},
   "source": [
    "#### Lame model, no conditioning variables"
   ]
  },
  {
   "cell_type": "code",
   "execution_count": 30,
   "id": "4de9b1dc",
   "metadata": {},
   "outputs": [
    {
     "data": {
      "text/plain": [
       "(0.2745832066054148, False, 0.030917574992439394)"
      ]
     },
     "execution_count": 30,
     "metadata": {},
     "output_type": "execute_result"
    }
   ],
   "source": [
    "bd.compare_root_variable_groups(\n",
    "    dataframe=df_with_predictions_lame,\n",
    "    target_variable='predictions',\n",
    "    root_variable='x3_education'\n",
    ")"
   ]
  },
  {
   "cell_type": "markdown",
   "id": "558ca1e6",
   "metadata": {},
   "source": [
    "## Experiment 5: freqs-vs-freqs, JS, A1=low, root_variable=x6_pay_0 (discrete)"
   ]
  },
  {
   "cell_type": "code",
   "execution_count": 39,
   "id": "4b41ee98",
   "metadata": {},
   "outputs": [
    {
     "data": {
      "text/plain": [
       " 0    4415\n",
       "-1    1726\n",
       " 1    1076\n",
       "-2     851\n",
       " 2     788\n",
       " 3      98\n",
       " 4      27\n",
       " 8       6\n",
       " 5       6\n",
       " 6       4\n",
       " 7       3\n",
       "Name: x6_pay_0, dtype: int64"
      ]
     },
     "execution_count": 39,
     "metadata": {},
     "output_type": "execute_result"
    }
   ],
   "source": [
    "df_with_predictions_strong.x6_pay_0."
   ]
  },
  {
   "cell_type": "code",
   "execution_count": 46,
   "id": "718bacdf",
   "metadata": {},
   "outputs": [],
   "source": [
    "def discrete_x6(x):\n",
    "    if x <= 2:\n",
    "        return x\n",
    "    else:\n",
    "        return 3\n",
    "\n",
    "df_with_predictions_lame[\"x6_pay_0_discrete\"] = df_with_predictions_lame[\"x6_pay_0\"].apply(lambda x: discrete_x6(x))\n",
    "df_with_predictions_strong[\"x6_pay_0_discrete\"] = df_with_predictions_strong[\"x6_pay_0\"].apply(lambda x: discrete_x6(x))\n",
    "df_with_predictions_weak[\"x6_pay_0_discrete\"] = df_with_predictions_weak[\"x6_pay_0\"].apply(lambda x: discrete_x6(x))"
   ]
  },
  {
   "cell_type": "code",
   "execution_count": 47,
   "id": "74dfb269",
   "metadata": {},
   "outputs": [],
   "source": [
    "d = JSDivergence()\n",
    "bd = BiasDetector(distance=d, A1=\"low\")"
   ]
  },
  {
   "cell_type": "markdown",
   "id": "6d058c88",
   "metadata": {},
   "source": [
    "#### Strong model, no conditioning variables"
   ]
  },
  {
   "cell_type": "code",
   "execution_count": 48,
   "id": "45a8534c",
   "metadata": {},
   "outputs": [
    {
     "data": {
      "text/plain": [
       "(0.8781746071094385, False, 0.03144764235376052)"
      ]
     },
     "execution_count": 48,
     "metadata": {},
     "output_type": "execute_result"
    }
   ],
   "source": [
    "bd.compare_root_variable_groups(\n",
    "    dataframe=df_with_predictions_strong,\n",
    "    target_variable='predictions',\n",
    "    root_variable='x6_pay_0_discrete'\n",
    ")"
   ]
  },
  {
   "cell_type": "markdown",
   "id": "8452572d",
   "metadata": {},
   "source": [
    "#### Weak model, no conditioning variables"
   ]
  },
  {
   "cell_type": "code",
   "execution_count": 49,
   "id": "919dac4c",
   "metadata": {},
   "outputs": [
    {
     "data": {
      "text/plain": [
       "(0.7063288037442578, False, 0.03144764235376052)"
      ]
     },
     "execution_count": 49,
     "metadata": {},
     "output_type": "execute_result"
    }
   ],
   "source": [
    "bd.compare_root_variable_groups(\n",
    "    dataframe=df_with_predictions_weak,\n",
    "    target_variable='predictions',\n",
    "    root_variable='x6_pay_0_discrete'\n",
    ")"
   ]
  },
  {
   "cell_type": "markdown",
   "id": "b97c6a3e",
   "metadata": {},
   "source": [
    "#### Lame model, no conditioning variables"
   ]
  },
  {
   "cell_type": "code",
   "execution_count": 50,
   "id": "b88a6c70",
   "metadata": {},
   "outputs": [
    {
     "data": {
      "text/plain": [
       "(0.9267799977583331, False, 0.03144764235376052)"
      ]
     },
     "execution_count": 50,
     "metadata": {},
     "output_type": "execute_result"
    }
   ],
   "source": [
    "bd.compare_root_variable_groups(\n",
    "    dataframe=df_with_predictions_lame,\n",
    "    target_variable='predictions',\n",
    "    root_variable='x6_pay_0_discrete'\n",
    ")"
   ]
  },
  {
   "cell_type": "markdown",
   "id": "0b35c261",
   "metadata": {},
   "source": [
    "## Experiment 6: freqs-vs-freqs, JS, A1=low, root_variable=x2_sex, conditioning_variable=x6_pay (discrete)"
   ]
  },
  {
   "cell_type": "code",
   "execution_count": 47,
   "id": "811152b6",
   "metadata": {},
   "outputs": [],
   "source": [
    "d = JSDivergence()\n",
    "bd = BiasDetector(distance=d, A1=\"low\")"
   ]
  },
  {
   "cell_type": "markdown",
   "id": "1c1d0135",
   "metadata": {},
   "source": [
    "#### Strong model"
   ]
  },
  {
   "cell_type": "code",
   "execution_count": 53,
   "id": "0306bdb4",
   "metadata": {},
   "outputs": [],
   "source": [
    "results_strong = bd.compare_root_variable_conditioned_groups(\n",
    "    dataframe=df_with_predictions_strong,\n",
    "    target_variable='predictions',\n",
    "    root_variable='x2_sex',\n",
    "    conditioning_variables=[\"x6_pay_0_discrete\"],\n",
    "    min_obs_per_group=30)"
   ]
  },
  {
   "cell_type": "code",
   "execution_count": 54,
   "id": "90a19b1b",
   "metadata": {},
   "outputs": [
    {
     "data": {
      "text/plain": [
       "{'x6_pay_0_discrete==0': (4415, 0.005796418752555453, True),\n",
       " 'x6_pay_0_discrete==2': (788, 0.00026061707568029194, True),\n",
       " 'x6_pay_0_discrete==1': (1076, 0.1039149975268626, False),\n",
       " 'x6_pay_0_discrete==-2': (851, 0.0, True),\n",
       " 'x6_pay_0_discrete==-1': (1726, 0.005827564760104745, True),\n",
       " 'x6_pay_0_discrete==3': (144, 0.02091711052564077, True)}"
      ]
     },
     "execution_count": 54,
     "metadata": {},
     "output_type": "execute_result"
    }
   ],
   "source": [
    "results_strong"
   ]
  },
  {
   "cell_type": "markdown",
   "id": "b2ef8b30",
   "metadata": {},
   "source": [
    "#### Weak model"
   ]
  },
  {
   "cell_type": "code",
   "execution_count": 55,
   "id": "379b1807",
   "metadata": {
    "scrolled": true
   },
   "outputs": [],
   "source": [
    "results_weak = bd.compare_root_variable_conditioned_groups(\n",
    "    dataframe=df_with_predictions_weak,\n",
    "    target_variable='predictions',\n",
    "    root_variable='x2_sex',\n",
    "    conditioning_variables=[\"x6_pay_0_discrete\"],\n",
    "    min_obs_per_group=30)"
   ]
  },
  {
   "cell_type": "code",
   "execution_count": 56,
   "id": "82c321fe",
   "metadata": {},
   "outputs": [
    {
     "data": {
      "text/plain": [
       "{'x6_pay_0_discrete==0': (4415, 0.015088851952557734, True),\n",
       " 'x6_pay_0_discrete==2': (788, 0.013215421946293956, True),\n",
       " 'x6_pay_0_discrete==1': (1076, 0.07499466492030307, False),\n",
       " 'x6_pay_0_discrete==-2': (851, 0.0746013936850334, False),\n",
       " 'x6_pay_0_discrete==-1': (1726, 0.015667497429594533, True),\n",
       " 'x6_pay_0_discrete==3': (144, 0.1032652540334566, False)}"
      ]
     },
     "execution_count": 56,
     "metadata": {},
     "output_type": "execute_result"
    }
   ],
   "source": [
    "results_weak"
   ]
  },
  {
   "cell_type": "markdown",
   "id": "6e502eb7",
   "metadata": {},
   "source": [
    "#### Lame model"
   ]
  },
  {
   "cell_type": "code",
   "execution_count": 57,
   "id": "20b58d1f",
   "metadata": {},
   "outputs": [],
   "source": [
    "results_lame = bd.compare_root_variable_conditioned_groups(\n",
    "    dataframe=df_with_predictions_lame,\n",
    "    target_variable='predictions',\n",
    "    root_variable='x2_sex',\n",
    "    conditioning_variables=[\"x6_pay_0_discrete\"],\n",
    "    min_obs_per_group=30)"
   ]
  },
  {
   "cell_type": "code",
   "execution_count": 58,
   "id": "1f04b549",
   "metadata": {},
   "outputs": [
    {
     "data": {
      "text/plain": [
       "{'x6_pay_0_discrete==0': (4415, 0.0, True),\n",
       " 'x6_pay_0_discrete==2': (788, 0.011942882267781, True),\n",
       " 'x6_pay_0_discrete==1': (1076, 0.0, True),\n",
       " 'x6_pay_0_discrete==-2': (851, 0.0, True),\n",
       " 'x6_pay_0_discrete==-1': (1726, 0.0, True),\n",
       " 'x6_pay_0_discrete==3': (144, 0.0, True)}"
      ]
     },
     "execution_count": 58,
     "metadata": {},
     "output_type": "execute_result"
    }
   ],
   "source": [
    "results_lame"
   ]
  },
  {
   "cell_type": "markdown",
   "id": "e59f92b2",
   "metadata": {},
   "source": [
    "## Experiment 7: freqs-vs-freqs, TVD, A1=low, root_variable=x2_sex, conditioning_variable=x6_pay (discrete)"
   ]
  },
  {
   "cell_type": "code",
   "execution_count": 59,
   "id": "a3962f2c",
   "metadata": {},
   "outputs": [],
   "source": [
    "d = TotalVariationDistance()\n",
    "bd = BiasDetector(distance=d, A1=\"low\")"
   ]
  },
  {
   "cell_type": "markdown",
   "id": "93632697",
   "metadata": {},
   "source": [
    "#### Strong model"
   ]
  },
  {
   "cell_type": "code",
   "execution_count": 60,
   "id": "db04edf8",
   "metadata": {},
   "outputs": [],
   "source": [
    "results_strong = bd.compare_root_variable_conditioned_groups(\n",
    "    dataframe=df_with_predictions_strong,\n",
    "    target_variable='predictions',\n",
    "    root_variable='x2_sex',\n",
    "    conditioning_variables=[\"x6_pay_0_discrete\"],\n",
    "    min_obs_per_group=30)"
   ]
  },
  {
   "cell_type": "code",
   "execution_count": 61,
   "id": "c24fd3d5",
   "metadata": {},
   "outputs": [
    {
     "data": {
      "text/plain": [
       "{'x6_pay_0_discrete==0': (4415, 0.0005099035448375608, True),\n",
       " 'x6_pay_0_discrete==2': (788, 0.00017791835524372246, True),\n",
       " 'x6_pay_0_discrete==1': (1076, 0.08358658256880735, False),\n",
       " 'x6_pay_0_discrete==-2': (851, 0.0, True),\n",
       " 'x6_pay_0_discrete==-1': (1726, 0.001151020781208943, True),\n",
       " 'x6_pay_0_discrete==3': (144, 0.01550688117852296, True)}"
      ]
     },
     "execution_count": 61,
     "metadata": {},
     "output_type": "execute_result"
    }
   ],
   "source": [
    "results_strong"
   ]
  },
  {
   "cell_type": "markdown",
   "id": "c8afb302",
   "metadata": {},
   "source": [
    "#### Weak model"
   ]
  },
  {
   "cell_type": "code",
   "execution_count": 62,
   "id": "fc3240a4",
   "metadata": {
    "scrolled": true
   },
   "outputs": [],
   "source": [
    "results_weak = bd.compare_root_variable_conditioned_groups(\n",
    "    dataframe=df_with_predictions_weak,\n",
    "    target_variable='predictions',\n",
    "    root_variable='x2_sex',\n",
    "    conditioning_variables=[\"x6_pay_0_discrete\"],\n",
    "    min_obs_per_group=30)"
   ]
  },
  {
   "cell_type": "code",
   "execution_count": 63,
   "id": "6f4e1dc2",
   "metadata": {},
   "outputs": [
    {
     "data": {
      "text/plain": [
       "{'x6_pay_0_discrete==0': (4415, 0.004162196434452259, True),\n",
       " 'x6_pay_0_discrete==2': (788, 0.013502026292379177, True),\n",
       " 'x6_pay_0_discrete==1': (1076, 0.07061353211009175, False),\n",
       " 'x6_pay_0_discrete==-2': (851, 0.030280300039478902, True),\n",
       " 'x6_pay_0_discrete==-1': (1726, 0.005857924620991439, True),\n",
       " 'x6_pay_0_discrete==3': (144, 0.11145570847063391, False)}"
      ]
     },
     "execution_count": 63,
     "metadata": {},
     "output_type": "execute_result"
    }
   ],
   "source": [
    "results_weak"
   ]
  },
  {
   "cell_type": "markdown",
   "id": "d3842421",
   "metadata": {},
   "source": [
    "#### Lame model"
   ]
  },
  {
   "cell_type": "code",
   "execution_count": 64,
   "id": "aa2a5f01",
   "metadata": {},
   "outputs": [],
   "source": [
    "results_lame = bd.compare_root_variable_conditioned_groups(\n",
    "    dataframe=df_with_predictions_lame,\n",
    "    target_variable='predictions',\n",
    "    root_variable='x2_sex',\n",
    "    conditioning_variables=[\"x6_pay_0_discrete\"],\n",
    "    min_obs_per_group=30)"
   ]
  },
  {
   "cell_type": "code",
   "execution_count": 65,
   "id": "1169e5d3",
   "metadata": {},
   "outputs": [
    {
     "data": {
      "text/plain": [
       "{'x6_pay_0_discrete==0': (4415, 0.0, True),\n",
       " 'x6_pay_0_discrete==2': (788, 0.005996507528582273, True),\n",
       " 'x6_pay_0_discrete==1': (1076, 0.0, True),\n",
       " 'x6_pay_0_discrete==-2': (851, 0.0, True),\n",
       " 'x6_pay_0_discrete==-1': (1726, 0.0, True),\n",
       " 'x6_pay_0_discrete==3': (144, 0.0, True)}"
      ]
     },
     "execution_count": 65,
     "metadata": {},
     "output_type": "execute_result"
    }
   ],
   "source": [
    "results_lame"
   ]
  }
 ],
 "metadata": {
  "kernelspec": {
   "display_name": "Python 3 (ipykernel)",
   "language": "python",
   "name": "python3"
  },
  "language_info": {
   "codemirror_mode": {
    "name": "ipython",
    "version": 3
   },
   "file_extension": ".py",
   "mimetype": "text/x-python",
   "name": "python",
   "nbconvert_exporter": "python",
   "pygments_lexer": "ipython3",
   "version": "3.10.9"
  }
 },
 "nbformat": 4,
 "nbformat_minor": 5
}
