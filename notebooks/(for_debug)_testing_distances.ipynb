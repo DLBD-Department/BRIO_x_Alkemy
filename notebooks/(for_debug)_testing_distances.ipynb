{
 "cells": [
  {
   "cell_type": "code",
   "execution_count": 1,
   "id": "203ad64c",
   "metadata": {},
   "outputs": [],
   "source": [
    "import os, sys\n",
    "dir2 = os.path.abspath('')\n",
    "dir1 = os.path.dirname(dir2)\n",
    "if not dir1 in sys.path: sys.path.append(dir1)"
   ]
  },
  {
   "cell_type": "code",
   "execution_count": 2,
   "id": "f2d01787",
   "metadata": {},
   "outputs": [],
   "source": [
    "from src.data_processing.Preprocessing import Preprocessing\n",
    "from src.bias.BiasDetector import BiasDetector\n",
    "from sklearn.model_selection import train_test_split\n",
    "import numpy as np\n",
    "from src.bias.Distance import Distance\n",
    "from pickle import dump, load\n",
    "import pandas as pd"
   ]
  },
  {
   "cell_type": "code",
   "execution_count": 3,
   "id": "e12775a9",
   "metadata": {},
   "outputs": [],
   "source": [
    "input_data_path = \"../data/raw_data/uci-default-of-credit-card/data/data.csv\"\n"
   ]
  },
  {
   "cell_type": "code",
   "execution_count": 4,
   "id": "08c7023c",
   "metadata": {},
   "outputs": [],
   "source": [
    "with open(\"mlruns/1/1e4a0667c7a64cbe8c7b023410e5781c/artifacts/model/model.pkl\", \"rb\") as file:\n",
    "    classifier = load(file)"
   ]
  },
  {
   "cell_type": "code",
   "execution_count": 5,
   "id": "0635a9c4",
   "metadata": {},
   "outputs": [],
   "source": [
    "pp = Preprocessing(input_data_path, \"default\")\n",
    "X, Y = pp.read_dataframe()\n",
    "\n",
    "X_train, X_test, Y_train, Y_test = train_test_split(X,Y, test_size=0.3, random_state=420)\n",
    "\n",
    "\n",
    "#preprocessing ohe\n",
    "shapes_pre = (X_train.shape[0], X_test.shape[0])\n",
    "X_train_ohe, ohe, scaler = pp.preprocess_for_classification(df=X_train, fit_ohe=True, perform_scaling=True)\n",
    "X_test_ohe, _, _ = pp.preprocess_for_classification(df=X_test, \n",
    "                                                    fit_ohe=True, \n",
    "                                                    fitted_ohe=ohe,\n",
    "                                                    perform_scaling=True,\n",
    "                                                    fitted_scaler=scaler)"
   ]
  },
  {
   "cell_type": "code",
   "execution_count": 6,
   "id": "f9354bac",
   "metadata": {},
   "outputs": [],
   "source": [
    "predicted_prob = classifier.predict_proba(X_test_ohe)\n",
    "predicted_values = classifier.predict(X_test_ohe)"
   ]
  },
  {
   "cell_type": "code",
   "execution_count": 7,
   "id": "29a44321",
   "metadata": {},
   "outputs": [],
   "source": [
    "df_with_predictions = pd.concat(\n",
    "    [X_test.reset_index(drop=True), pd.Series(predicted_values)], axis=1).rename(columns={0:\"predictions\"})"
   ]
  },
  {
   "cell_type": "code",
   "execution_count": 8,
   "id": "f8ca7552",
   "metadata": {},
   "outputs": [],
   "source": [
    "predicted_ones = df_with_predictions.loc[\n",
    "    df_with_predictions.predictions==1\n",
    "]"
   ]
  },
  {
   "cell_type": "code",
   "execution_count": 9,
   "id": "6c20d648",
   "metadata": {},
   "outputs": [],
   "source": [
    "predicted_zeroes = df_with_predictions.loc[\n",
    "    df_with_predictions.predictions==0\n",
    "]"
   ]
  },
  {
   "cell_type": "code",
   "execution_count": 10,
   "id": "4c8c7c07",
   "metadata": {},
   "outputs": [],
   "source": [
    "dis = Distance()"
   ]
  },
  {
   "cell_type": "code",
   "execution_count": 11,
   "id": "22436205",
   "metadata": {},
   "outputs": [],
   "source": [
    "# 2: Gender (1 = male; 2 = female).',\n",
    "# '3: Education (1 = graduate school; 2 = university; 3 = high school; 4 = others).',\n"
   ]
  },
  {
   "cell_type": "code",
   "execution_count": 12,
   "id": "8244fc98",
   "metadata": {},
   "outputs": [],
   "source": [
    "gender_freq_zeros = np.array(\n",
    "    predicted_zeroes.x2_sex.value_counts(normalize=True)\n",
    ")"
   ]
  },
  {
   "cell_type": "code",
   "execution_count": 13,
   "id": "c69a5cc0",
   "metadata": {},
   "outputs": [
    {
     "data": {
      "text/plain": [
       "2    4897\n",
       "1    3103\n",
       "Name: x2_sex, dtype: int64"
      ]
     },
     "execution_count": 13,
     "metadata": {},
     "output_type": "execute_result"
    }
   ],
   "source": [
    "predicted_zeroes.x2_sex.value_counts()"
   ]
  },
  {
   "cell_type": "code",
   "execution_count": 14,
   "id": "dd3aa3c3",
   "metadata": {},
   "outputs": [],
   "source": [
    "gender_freq_ones = np.array(\n",
    "    predicted_ones.x2_sex.value_counts(normalize=True)\n",
    ")"
   ]
  },
  {
   "cell_type": "code",
   "execution_count": 15,
   "id": "d2a443f2",
   "metadata": {},
   "outputs": [],
   "source": [
    "# [female_0, male_0], [female_1, male_1]\n",
    "freq_list = [ \n",
    "    np.array([gender_freq_zeros[0], gender_freq_zeros[1]]), \n",
    "    np.array([gender_freq_ones[0], gender_freq_ones[1]]) \n",
    "]"
   ]
  },
  {
   "cell_type": "code",
   "execution_count": 16,
   "id": "2d949597",
   "metadata": {},
   "outputs": [
    {
     "data": {
      "text/plain": [
       "[array([0.612125, 0.387875]), array([0.551, 0.449])]"
      ]
     },
     "execution_count": 16,
     "metadata": {},
     "output_type": "execute_result"
    }
   ],
   "source": [
    "freq_list"
   ]
  },
  {
   "cell_type": "code",
   "execution_count": 17,
   "id": "88368747",
   "metadata": {
    "scrolled": true
   },
   "outputs": [
    {
     "data": {
      "text/plain": [
       "0.061124999999999985"
      ]
     },
     "execution_count": 17,
     "metadata": {},
     "output_type": "execute_result"
    }
   ],
   "source": [
    "dis.compute_distance_between_frequencies(freq_list)"
   ]
  },
  {
   "cell_type": "code",
   "execution_count": 18,
   "id": "5b9fb4c5",
   "metadata": {},
   "outputs": [],
   "source": [
    "# test della funzione da BiasDetector\n",
    "bd = BiasDetector()"
   ]
  },
  {
   "cell_type": "code",
   "execution_count": 19,
   "id": "a6474b0b",
   "metadata": {},
   "outputs": [
    {
     "data": {
      "text/plain": [
       "{1: (0.06643323350994396, True),\n",
       " 3: (0.06406963470319638, True),\n",
       " 2: (0.062267282715836814, True),\n",
       " 4: (0.6, False),\n",
       " 5: (0.37500000000000006, False),\n",
       " 6: (0.08333333333333337, True),\n",
       " 0: (1.0, False)}"
      ]
     },
     "execution_count": 19,
     "metadata": {},
     "output_type": "execute_result"
    }
   ],
   "source": [
    "bd.compare_binary_variable_conditioned_groups(df_with_predictions,\n",
    "                                              'predictions',\n",
    "                                              'x2_sex',\n",
    "                                              'x3_education',\n",
    "                                              0.1)"
   ]
  },
  {
   "cell_type": "code",
   "execution_count": 20,
   "id": "21cae778",
   "metadata": {},
   "outputs": [
    {
     "data": {
      "text/plain": [
       "{1: (0.04541704252931733, True),\n",
       " 2: (0.07753412294068796, True),\n",
       " 3: (0.11144578313253017, False),\n",
       " 0: (0.8333333333333334, False)}"
      ]
     },
     "execution_count": 20,
     "metadata": {},
     "output_type": "execute_result"
    }
   ],
   "source": [
    "bd.compare_binary_variable_conditioned_groups(df_with_predictions,\n",
    "                                              'predictions',\n",
    "                                              'x2_sex',\n",
    "                                              'x4_marriage',\n",
    "                                              0.1)"
   ]
  },
  {
   "cell_type": "code",
   "execution_count": 21,
   "id": "48376c5e",
   "metadata": {},
   "outputs": [
    {
     "data": {
      "text/plain": [
       "Index(['id', 'x1_limit_bal', 'x2_sex', 'x3_education', 'x4_marriage', 'x5_age',\n",
       "       'x6_pay_0', 'x7_pay_2', 'x8_pay_3', 'x9_pay_4', 'x10_pay_5',\n",
       "       'x11_pay_6', 'x12_bill_amt1', 'x13_bill_amt2', 'x14_bill_amt3',\n",
       "       'x15_bill_amt4', 'x16_bill_amt5', 'x17_bill_amt6', 'x18_pay_amt1',\n",
       "       'x19_pay_amt2', 'x20_pay_amt3', 'x21_pay_amt4', 'x22_pay_amt5',\n",
       "       'x23_pay_amt6', 'y_default_payment_next_month'],\n",
       "      dtype='object')"
      ]
     },
     "execution_count": 21,
     "metadata": {},
     "output_type": "execute_result"
    }
   ],
   "source": [
    "X.columns"
   ]
  },
  {
   "cell_type": "code",
   "execution_count": 22,
   "id": "8f754d2f",
   "metadata": {},
   "outputs": [
    {
     "data": {
      "text/plain": [
       "{1: (0.04541704252931733, True),\n",
       " 2: (0.07753412294068796, True),\n",
       " 3: (0.11144578313253017, False),\n",
       " 0: (0.8333333333333334, False)}"
      ]
     },
     "execution_count": 22,
     "metadata": {},
     "output_type": "execute_result"
    }
   ],
   "source": [
    "bd.compare_binary_variable_conditioned_groups(df_with_predictions,\n",
    "                                              'predictions',\n",
    "                                              'x2_sex',\n",
    "                                              'x4_marriage',\n",
    "                                              0.1)"
   ]
  },
  {
   "cell_type": "code",
   "execution_count": null,
   "id": "2efaade3",
   "metadata": {},
   "outputs": [],
   "source": []
  },
  {
   "cell_type": "code",
   "execution_count": null,
   "id": "e249cbdd",
   "metadata": {},
   "outputs": [],
   "source": []
  },
  {
   "cell_type": "code",
   "execution_count": null,
   "id": "5fb99e54",
   "metadata": {},
   "outputs": [],
   "source": []
  },
  {
   "cell_type": "code",
   "execution_count": 25,
   "id": "e1bde134",
   "metadata": {},
   "outputs": [],
   "source": [
    "v1 = 'x2_sex'\n",
    "v2 = 'x4_marriage'\n",
    "\n",
    "v1_labels = df_with_predictions[v1].unique()\n",
    "v2_labels = df_with_predictions[v2].unique()"
   ]
  },
  {
   "cell_type": "code",
   "execution_count": 31,
   "id": "91d464b9",
   "metadata": {},
   "outputs": [
    {
     "data": {
      "text/plain": [
       "'x2_sex==2 & x4_marriage==1'"
      ]
     },
     "execution_count": 31,
     "metadata": {},
     "output_type": "execute_result"
    }
   ],
   "source": [
    "f'{v1}=={v1_labels[0]} & {v2}=={v2_labels[0]}'"
   ]
  },
  {
   "cell_type": "code",
   "execution_count": 32,
   "id": "d58f79e4",
   "metadata": {},
   "outputs": [],
   "source": [
    "from sklearn.utils.extmath import cartesian"
   ]
  },
  {
   "cell_type": "code",
   "execution_count": 37,
   "id": "b9bbfda4",
   "metadata": {},
   "outputs": [],
   "source": [
    "cc = cartesian([v1_labels, v2_labels])"
   ]
  },
  {
   "cell_type": "code",
   "execution_count": 41,
   "id": "cc580a24",
   "metadata": {},
   "outputs": [],
   "source": [
    "dataframe = df_with_predictions"
   ]
  },
  {
   "cell_type": "code",
   "execution_count": 40,
   "id": "2a320821",
   "metadata": {
    "scrolled": true
   },
   "outputs": [
    {
     "name": "stdout",
     "output_type": "stream",
     "text": [
      "x2_sex==2 & x4_marriage==1\n",
      "x2_sex==2 & x4_marriage==2\n",
      "x2_sex==2 & x4_marriage==3\n",
      "x2_sex==2 & x4_marriage==0\n",
      "x2_sex==1 & x4_marriage==1\n",
      "x2_sex==1 & x4_marriage==2\n",
      "x2_sex==1 & x4_marriage==3\n",
      "x2_sex==1 & x4_marriage==0\n"
     ]
    }
   ],
   "source": [
    "for c in cc:\n",
    "    print(f'{v1}=={c[0]} & {v2}=={c[1]}')"
   ]
  },
  {
   "cell_type": "code",
   "execution_count": 43,
   "id": "a2151e55",
   "metadata": {},
   "outputs": [
    {
     "data": {
      "text/plain": [
       "array([2, 1])"
      ]
     },
     "execution_count": 43,
     "metadata": {},
     "output_type": "execute_result"
    }
   ],
   "source": [
    "c"
   ]
  },
  {
   "cell_type": "code",
   "execution_count": null,
   "id": "89a0ad84",
   "metadata": {},
   "outputs": [],
   "source": []
  },
  {
   "cell_type": "code",
   "execution_count": 67,
   "id": "a9686335",
   "metadata": {
    "scrolled": true
   },
   "outputs": [],
   "source": [
    "conditioning_variables = ['x2_sex', 'x4_marriage']\n",
    "combinations = cartesian([dataframe[v].unique() for v in conditioning_variables])\n",
    "for comb in combinations:\n",
    "    condition = \" & \".join(\n",
    "        [f'{conditioning_variables[i[0]]}=={i[1]}' for i in enumerate(comb)]\n",
    "    )\n",
    "    dataframe_subset = dataframe.query(condition)"
   ]
  },
  {
   "cell_type": "code",
   "execution_count": 69,
   "id": "231bc73e",
   "metadata": {},
   "outputs": [
    {
     "data": {
      "text/plain": [
       "'x2_sex==1 & x4_marriage==0'"
      ]
     },
     "execution_count": 69,
     "metadata": {},
     "output_type": "execute_result"
    }
   ],
   "source": [
    "condition"
   ]
  },
  {
   "cell_type": "code",
   "execution_count": 68,
   "id": "3cdd394a",
   "metadata": {},
   "outputs": [
    {
     "data": {
      "text/plain": [
       "array([[2, 1],\n",
       "       [2, 2],\n",
       "       [2, 3],\n",
       "       [2, 0],\n",
       "       [1, 1],\n",
       "       [1, 2],\n",
       "       [1, 3],\n",
       "       [1, 0]])"
      ]
     },
     "execution_count": 68,
     "metadata": {},
     "output_type": "execute_result"
    }
   ],
   "source": [
    "combinations"
   ]
  },
  {
   "cell_type": "code",
   "execution_count": 61,
   "id": "20bb7ff1",
   "metadata": {},
   "outputs": [
    {
     "data": {
      "text/html": [
       "<div>\n",
       "<style scoped>\n",
       "    .dataframe tbody tr th:only-of-type {\n",
       "        vertical-align: middle;\n",
       "    }\n",
       "\n",
       "    .dataframe tbody tr th {\n",
       "        vertical-align: top;\n",
       "    }\n",
       "\n",
       "    .dataframe thead th {\n",
       "        text-align: right;\n",
       "    }\n",
       "</style>\n",
       "<table border=\"1\" class=\"dataframe\">\n",
       "  <thead>\n",
       "    <tr style=\"text-align: right;\">\n",
       "      <th></th>\n",
       "      <th>id</th>\n",
       "      <th>x1_limit_bal</th>\n",
       "      <th>x2_sex</th>\n",
       "      <th>x3_education</th>\n",
       "      <th>x4_marriage</th>\n",
       "      <th>x5_age</th>\n",
       "      <th>x6_pay_0</th>\n",
       "      <th>x7_pay_2</th>\n",
       "      <th>x8_pay_3</th>\n",
       "      <th>x9_pay_4</th>\n",
       "      <th>...</th>\n",
       "      <th>x16_bill_amt5</th>\n",
       "      <th>x17_bill_amt6</th>\n",
       "      <th>x18_pay_amt1</th>\n",
       "      <th>x19_pay_amt2</th>\n",
       "      <th>x20_pay_amt3</th>\n",
       "      <th>x21_pay_amt4</th>\n",
       "      <th>x22_pay_amt5</th>\n",
       "      <th>x23_pay_amt6</th>\n",
       "      <th>y_default_payment_next_month</th>\n",
       "      <th>predictions</th>\n",
       "    </tr>\n",
       "  </thead>\n",
       "  <tbody>\n",
       "    <tr>\n",
       "      <th>7113</th>\n",
       "      <td>3057</td>\n",
       "      <td>200000</td>\n",
       "      <td>1</td>\n",
       "      <td>3</td>\n",
       "      <td>0</td>\n",
       "      <td>36</td>\n",
       "      <td>-2</td>\n",
       "      <td>-2</td>\n",
       "      <td>-2</td>\n",
       "      <td>-2</td>\n",
       "      <td>...</td>\n",
       "      <td>9140</td>\n",
       "      <td>0</td>\n",
       "      <td>89187</td>\n",
       "      <td>14178</td>\n",
       "      <td>41359</td>\n",
       "      <td>9140</td>\n",
       "      <td>0</td>\n",
       "      <td>0</td>\n",
       "      <td>False</td>\n",
       "      <td>0</td>\n",
       "    </tr>\n",
       "    <tr>\n",
       "      <th>7513</th>\n",
       "      <td>11926</td>\n",
       "      <td>140000</td>\n",
       "      <td>1</td>\n",
       "      <td>3</td>\n",
       "      <td>0</td>\n",
       "      <td>47</td>\n",
       "      <td>0</td>\n",
       "      <td>0</td>\n",
       "      <td>0</td>\n",
       "      <td>0</td>\n",
       "      <td>...</td>\n",
       "      <td>49047</td>\n",
       "      <td>38796</td>\n",
       "      <td>2536</td>\n",
       "      <td>5017</td>\n",
       "      <td>10012</td>\n",
       "      <td>10013</td>\n",
       "      <td>3010</td>\n",
       "      <td>6015</td>\n",
       "      <td>False</td>\n",
       "      <td>0</td>\n",
       "    </tr>\n",
       "    <tr>\n",
       "      <th>8606</th>\n",
       "      <td>9089</td>\n",
       "      <td>50000</td>\n",
       "      <td>1</td>\n",
       "      <td>3</td>\n",
       "      <td>0</td>\n",
       "      <td>50</td>\n",
       "      <td>0</td>\n",
       "      <td>0</td>\n",
       "      <td>0</td>\n",
       "      <td>-1</td>\n",
       "      <td>...</td>\n",
       "      <td>2769</td>\n",
       "      <td>0</td>\n",
       "      <td>2266</td>\n",
       "      <td>0</td>\n",
       "      <td>3400</td>\n",
       "      <td>2769</td>\n",
       "      <td>1700</td>\n",
       "      <td>0</td>\n",
       "      <td>False</td>\n",
       "      <td>0</td>\n",
       "    </tr>\n",
       "  </tbody>\n",
       "</table>\n",
       "<p>3 rows × 26 columns</p>\n",
       "</div>"
      ],
      "text/plain": [
       "         id  x1_limit_bal  x2_sex  x3_education  x4_marriage  x5_age  \\\n",
       "7113   3057        200000       1             3            0      36   \n",
       "7513  11926        140000       1             3            0      47   \n",
       "8606   9089         50000       1             3            0      50   \n",
       "\n",
       "      x6_pay_0  x7_pay_2  x8_pay_3  x9_pay_4  ...  x16_bill_amt5  \\\n",
       "7113        -2        -2        -2        -2  ...           9140   \n",
       "7513         0         0         0         0  ...          49047   \n",
       "8606         0         0         0        -1  ...           2769   \n",
       "\n",
       "      x17_bill_amt6  x18_pay_amt1  x19_pay_amt2  x20_pay_amt3  x21_pay_amt4  \\\n",
       "7113              0         89187         14178         41359          9140   \n",
       "7513          38796          2536          5017         10012         10013   \n",
       "8606              0          2266             0          3400          2769   \n",
       "\n",
       "      x22_pay_amt5  x23_pay_amt6  y_default_payment_next_month  predictions  \n",
       "7113             0             0                         False            0  \n",
       "7513          3010          6015                         False            0  \n",
       "8606          1700             0                         False            0  \n",
       "\n",
       "[3 rows x 26 columns]"
      ]
     },
     "execution_count": 61,
     "metadata": {},
     "output_type": "execute_result"
    }
   ],
   "source": [
    "dataframe_subset"
   ]
  },
  {
   "cell_type": "code",
   "execution_count": 54,
   "id": "6c558cbd",
   "metadata": {},
   "outputs": [
    {
     "name": "stdout",
     "output_type": "stream",
     "text": [
      "(0, 2)\n",
      "(1, 1)\n"
     ]
    }
   ],
   "source": [
    "for i in enumerate(combinations[0]):\n",
    "    print(i)"
   ]
  },
  {
   "cell_type": "code",
   "execution_count": 52,
   "id": "564eb539",
   "metadata": {},
   "outputs": [
    {
     "data": {
      "text/plain": [
       "[(0, array([2, 1])),\n",
       " (1, array([2, 2])),\n",
       " (2, array([2, 3])),\n",
       " (3, array([2, 0])),\n",
       " (4, array([1, 1])),\n",
       " (5, array([1, 2])),\n",
       " (6, array([1, 3])),\n",
       " (7, array([1, 0]))]"
      ]
     },
     "execution_count": 52,
     "metadata": {},
     "output_type": "execute_result"
    }
   ],
   "source": [
    "list(enumerate(combinations))"
   ]
  },
  {
   "cell_type": "code",
   "execution_count": 71,
   "id": "3e9824dc",
   "metadata": {},
   "outputs": [],
   "source": [
    "aaa = df_with_predictions.query(\"x2_sex==2 & x3_education==2\")"
   ]
  },
  {
   "cell_type": "code",
   "execution_count": 73,
   "id": "eccb092d",
   "metadata": {},
   "outputs": [
    {
     "data": {
      "text/plain": [
       "[array([1., 0.]), array([1., 0.])]"
      ]
     },
     "execution_count": 73,
     "metadata": {},
     "output_type": "execute_result"
    }
   ],
   "source": [
    "bd.get_frequencies_list(aaa, 'predictions', 'x2_sex', df_with_predictions.x2_sex.unique())"
   ]
  },
  {
   "cell_type": "code",
   "execution_count": 74,
   "id": "dfcf6531",
   "metadata": {},
   "outputs": [
    {
     "data": {
      "text/plain": [
       "0    2345\n",
       "1     315\n",
       "Name: predictions, dtype: int64"
      ]
     },
     "execution_count": 74,
     "metadata": {},
     "output_type": "execute_result"
    }
   ],
   "source": [
    "aaa.predictions.value_counts()"
   ]
  },
  {
   "cell_type": "code",
   "execution_count": 81,
   "id": "3df30859",
   "metadata": {},
   "outputs": [
    {
     "data": {
      "text/plain": [
       "[1, 2, 3]"
      ]
     },
     "execution_count": 81,
     "metadata": {},
     "output_type": "execute_result"
    }
   ],
   "source": [
    "[1, 2, 3][:3]"
   ]
  },
  {
   "cell_type": "code",
   "execution_count": null,
   "id": "1987ecaf",
   "metadata": {},
   "outputs": [],
   "source": []
  }
 ],
 "metadata": {
  "kernelspec": {
   "display_name": "Python 3 (ipykernel)",
   "language": "python",
   "name": "python3"
  },
  "language_info": {
   "codemirror_mode": {
    "name": "ipython",
    "version": 3
   },
   "file_extension": ".py",
   "mimetype": "text/x-python",
   "name": "python",
   "nbconvert_exporter": "python",
   "pygments_lexer": "ipython3",
   "version": "3.10.9"
  }
 },
 "nbformat": 4,
 "nbformat_minor": 5
}
