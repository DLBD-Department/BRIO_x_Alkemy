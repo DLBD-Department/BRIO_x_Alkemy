{
 "cells": [
  {
   "cell_type": "code",
   "execution_count": 1,
   "id": "0b134d6e",
   "metadata": {},
   "outputs": [],
   "source": [
    "import os, sys\n",
    "dir2 = os.path.abspath('')\n",
    "dir1 = os.path.dirname(dir2)\n",
    "if not dir1 in sys.path: sys.path.append(dir1)"
   ]
  },
  {
   "cell_type": "code",
   "execution_count": 2,
   "id": "77c1e269",
   "metadata": {},
   "outputs": [],
   "source": [
    "from brio.utils.Preprocessing import Preprocessing\n",
    "from sklearn.model_selection import train_test_split\n",
    "from pickle import dump, load\n",
    "import pandas as pd\n",
    "import numpy as np\n",
    "\n",
    "from brio.bias.FreqVsFreqBiasDetector import FreqVsFreqBiasDetector\n",
    "from brio.bias.FreqVsRefBiasDetector import FreqVsRefBiasDetector"
   ]
  },
  {
   "cell_type": "markdown",
   "id": "68af6499",
   "metadata": {},
   "source": [
    "## Importing Data and Trained Classifier"
   ]
  },
  {
   "cell_type": "code",
   "execution_count": 3,
   "id": "66127e6c",
   "metadata": {},
   "outputs": [],
   "source": [
    "input_data_path = \"../data/raw_data/uci-default-of-credit-card/data/data.csv\"\n",
    "local_path_save = '../data/mlflow_artifacts/'"
   ]
  },
  {
   "cell_type": "code",
   "execution_count": 4,
   "id": "bf0e3b01",
   "metadata": {},
   "outputs": [
    {
     "name": "stderr",
     "output_type": "stream",
     "text": [
      "/Users/davideposillipo/.pyenv/versions/3.10.9/envs/prova/lib/python3.10/site-packages/sklearn/base.py:329: UserWarning: Trying to unpickle estimator OneHotEncoder from version 1.2.1 when using version 1.0.2. This might lead to breaking code or invalid results. Use at your own risk. For more info please refer to:\n",
      "https://scikit-learn.org/stable/modules/model_persistence.html#security-maintainability-limitations\n",
      "  warnings.warn(\n",
      "/Users/davideposillipo/.pyenv/versions/3.10.9/envs/prova/lib/python3.10/site-packages/sklearn/base.py:329: UserWarning: Trying to unpickle estimator StandardScaler from version 1.2.1 when using version 1.0.2. This might lead to breaking code or invalid results. Use at your own risk. For more info please refer to:\n",
      "https://scikit-learn.org/stable/modules/model_persistence.html#security-maintainability-limitations\n",
      "  warnings.warn(\n"
     ]
    }
   ],
   "source": [
    "fitted_ohe = load(open(local_path_save + '_ohe.pkl', 'rb')) \n",
    "fitted_scaler = load(open(local_path_save + '_scaler.pkl', 'rb'))"
   ]
  },
  {
   "cell_type": "code",
   "execution_count": 5,
   "id": "6646c312",
   "metadata": {},
   "outputs": [],
   "source": [
    "pp = Preprocessing(input_data_path, \"default\")\n",
    "X, Y = pp.read_dataframe()\n",
    "\n",
    "X_train, X_test, Y_train, Y_test = train_test_split(X,Y, test_size=0.3, random_state=420)\n",
    "\n",
    "X_test_ohe, _, _ = pp.preprocess_for_classification(df=X_test, \n",
    "                                                fit_ohe=True, \n",
    "                                                fitted_ohe=fitted_ohe,\n",
    "                                                perform_scaling=True,\n",
    "                                                fitted_scaler=fitted_scaler)"
   ]
  },
  {
   "cell_type": "code",
   "execution_count": 6,
   "id": "ba010d39",
   "metadata": {},
   "outputs": [],
   "source": [
    "with open(\"./mlruns/1/1e4a0667c7a64cbe8c7b023410e5781c/artifacts/model/model.pkl\", \"rb\") as file:\n",
    "    classifier = load(file)"
   ]
  },
  {
   "cell_type": "code",
   "execution_count": 7,
   "id": "04cacf92",
   "metadata": {},
   "outputs": [],
   "source": [
    "predicted_prob = classifier.predict_proba(X_test_ohe)\n",
    "predicted_values = classifier.predict(X_test_ohe)"
   ]
  },
  {
   "cell_type": "markdown",
   "id": "01057c6d",
   "metadata": {},
   "source": [
    "#### Definition of conditioning variables"
   ]
  },
  {
   "cell_type": "code",
   "execution_count": 8,
   "id": "d7e96a84",
   "metadata": {},
   "outputs": [],
   "source": [
    "def age_buckets(x):\n",
    "    if x < 30:\n",
    "        return 1\n",
    "    elif x < 40:\n",
    "        return 2\n",
    "    else:\n",
    "        return 3\n",
    "\n",
    "X_test['age_buckets'] = X.x5_age.apply(age_buckets)"
   ]
  },
  {
   "cell_type": "code",
   "execution_count": 9,
   "id": "c24a0c9c",
   "metadata": {},
   "outputs": [],
   "source": [
    "conditioning_variables = ['x3_education', 'x4_marriage', 'age_buckets']"
   ]
  },
  {
   "cell_type": "code",
   "execution_count": 10,
   "id": "7950602d",
   "metadata": {},
   "outputs": [],
   "source": [
    "df_with_predictions = pd.concat(\n",
    "    [X_test.reset_index(drop=True), pd.Series(predicted_values)], axis=1).rename(columns={0:\"predictions\"})"
   ]
  },
  {
   "cell_type": "markdown",
   "id": "d6f80bfb",
   "metadata": {},
   "source": [
    "## Hazard and risk functions"
   ]
  },
  {
   "cell_type": "code",
   "execution_count": 11,
   "id": "e6a1b053",
   "metadata": {},
   "outputs": [],
   "source": [
    "def as_list(x):\n",
    "    if type(x) is list:\n",
    "        return x\n",
    "    else:\n",
    "        return [x]"
   ]
  },
  {
   "cell_type": "code",
   "execution_count": 12,
   "id": "cf4062af",
   "metadata": {},
   "outputs": [],
   "source": [
    "def hazard_function(\n",
    "    overall_result, \n",
    "    conditioned_results, \n",
    "    tot_observations,\n",
    "    conditioning_variables,\n",
    "    weight_logic=\"group\"):\n",
    "    \n",
    "    #tot number features=conditioning + root (+1)\n",
    "    n_features_total = len(conditioning_variables) + 1\n",
    "    \n",
    "    hazard_overall = 0\n",
    "    # Iterating over each reference distribution, if available (FreqVsRef)\n",
    "    # In case of FreqVsFreq, there will be a single iteration\n",
    "    num_iterations = len(as_list(overall_result[0]))\n",
    "    for k in np.arange(0, num_iterations):\n",
    "    \n",
    "        # test result, threshold, num_samples, boolean, num_used_features\n",
    "        test_results = []\n",
    "        test_results.append((\n",
    "                        as_list(overall_result[0])[k], \n",
    "                        overall_result[2], \n",
    "                        tot_observations, \n",
    "                        as_list(overall_result[1])[k],\n",
    "                        1 #for the overall test, only 1 feature used, the root variable\n",
    "                       ))\n",
    "\n",
    "        for group_name, group in conditioned_results.items():\n",
    "            if (group[1] is not None):\n",
    "                test_results.append(\n",
    "                                    (\n",
    "                                     as_list(group[1])[k], #test result\n",
    "                                     group[3], #threshold\n",
    "                                     group[0], #num_samples\n",
    "                                     as_list(group[2])[k], #boolean\n",
    "                                     len(group_name.split(\"&\"))+1 #num_used_features, cond.+root\n",
    "                                    )\n",
    "                                   ) \n",
    "\n",
    "        if weight_logic==\"group\":\n",
    "            #T_i in Risk Function document\n",
    "            weight_denominator = 0 \n",
    "            for line in test_results:\n",
    "                weight_denominator += n_features_total - line[4] + 1\n",
    "        elif weight_logic==\"individual\":\n",
    "            #S_i in Risk Function document\n",
    "            weight_denominator = np.sum([x[4] for x in test_results]) \n",
    "        else:\n",
    "            raise Exception('Only \"group\" or \"individual\" are allowed for parameter weight_logic')\n",
    "\n",
    "\n",
    "        hazard = 0\n",
    "        for line in test_results:\n",
    "            if weight_logic==\"group\":\n",
    "                c_info = n_features_total - line[4] + 1\n",
    "                weight = c_info/weight_denominator\n",
    "            elif weight_logic==\"individual\":\n",
    "                weight = line[4]/weight_denominator\n",
    "            else:\n",
    "                raise Exception('Only \"group\" or \"individual\" are allowed for parameter weight_logic')\n",
    "\n",
    "            delta = 1 if line[3]==False else 0\n",
    "            q = line[2]/tot_observations\n",
    "            e = line[0] - line[1]\n",
    "            hazard += delta * weight * q * e * line[1]\n",
    "            \n",
    "        hazard_overall+= hazard\n",
    "        \n",
    "    return hazard_overall"
   ]
  },
  {
   "cell_type": "code",
   "execution_count": 13,
   "id": "d6e084dc",
   "metadata": {},
   "outputs": [],
   "source": [
    "def risk_function(test_hazards):\n",
    "    # test_hazards = [list_of_hazards]\n",
    "        \n",
    "    risk = np.sum(test_hazards)/len(test_hazards)**2\n",
    "    \n",
    "    return risk"
   ]
  },
  {
   "cell_type": "markdown",
   "id": "0e6e5723",
   "metadata": {},
   "source": [
    "### Test 1: TVD, A1=high"
   ]
  },
  {
   "cell_type": "code",
   "execution_count": 14,
   "id": "38346302",
   "metadata": {},
   "outputs": [],
   "source": [
    "bd_1 = FreqVsFreqBiasDetector(distance=\"TVD\", A1=\"high\")"
   ]
  },
  {
   "cell_type": "code",
   "execution_count": 15,
   "id": "ebde5b3d",
   "metadata": {},
   "outputs": [],
   "source": [
    "overall_1 = bd_1.compare_root_variable_groups(\n",
    "    dataframe=df_with_predictions,\n",
    "    target_variable='predictions',\n",
    "    root_variable='x2_sex')"
   ]
  },
  {
   "cell_type": "code",
   "execution_count": 16,
   "id": "9dc1af6e",
   "metadata": {},
   "outputs": [],
   "source": [
    "conditioned_1 = bd_1.compare_root_variable_conditioned_groups(\n",
    "    dataframe=df_with_predictions,\n",
    "    target_variable='predictions',\n",
    "    root_variable='x2_sex',\n",
    "    conditioning_variables=conditioning_variables)"
   ]
  },
  {
   "cell_type": "code",
   "execution_count": 17,
   "id": "e4ad51ba",
   "metadata": {},
   "outputs": [],
   "source": [
    "hazard_test_1 = hazard_function(\n",
    "    overall_1, \n",
    "    conditioned_1, \n",
    "    df_with_predictions.shape[0],\n",
    "    conditioning_variables,\n",
    "    weight_logic=\"group\")"
   ]
  },
  {
   "cell_type": "code",
   "execution_count": 18,
   "id": "f24335e4",
   "metadata": {},
   "outputs": [
    {
     "data": {
      "text/plain": [
       "3.662715426591436e-05"
      ]
     },
     "execution_count": 18,
     "metadata": {},
     "output_type": "execute_result"
    }
   ],
   "source": [
    "hazard_test_1"
   ]
  },
  {
   "cell_type": "markdown",
   "id": "e7914be4",
   "metadata": {},
   "source": [
    "### Test 2 (TVD, low)"
   ]
  },
  {
   "cell_type": "code",
   "execution_count": 19,
   "id": "e8377772",
   "metadata": {},
   "outputs": [],
   "source": [
    "bd_2 = FreqVsFreqBiasDetector(distance=\"TVD\", A1=\"low\")"
   ]
  },
  {
   "cell_type": "code",
   "execution_count": 20,
   "id": "14e80b7e",
   "metadata": {},
   "outputs": [],
   "source": [
    "overall_2 = bd_2.compare_root_variable_groups(\n",
    "    dataframe=df_with_predictions,\n",
    "    target_variable='predictions',\n",
    "    root_variable='x2_sex')"
   ]
  },
  {
   "cell_type": "code",
   "execution_count": 21,
   "id": "468b603a",
   "metadata": {},
   "outputs": [],
   "source": [
    "conditioned_2 = bd_2.compare_root_variable_conditioned_groups(\n",
    "    dataframe=df_with_predictions,\n",
    "    target_variable='predictions',\n",
    "    root_variable='x2_sex',\n",
    "    conditioning_variables=conditioning_variables)"
   ]
  },
  {
   "cell_type": "code",
   "execution_count": 22,
   "id": "4016a74d",
   "metadata": {},
   "outputs": [],
   "source": [
    "hazard_test_2 = hazard_function(\n",
    "    overall_2, \n",
    "    conditioned_2, \n",
    "    df_with_predictions.shape[0],\n",
    "    conditioning_variables,\n",
    "    weight_logic=\"group\")"
   ]
  },
  {
   "cell_type": "markdown",
   "id": "847b9871",
   "metadata": {},
   "source": [
    "### Test 3 (JS, high)"
   ]
  },
  {
   "cell_type": "code",
   "execution_count": 23,
   "id": "e8ce1a46",
   "metadata": {},
   "outputs": [],
   "source": [
    "bd_3 = FreqVsFreqBiasDetector(distance=\"JS\", A1=\"high\")"
   ]
  },
  {
   "cell_type": "code",
   "execution_count": 24,
   "id": "5817e2d8",
   "metadata": {},
   "outputs": [],
   "source": [
    "overall_3 = bd_3.compare_root_variable_groups(\n",
    "    dataframe=df_with_predictions,\n",
    "    target_variable='predictions',\n",
    "    root_variable='x2_sex')"
   ]
  },
  {
   "cell_type": "code",
   "execution_count": 25,
   "id": "ff84ad8a",
   "metadata": {},
   "outputs": [],
   "source": [
    "conditioned_3 = bd_3.compare_root_variable_conditioned_groups(\n",
    "    dataframe=df_with_predictions,\n",
    "    target_variable='predictions',\n",
    "    root_variable='x2_sex',\n",
    "    conditioning_variables=conditioning_variables)"
   ]
  },
  {
   "cell_type": "code",
   "execution_count": 26,
   "id": "1043e2b1",
   "metadata": {},
   "outputs": [],
   "source": [
    "hazard_test_3 = hazard_function(\n",
    "    overall_3, \n",
    "    conditioned_3, \n",
    "    df_with_predictions.shape[0],\n",
    "    conditioning_variables,\n",
    "    weight_logic=\"group\")"
   ]
  },
  {
   "cell_type": "markdown",
   "id": "e65d63c0",
   "metadata": {},
   "source": [
    "### Test 4 (JS, low)"
   ]
  },
  {
   "cell_type": "code",
   "execution_count": 27,
   "id": "8bd6ad0f",
   "metadata": {},
   "outputs": [],
   "source": [
    "bd_4 = FreqVsFreqBiasDetector(distance=\"JS\", A1=\"low\")"
   ]
  },
  {
   "cell_type": "code",
   "execution_count": 28,
   "id": "f35b30be",
   "metadata": {},
   "outputs": [],
   "source": [
    "overall_4 = bd_4.compare_root_variable_groups(\n",
    "    dataframe=df_with_predictions,\n",
    "    target_variable='predictions',\n",
    "    root_variable='x2_sex')"
   ]
  },
  {
   "cell_type": "code",
   "execution_count": 29,
   "id": "3ba5c71c",
   "metadata": {},
   "outputs": [],
   "source": [
    "conditioned_4 = bd_4.compare_root_variable_conditioned_groups(\n",
    "    dataframe=df_with_predictions,\n",
    "    target_variable='predictions',\n",
    "    root_variable='x2_sex',\n",
    "    conditioning_variables=conditioning_variables)"
   ]
  },
  {
   "cell_type": "code",
   "execution_count": 30,
   "id": "b11aedbb",
   "metadata": {},
   "outputs": [],
   "source": [
    "hazard_test_4 = hazard_function(\n",
    "    overall_4, \n",
    "    conditioned_4, \n",
    "    df_with_predictions.shape[0],\n",
    "    conditioning_variables,\n",
    "    weight_logic=\"group\")"
   ]
  },
  {
   "cell_type": "markdown",
   "id": "6b08c2f2",
   "metadata": {},
   "source": [
    "## Risk results"
   ]
  },
  {
   "cell_type": "code",
   "execution_count": 31,
   "id": "0c8805e1",
   "metadata": {},
   "outputs": [],
   "source": [
    "hazards = [hazard_test_1, hazard_test_2, hazard_test_3, hazard_test_4]"
   ]
  },
  {
   "cell_type": "code",
   "execution_count": 32,
   "id": "df958149",
   "metadata": {},
   "outputs": [
    {
     "data": {
      "text/plain": [
       "3.1655148018808247e-06"
      ]
     },
     "execution_count": 32,
     "metadata": {},
     "output_type": "execute_result"
    }
   ],
   "source": [
    "risk_function(hazards)"
   ]
  },
  {
   "cell_type": "markdown",
   "id": "811da932",
   "metadata": {},
   "source": [
    "# Experiments with 3 models"
   ]
  },
  {
   "cell_type": "code",
   "execution_count": 33,
   "id": "3022aa0b",
   "metadata": {},
   "outputs": [],
   "source": [
    "with open(\"./trained_model_for_testing/RF_12_200.pkl\", \"rb\") as file:\n",
    "    classifier_1 = load(file)\n",
    "    \n",
    "with open(\"./trained_model_for_testing/RF_37_10.pkl\", \"rb\") as file:\n",
    "    classifier_2 = load(file)\n",
    "    \n",
    "with open(\"./trained_model_for_testing/Tree_depth2.pkl\", \"rb\") as file:\n",
    "    classifier_3 = load(file)"
   ]
  },
  {
   "cell_type": "code",
   "execution_count": 34,
   "id": "b985b114",
   "metadata": {},
   "outputs": [],
   "source": [
    "predicted_prob_1 = classifier_1.predict_proba(X_test_ohe)\n",
    "predicted_values_1 = classifier_1.predict(X_test_ohe)\n",
    "df_with_predictions_1 = pd.concat(\n",
    "    [X_test.reset_index(drop=True), \n",
    "     pd.Series(predicted_values_1)], axis=1).rename(columns={0:\"predictions\"})\n",
    "\n",
    "predicted_prob_2 = classifier_2.predict_proba(X_test_ohe)\n",
    "predicted_values_2 = classifier_2.predict(X_test_ohe)\n",
    "df_with_predictions_2 = pd.concat(\n",
    "    [X_test.reset_index(drop=True), \n",
    "     pd.Series(predicted_values_2)], axis=1).rename(columns={0:\"predictions\"})\n",
    "\n",
    "predicted_prob_3 = classifier_3.predict_proba(X_test_ohe)\n",
    "predicted_values_3 = classifier_3.predict(X_test_ohe)\n",
    "df_with_predictions_3 = pd.concat(\n",
    "    [X_test.reset_index(drop=True), \n",
    "     pd.Series(predicted_values_3)], axis=1).rename(columns={0:\"predictions\"})"
   ]
  },
  {
   "cell_type": "code",
   "execution_count": 35,
   "id": "23ba3a67",
   "metadata": {},
   "outputs": [],
   "source": [
    "def test_model(data_frame):\n",
    "    ### Test 1: TVD, A1=high\n",
    "\n",
    "    bd_1 = FreqVsFreqBiasDetector(distance=\"TVD\", A1=\"high\")\n",
    "\n",
    "    overall_1 = bd_1.compare_root_variable_groups(\n",
    "        dataframe=data_frame,\n",
    "        target_variable='predictions',\n",
    "        root_variable='x2_sex')\n",
    "\n",
    "    conditioned_1 = bd_1.compare_root_variable_conditioned_groups(\n",
    "        dataframe=data_frame,\n",
    "        target_variable='predictions',\n",
    "        root_variable='x2_sex',\n",
    "        conditioning_variables=conditioning_variables)\n",
    "\n",
    "    hazard_test_1 = hazard_function(\n",
    "        overall_1, \n",
    "        conditioned_1, \n",
    "        data_frame.shape[0],\n",
    "        conditioning_variables,\n",
    "        weight_logic=\"group\")\n",
    "    \n",
    "    print(\"Test 1 (TVD, A1=high) hazard: \", hazard_test_1)\n",
    "\n",
    "    ### Test 2 (TVD, low)\n",
    "\n",
    "    bd_2 = FreqVsFreqBiasDetector(distance=\"TVD\", A1=\"low\")\n",
    "\n",
    "    overall_2 = bd_2.compare_root_variable_groups(\n",
    "        dataframe=data_frame,\n",
    "        target_variable='predictions',\n",
    "        root_variable='x2_sex')\n",
    "\n",
    "    conditioned_2 = bd_2.compare_root_variable_conditioned_groups(\n",
    "        dataframe=data_frame,\n",
    "        target_variable='predictions',\n",
    "        root_variable='x2_sex',\n",
    "        conditioning_variables=conditioning_variables)\n",
    "\n",
    "    hazard_test_2 = hazard_function(\n",
    "        overall_2, \n",
    "        conditioned_2, \n",
    "        data_frame.shape[0],\n",
    "        conditioning_variables,\n",
    "        weight_logic=\"group\")\n",
    "    \n",
    "    print(\"Test 2 (TVD, A1=low) hazard: \", hazard_test_2)\n",
    "\n",
    "    ### Test 3 (JS, high)\n",
    "\n",
    "    bd_3 = FreqVsFreqBiasDetector(distance=\"JS\", A1=\"high\")\n",
    "\n",
    "    overall_3 = bd_3.compare_root_variable_groups(\n",
    "        dataframe=data_frame,\n",
    "        target_variable='predictions',\n",
    "        root_variable='x2_sex')\n",
    "\n",
    "    conditioned_3 = bd_3.compare_root_variable_conditioned_groups(\n",
    "        dataframe=data_frame,\n",
    "        target_variable='predictions',\n",
    "        root_variable='x2_sex',\n",
    "        conditioning_variables=conditioning_variables)\n",
    "\n",
    "    hazard_test_3 = hazard_function(\n",
    "        overall_3, \n",
    "        conditioned_3, \n",
    "        data_frame.shape[0],\n",
    "        conditioning_variables,\n",
    "        weight_logic=\"group\")\n",
    "    \n",
    "    print(\"Test 3 (JS, A1=high) hazard: \", hazard_test_3)\n",
    "\n",
    "    ### Test 4 (JS, low)\n",
    "\n",
    "    bd_4 = FreqVsFreqBiasDetector(distance=\"JS\", A1=\"low\")\n",
    "\n",
    "    overall_4 = bd_4.compare_root_variable_groups(\n",
    "        dataframe=data_frame,\n",
    "        target_variable='predictions',\n",
    "        root_variable='x2_sex')\n",
    "\n",
    "    conditioned_4 = bd_4.compare_root_variable_conditioned_groups(\n",
    "        dataframe=data_frame,\n",
    "        target_variable='predictions',\n",
    "        root_variable='x2_sex',\n",
    "        conditioning_variables=conditioning_variables)\n",
    "\n",
    "    hazard_test_4 = hazard_function(\n",
    "        overall_4, \n",
    "        conditioned_4, \n",
    "        data_frame.shape[0],\n",
    "        conditioning_variables,\n",
    "        weight_logic=\"group\")\n",
    "    \n",
    "    print(\"Test 4 (JS, A1=low) hazard: \", hazard_test_4)\n",
    "    \n",
    "    hazards = [hazard_test_1, hazard_test_2, hazard_test_3, hazard_test_4]\n",
    "    \n",
    "    return risk_function(hazards)"
   ]
  },
  {
   "cell_type": "code",
   "execution_count": 36,
   "id": "7f9c5d36",
   "metadata": {
    "scrolled": true
   },
   "outputs": [
    {
     "name": "stdout",
     "output_type": "stream",
     "text": [
      "Test 1 (TVD, A1=high) hazard:  3.662715426591436e-05\n",
      "Test 2 (TVD, A1=low) hazard:  1.4001756250959011e-05\n",
      "Test 3 (JS, A1=high) hazard:  1.932631321983019e-08\n",
      "Test 4 (JS, A1=low) hazard:  0.0\n",
      "Overall risk measure for model RF_12_200:  3.1655148018808247e-06\n",
      "\n",
      "\n",
      "Test 1 (TVD, A1=high) hazard:  3.231114243613055e-05\n",
      "Test 2 (TVD, A1=low) hazard:  8.844513845377398e-06\n",
      "Test 3 (JS, A1=high) hazard:  7.713366782296505e-10\n",
      "Test 4 (JS, A1=low) hazard:  0.0\n",
      "Overall risk measure for model RF_37_10:  2.572276726136636e-06\n",
      "\n",
      "\n",
      "Test 1 (TVD, A1=high) hazard:  1.0247396005717305e-05\n",
      "Test 2 (TVD, A1=low) hazard:  3.7820077895012226e-06\n",
      "Test 3 (JS, A1=high) hazard:  3.654431188743626e-08\n",
      "Test 4 (JS, A1=low) hazard:  0.0\n",
      "Overall risk measure for model Tree_depth2:  8.791217566941227e-07\n",
      "\n",
      "\n"
     ]
    }
   ],
   "source": [
    "for model, df in zip([\"RF_12_200\", \"RF_37_10\", \"Tree_depth2\"],\n",
    "              [df_with_predictions_1, df_with_predictions_2, df_with_predictions_3]):\n",
    "    print(f\"Overall risk measure for model {model}: \", test_model(df))\n",
    "    print(\"\\n\")"
   ]
  },
  {
   "cell_type": "markdown",
   "id": "6f0b3966",
   "metadata": {},
   "source": [
    "## Freq Vs Ref"
   ]
  },
  {
   "cell_type": "code",
   "execution_count": 37,
   "id": "4b3771a0",
   "metadata": {},
   "outputs": [],
   "source": [
    "bd_ref = FreqVsRefBiasDetector()"
   ]
  },
  {
   "cell_type": "code",
   "execution_count": 38,
   "id": "24f7cf26",
   "metadata": {},
   "outputs": [],
   "source": [
    "male_0_ref = 55/100\n",
    "male_1_ref = 45/100\n",
    "\n",
    "female_0_ref = 50/100\n",
    "female_1_ref = 50/100\n",
    "\n",
    "ref_distribution = [np.array([female_0_ref, female_1_ref]), np.array([male_0_ref, male_1_ref])]"
   ]
  },
  {
   "cell_type": "code",
   "execution_count": 39,
   "id": "7dfb89a5",
   "metadata": {},
   "outputs": [],
   "source": [
    "overall_ref = bd_ref.compare_root_variable_groups(\n",
    "    dataframe=df_with_predictions,\n",
    "    target_variable='predictions',\n",
    "    root_variable='x2_sex',\n",
    "    #threshold=0.1,\n",
    "    reference_distribution=ref_distribution\n",
    ")"
   ]
  },
  {
   "cell_type": "code",
   "execution_count": 40,
   "id": "a094a694",
   "metadata": {},
   "outputs": [],
   "source": [
    "conditioned_ref = bd_ref.compare_root_variable_conditioned_groups(\n",
    "    dataframe=df_with_predictions,\n",
    "    target_variable='predictions',\n",
    "    root_variable='x2_sex',\n",
    "    conditioning_variables=conditioning_variables,\n",
    "    #threshold=0.1,\n",
    "    min_obs_per_group=30,\n",
    "    reference_distribution=ref_distribution)"
   ]
  },
  {
   "cell_type": "code",
   "execution_count": 41,
   "id": "b9aefa9b",
   "metadata": {},
   "outputs": [],
   "source": [
    "hazard_test_ref = hazard_function(\n",
    "    overall_ref, \n",
    "    conditioned_ref, \n",
    "    df_with_predictions.shape[0],\n",
    "    conditioning_variables,\n",
    "    weight_logic=\"group\")"
   ]
  },
  {
   "cell_type": "code",
   "execution_count": 42,
   "id": "4f4a0f26",
   "metadata": {},
   "outputs": [
    {
     "data": {
      "text/plain": [
       "0.0022374318004642693"
      ]
     },
     "execution_count": 42,
     "metadata": {},
     "output_type": "execute_result"
    }
   ],
   "source": [
    "hazard_test_ref"
   ]
  }
 ],
 "metadata": {
  "kernelspec": {
   "display_name": "Python 3 (ipykernel)",
   "language": "python",
   "name": "python3"
  },
  "language_info": {
   "codemirror_mode": {
    "name": "ipython",
    "version": 3
   },
   "file_extension": ".py",
   "mimetype": "text/x-python",
   "name": "python",
   "nbconvert_exporter": "python",
   "pygments_lexer": "ipython3",
   "version": "3.10.9"
  }
 },
 "nbformat": 4,
 "nbformat_minor": 5
}
