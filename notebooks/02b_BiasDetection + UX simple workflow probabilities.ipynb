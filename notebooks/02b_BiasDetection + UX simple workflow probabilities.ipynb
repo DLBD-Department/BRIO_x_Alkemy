{
 "cells": [
  {
   "cell_type": "code",
   "execution_count": 85,
   "id": "0b134d6e",
   "metadata": {},
   "outputs": [],
   "source": [
    "import os, sys\n",
    "dir2 = os.path.abspath('')\n",
    "dir1 = os.path.dirname(dir2)\n",
    "if not dir1 in sys.path: sys.path.append(dir1)"
   ]
  },
  {
   "cell_type": "code",
   "execution_count": 86,
   "id": "77c1e269",
   "metadata": {},
   "outputs": [],
   "source": [
    "from src.utils.Preprocessing import Preprocessing\n",
    "from sklearn.model_selection import train_test_split\n",
    "from pickle import dump, load\n",
    "import pandas as pd\n",
    "import numpy as np\n",
    "\n",
    "from src.bias.FreqVsFreqBiasDetector import FreqVsFreqBiasDetector\n",
    "from src.bias.FreqVsRefBiasDetector import FreqVsRefBiasDetector"
   ]
  },
  {
   "attachments": {},
   "cell_type": "markdown",
   "id": "68af6499",
   "metadata": {},
   "source": [
    "## Importing Data and Trained Classifier"
   ]
  },
  {
   "attachments": {},
   "cell_type": "markdown",
   "id": "6cfad7a0",
   "metadata": {},
   "source": [
    "**UX**: \n",
    "- the user uploads the dataset with the features (X)\n",
    "- the user uploads \n",
    "    - the sklearn model as pkl file **or**\n",
    "    - a file with the predictions already created (Y). \n",
    "- the user uploads scaler and ohe (if needed)\n",
    "\n",
    "If a model is provided, the application checks if the the provided datasets and model match in terms of column names. "
   ]
  },
  {
   "cell_type": "code",
   "execution_count": 87,
   "id": "66127e6c",
   "metadata": {},
   "outputs": [],
   "source": [
    "input_data_path = \"../data/raw_data/uci-default-of-credit-card/data/data.csv\"\n",
    "local_path_save = '../data/mlflow_artifacts/'"
   ]
  },
  {
   "cell_type": "code",
   "execution_count": 88,
   "id": "bf0e3b01",
   "metadata": {},
   "outputs": [],
   "source": [
    "fitted_ohe = load(open(local_path_save + '_ohe.pkl', 'rb')) \n",
    "fitted_scaler = load(open(local_path_save + '_scaler.pkl', 'rb'))"
   ]
  },
  {
   "cell_type": "code",
   "execution_count": 89,
   "id": "6646c312",
   "metadata": {},
   "outputs": [],
   "source": [
    "pp = Preprocessing(input_data_path, \"default\")\n",
    "X, Y = pp.read_dataframe()\n",
    "\n",
    "X_train, X_test, Y_train, Y_test = train_test_split(X,Y, test_size=0.3, random_state=420)\n",
    "\n",
    "X_test_ohe, _, _ = pp.preprocess_for_classification(df=X_test, \n",
    "                                                fit_ohe=True, \n",
    "                                                fitted_ohe=fitted_ohe,\n",
    "                                                perform_scaling=True,\n",
    "                                                fitted_scaler=fitted_scaler)"
   ]
  },
  {
   "cell_type": "code",
   "execution_count": 90,
   "id": "ba010d39",
   "metadata": {},
   "outputs": [
    {
     "name": "stderr",
     "output_type": "stream",
     "text": [
      "/home/dev/repos/venv_gen_purpose/lib/python3.10/site-packages/sklearn/base.py:299: UserWarning: Trying to unpickle estimator DecisionTreeClassifier from version 1.0.2 when using version 1.2.1. This might lead to breaking code or invalid results. Use at your own risk. For more info please refer to:\n",
      "https://scikit-learn.org/stable/model_persistence.html#security-maintainability-limitations\n",
      "  warnings.warn(\n",
      "/home/dev/repos/venv_gen_purpose/lib/python3.10/site-packages/sklearn/base.py:299: UserWarning: Trying to unpickle estimator RandomForestClassifier from version 1.0.2 when using version 1.2.1. This might lead to breaking code or invalid results. Use at your own risk. For more info please refer to:\n",
      "https://scikit-learn.org/stable/model_persistence.html#security-maintainability-limitations\n",
      "  warnings.warn(\n"
     ]
    }
   ],
   "source": [
    "with open(\"trained_model_for_testing/RF_12_200.pkl\", \"rb\") as file:\n",
    "    classifier = load(file)"
   ]
  },
  {
   "cell_type": "code",
   "execution_count": 91,
   "id": "04cacf92",
   "metadata": {},
   "outputs": [],
   "source": [
    "predicted_prob = classifier.predict_proba(X_test_ohe)\n",
    "predicted_values = classifier.predict(X_test_ohe)"
   ]
  },
  {
   "attachments": {},
   "cell_type": "markdown",
   "id": "01057c6d",
   "metadata": {},
   "source": [
    "#### Definition of conditioning variables\n",
    "**UX**:\n",
    "- the user selects the continuous features to be categorized and used for the creation of control groups. \n",
    "\n",
    "The application propose splitting cuts that make the resulting discrete distribution uniform (but also other binning procedures are possible). "
   ]
  },
  {
   "cell_type": "code",
   "execution_count": 92,
   "id": "d7e96a84",
   "metadata": {},
   "outputs": [],
   "source": [
    "def age_buckets(x):\n",
    "    if x < 30:\n",
    "        return 1\n",
    "    elif x < 40:\n",
    "        return 2\n",
    "    else:\n",
    "        return 3\n",
    "\n",
    "X_test['age_buckets'] = X.x5_age.apply(age_buckets)"
   ]
  },
  {
   "attachments": {},
   "cell_type": "markdown",
   "id": "7fbb116c",
   "metadata": {},
   "source": [
    "**UX**:\n",
    "- the user selects from a drop down menu the variables to be used for the groups creation\n",
    "- the user can select \"check all the variables\" and the application will use all the available discrete features"
   ]
  },
  {
   "cell_type": "code",
   "execution_count": 93,
   "id": "c24a0c9c",
   "metadata": {},
   "outputs": [],
   "source": [
    "conditioning_variables = ['x3_education', 'x4_marriage', 'age_buckets']"
   ]
  },
  {
   "cell_type": "code",
   "execution_count": 94,
   "id": "7950602d",
   "metadata": {},
   "outputs": [],
   "source": [
    "df_with_predictions = X_test.reset_index(drop=True).assign(predictions=predicted_values, predicted_probs=predicted_prob[:,1])"
   ]
  },
  {
   "attachments": {},
   "cell_type": "markdown",
   "id": "ea1b5fc8",
   "metadata": {},
   "source": [
    "## Bias Detection"
   ]
  },
  {
   "attachments": {},
   "cell_type": "markdown",
   "id": "852c7137",
   "metadata": {},
   "source": [
    "**UX**:\n",
    "- the user selects from a drop down menu the binary variable to be used for the distance calculation\n",
    "- the user selects a threshold for the distance\n",
    "- the user selects a Distance (if more than one are provided)"
   ]
  },
  {
   "cell_type": "code",
   "execution_count": 95,
   "id": "38346302",
   "metadata": {},
   "outputs": [],
   "source": [
    "bd = FreqVsFreqBiasDetector(distance=\"TVD\", target_variable_type='probability')"
   ]
  },
  {
   "attachments": {},
   "cell_type": "markdown",
   "id": "28af1338",
   "metadata": {},
   "source": [
    "**UX**:\n",
    "\n",
    "The user has can select between two options:\n",
    "- Option 1: distance between frequencies\n",
    "- Option 2: distance from reference distribution\n",
    "    - in this case, the user has to insert values for a reference distribution"
   ]
  },
  {
   "attachments": {},
   "cell_type": "markdown",
   "id": "af1d858e",
   "metadata": {},
   "source": [
    "## Option 1: Distance between frequencies"
   ]
  },
  {
   "attachments": {},
   "cell_type": "markdown",
   "id": "0e6e5723",
   "metadata": {},
   "source": [
    "### Comparison of the two groups observed freqs"
   ]
  },
  {
   "cell_type": "code",
   "execution_count": 96,
   "id": "9dc1af6e",
   "metadata": {},
   "outputs": [
    {
     "data": {
      "text/plain": [
       "(0.05588710957653692, False, 0.016368585412256314, None)"
      ]
     },
     "execution_count": 96,
     "metadata": {},
     "output_type": "execute_result"
    }
   ],
   "source": [
    "bd.compare_root_variable_groups(\n",
    "    dataframe=df_with_predictions,\n",
    "    target_variable='predicted_probs',\n",
    "    root_variable='x2_sex',\n",
    "    threshold=None,\n",
    "    n_bins=10\n",
    ")"
   ]
  },
  {
   "cell_type": "code",
   "execution_count": 97,
   "id": "ed803019",
   "metadata": {},
   "outputs": [],
   "source": [
    "#distance = max( abs(female_0_freq - male_0_freq), abs(female_1_freq - male_1_freq) )"
   ]
  },
  {
   "cell_type": "code",
   "execution_count": 98,
   "id": "a9ed3e0b",
   "metadata": {},
   "outputs": [
    {
     "name": "stdout",
     "output_type": "stream",
     "text": [
      "[0.20439189 0.42454955 0.1356982  0.06503378 0.04391892 0.04560811\n",
      " 0.04054054 0.02984234 0.00844595 0.00197072]\n",
      "[0.260279   0.41831865 0.12756975 0.05837004 0.03432452 0.02514684\n",
      " 0.03671072 0.03120411 0.00715859 0.00091777]\n"
     ]
    }
   ],
   "source": [
    "#print(df_with_predictions.groupby(\"x2_sex\").predictions.value_counts(normalize=True))\n",
    "print(np.histogram(df_with_predictions.query(\"x2_sex==1\").predicted_probs, bins=10, range=[0,1])[0]/df_with_predictions.query(\"x2_sex==1\").shape[0])\n",
    "print(np.histogram(df_with_predictions.query(\"x2_sex==2\").predicted_probs, bins=10, range=[0,1])[0]/df_with_predictions.query(\"x2_sex==2\").shape[0])"
   ]
  },
  {
   "attachments": {},
   "cell_type": "markdown",
   "id": "1b956985",
   "metadata": {},
   "source": [
    "### Comparison of the two groups observed freqs conditioning to other features"
   ]
  },
  {
   "cell_type": "code",
   "execution_count": 99,
   "id": "39c5a497",
   "metadata": {},
   "outputs": [],
   "source": [
    "results = bd.compare_root_variable_conditioned_groups(\n",
    "    dataframe=df_with_predictions,\n",
    "    target_variable='predicted_probs',\n",
    "    root_variable='x2_sex',\n",
    "    conditioning_variables=conditioning_variables,\n",
    "    threshold=0.1,\n",
    "    min_obs_per_group=30,\n",
    "    n_bins=10)"
   ]
  },
  {
   "cell_type": "code",
   "execution_count": 100,
   "id": "9180e2c0",
   "metadata": {},
   "outputs": [],
   "source": [
    "#results"
   ]
  },
  {
   "attachments": {},
   "cell_type": "markdown",
   "id": "5ec89ef6",
   "metadata": {},
   "source": [
    "**UX**:\n",
    "- the application shows the results in two views:\n",
    "    - overall results: all the computed distances\n",
    "    - violations: only the results above the threshold\n",
    "- for both, the user can order the results by number of obs, distance or group name"
   ]
  },
  {
   "cell_type": "code",
   "execution_count": 101,
   "id": "60c28a96",
   "metadata": {},
   "outputs": [],
   "source": [
    "# selecting only combinations for which the distance is greater than the threshold \n",
    "violations = {k: v for k, v in results.items() if not v[2]}"
   ]
  },
  {
   "attachments": {},
   "cell_type": "markdown",
   "id": "ff40c582",
   "metadata": {},
   "source": [
    "- '2: Gender (1 = male; 2 = female).',\n",
    "- '3: Education (1 = graduate school; 2 = university; 3 = high school; 4 = others).',\n",
    "- '4: Marital status (1 = married; 2 = single; 3 = others).'"
   ]
  },
  {
   "cell_type": "code",
   "execution_count": 102,
   "id": "89b9c62a",
   "metadata": {},
   "outputs": [
    {
     "data": {
      "text/plain": [
       "{'x4_marriage==3': (95, 0.10410557184750735, False, 0.1, None),\n",
       " 'x3_education==2 & x4_marriage==3': (56,\n",
       "  0.17251461988304095,\n",
       "  False,\n",
       "  0.1,\n",
       "  None),\n",
       " 'x3_education==5 & x4_marriage==1': (45,\n",
       "  0.1774193548387097,\n",
       "  False,\n",
       "  0.1,\n",
       "  None),\n",
       " 'x3_education==4': (40, 0.3125, False, 0.1, None)}"
      ]
     },
     "execution_count": 102,
     "metadata": {},
     "output_type": "execute_result"
    }
   ],
   "source": [
    "# sorting the violations by number of observations belonging to that group\n",
    "dict(sorted(violations.items(), key=lambda item: item[1], reverse=True))"
   ]
  },
  {
   "attachments": {},
   "cell_type": "markdown",
   "id": "a9a1aeee",
   "metadata": {},
   "source": [
    "#### Focus analyses on particular cases\n",
    "Here we want to understand/qualify some specific violation cases.\n",
    "\n",
    "**UX**: \n",
    "- the user selects one of the available violations\n",
    "- the application returns relevant details to help understand what's going on\n",
    "- the user can download the results as csv file. "
   ]
  },
  {
   "cell_type": "code",
   "execution_count": 103,
   "id": "2d43d413",
   "metadata": {},
   "outputs": [
    {
     "data": {
      "text/plain": [
       "([array([0.26829268, 0.56097561, 0.04878049, 0.04878049, 0.02439024,\n",
       "         0.02439024, 0.02439024, 0.        , 0.        , 0.        ]),\n",
       "  array([0.1875, 0.25  , 0.25  , 0.1875, 0.0625, 0.    , 0.0625, 0.    ,\n",
       "         0.    , 0.    ])],\n",
       " [array([11, 23,  2,  2,  1,  1,  1,  0,  0,  0]),\n",
       "  array([3, 4, 4, 3, 1, 0, 1, 0, 0, 0])])"
      ]
     },
     "execution_count": 103,
     "metadata": {},
     "output_type": "execute_result"
    }
   ],
   "source": [
    "focus_df = df_with_predictions.query(\"x3_education==1 & x4_marriage==1 & age_buckets==1\")\n",
    "bd.get_frequencies_list_from_probs(focus_df, 'predicted_probs', \n",
    "                        'x2_sex', df_with_predictions.x2_sex.unique(), 10)\n",
    "#TODO: TRANSFORM IN DATAFRAME"
   ]
  },
  {
   "cell_type": "code",
   "execution_count": 104,
   "id": "58690907",
   "metadata": {
    "scrolled": true
   },
   "outputs": [],
   "source": [
    "#focus_df.groupby('x2_sex').predictions.value_counts(normalize=True)"
   ]
  },
  {
   "cell_type": "code",
   "execution_count": 105,
   "id": "f970d404",
   "metadata": {},
   "outputs": [
    {
     "data": {
      "text/plain": [
       "array([ 0.09612917,  0.45338975, -0.07971368, -0.06568041, -0.02295081,\n",
       "        0.        , -0.02295081,  0.        ,  0.        ,  0.        ])"
      ]
     },
     "execution_count": 105,
     "metadata": {},
     "output_type": "execute_result"
    }
   ],
   "source": [
    "#TO DELETE\n",
    "from scipy.stats import entropy\n",
    "from scipy.special import rel_entr\n",
    "p,q = bd.get_frequencies_list_from_probs(focus_df, 'predicted_probs', \n",
    "                        'x2_sex', df_with_predictions.x2_sex.unique(), 10)[0]\n",
    "p,q,entropy(p,q), rel_entr(p,q), rel_entr(p,q).sum() #entropy è sum di rel_entr. Devi modificare freq_vs_ref in modo che se c'è un inf --> diventa 0. In jensenshannon non succede\n",
    "\n",
    "#rel_entr(p,q)[5] == np.inf\n",
    "a=np.array([ 0.09612917,  0.45338975, -0.07971368, -0.06568041, -0.02295081,\n",
    "                np.inf, -0.02295081,  0.        ,  0.        ,  0.        ])\n",
    "a[a==np.inf]=0\n",
    "a"
   ]
  },
  {
   "attachments": {},
   "cell_type": "markdown",
   "id": "bd3036b0",
   "metadata": {},
   "source": [
    "## Option 2: distance from reference distribution"
   ]
  },
  {
   "cell_type": "code",
   "execution_count": 114,
   "id": "7f5fe536",
   "metadata": {},
   "outputs": [],
   "source": [
    "bd = FreqVsRefBiasDetector(normalization='D1', adjust_div='zero', target_variable_type='probability')"
   ]
  },
  {
   "cell_type": "code",
   "execution_count": 115,
   "id": "af19d59d",
   "metadata": {},
   "outputs": [],
   "source": [
    "female_distr = [0.2,0.15,0.15,0.1,0.1,0.1,0.05,0.05,0.05,0.05] #[0.75,0.25]\n",
    "male_distr = female_distr\n",
    "\n",
    "ref_distribution = [np.array(female_distr), np.array(male_distr)]"
   ]
  },
  {
   "attachments": {},
   "cell_type": "markdown",
   "id": "39ede7a7",
   "metadata": {},
   "source": [
    "### Comparison of the two groups w.r.t. the reference distribution"
   ]
  },
  {
   "cell_type": "code",
   "execution_count": 116,
   "id": "50276f5c",
   "metadata": {},
   "outputs": [
    {
     "data": {
      "text/plain": [
       "([0.3325369126643257, 0.3950668798613991], [False, False], 0.1)"
      ]
     },
     "execution_count": 116,
     "metadata": {},
     "output_type": "execute_result"
    }
   ],
   "source": [
    "bd.compare_root_variable_groups(\n",
    "    dataframe=df_with_predictions,\n",
    "    target_variable='predicted_probs',\n",
    "    root_variable='x2_sex',\n",
    "    threshold=0.1,\n",
    "    reference_distribution=ref_distribution,\n",
    "    n_bins=10\n",
    ")"
   ]
  },
  {
   "attachments": {},
   "cell_type": "markdown",
   "id": "20582d77",
   "metadata": {},
   "source": [
    "### Comparison of the two groups w.r.t. the reference distribution conditioning to other features"
   ]
  },
  {
   "cell_type": "code",
   "execution_count": 117,
   "id": "cd97b622",
   "metadata": {},
   "outputs": [
    {
     "name": "stdout",
     "output_type": "stream",
     "text": [
      "Warning: 1 out of 10 bins of the observed distribution are empty.     Their relative contribution to KL was forced to 0\n",
      "Warning: 8 out of 10 bins of the observed distribution are empty.     Their relative contribution to KL was forced to 0\n",
      "Warning: 7 out of 10 bins of the observed distribution are empty.     Their relative contribution to KL was forced to 0\n",
      "Warning: 5 out of 10 bins of the observed distribution are empty.     Their relative contribution to KL was forced to 0\n",
      "Warning: 6 out of 10 bins of the observed distribution are empty.     Their relative contribution to KL was forced to 0\n",
      "Warning: 1 out of 10 bins of the observed distribution are empty.     Their relative contribution to KL was forced to 0\n",
      "Warning: 3 out of 10 bins of the observed distribution are empty.     Their relative contribution to KL was forced to 0\n",
      "Warning: 2 out of 10 bins of the observed distribution are empty.     Their relative contribution to KL was forced to 0\n",
      "Warning: 1 out of 10 bins of the observed distribution are empty.     Their relative contribution to KL was forced to 0\n",
      "Warning: 1 out of 10 bins of the observed distribution are empty.     Their relative contribution to KL was forced to 0\n",
      "Warning: 1 out of 10 bins of the observed distribution are empty.     Their relative contribution to KL was forced to 0\n",
      "Warning: 1 out of 10 bins of the observed distribution are empty.     Their relative contribution to KL was forced to 0\n",
      "Warning: 1 out of 10 bins of the observed distribution are empty.     Their relative contribution to KL was forced to 0\n",
      "Warning: 4 out of 10 bins of the observed distribution are empty.     Their relative contribution to KL was forced to 0\n",
      "Warning: 3 out of 10 bins of the observed distribution are empty.     Their relative contribution to KL was forced to 0\n",
      "Warning: 7 out of 10 bins of the observed distribution are empty.     Their relative contribution to KL was forced to 0\n",
      "Warning: 6 out of 10 bins of the observed distribution are empty.     Their relative contribution to KL was forced to 0\n"
     ]
    }
   ],
   "source": [
    "results = bd.compare_root_variable_conditioned_groups(\n",
    "    dataframe=df_with_predictions,\n",
    "    target_variable='predicted_probs',\n",
    "    root_variable='x2_sex',\n",
    "    conditioning_variables=conditioning_variables,\n",
    "    threshold=0.1,\n",
    "    min_obs_per_group=30,\n",
    "    reference_distribution=ref_distribution,\n",
    "    n_bins=10)"
   ]
  },
  {
   "cell_type": "code",
   "execution_count": 118,
   "id": "22ebf10b",
   "metadata": {},
   "outputs": [
    {
     "data": {
      "text/plain": [
       "{'x3_education==1': (3119,\n",
       "  [0.3733894163213447, 0.33464884313930365],\n",
       "  [False, False],\n",
       "  0.1),\n",
       " 'x3_education==3': (1499,\n",
       "  [0.33639915729869396, 0.3692037899778381],\n",
       "  [False, False],\n",
       "  0.1),\n",
       " 'x3_education==2': (4250,\n",
       "  [0.3198385486496075, 0.36654921110225525],\n",
       "  [False, False],\n",
       "  0.1),\n",
       " 'x3_education==4': (40,\n",
       "  [-0.8458045172856505, -0.7337623216957061],\n",
       "  [True, True],\n",
       "  0.1),\n",
       " 'x3_education==5': (75,\n",
       "  [-0.1938359615497356, -0.13731407304501708],\n",
       "  [True, True],\n",
       "  0.1),\n",
       " 'x3_education==6': (14, None, 'Not enough observations'),\n",
       " 'x3_education==0': (3, None, 'Not enough observations'),\n",
       " 'x4_marriage==1': (4065,\n",
       "  [0.32083718972939557, 0.3693872204325538],\n",
       "  [False, False],\n",
       "  0.1),\n",
       " 'x4_marriage==2': (4822,\n",
       "  [0.3440863424267153, 0.2835634401991457],\n",
       "  [False, False],\n",
       "  0.1),\n",
       " 'x4_marriage==3': (95,\n",
       "  [0.40933006255278737, 0.31079226197268917],\n",
       "  [False, False],\n",
       "  0.1),\n",
       " 'x4_marriage==0': (18, None, 'Not enough observations'),\n",
       " 'x3_education==1 & x4_marriage==1': (1106,\n",
       "  [0.38004098935605246, 0.352868003406828],\n",
       "  [False, False],\n",
       "  0.1),\n",
       " 'x3_education==1 & x4_marriage==2': (2002,\n",
       "  [0.37201820657780693, 0.33013348685969457],\n",
       "  [False, False],\n",
       "  0.1),\n",
       " 'x3_education==1 & x4_marriage==3': (10, None, 'Not enough observations'),\n",
       " 'x3_education==1 & x4_marriage==0': (1, None, 'Not enough observations'),\n",
       " 'x3_education==3 & x4_marriage==1': (842,\n",
       "  [0.2957301432653314, 0.3288434160014103],\n",
       "  [False, False],\n",
       "  0.1),\n",
       " 'x3_education==3 & x4_marriage==2': (616,\n",
       "  [0.22999766942345246, 0.3045238344456531],\n",
       "  [False, False],\n",
       "  0.1),\n",
       " 'x3_education==3 & x4_marriage==3': (26, None, 'Not enough observations'),\n",
       " 'x3_education==3 & x4_marriage==0': (15, None, 'Not enough observations'),\n",
       " 'x3_education==2 & x4_marriage==1': (2047,\n",
       "  [0.32923291669364907, 0.3533093520015467],\n",
       "  [False, False],\n",
       "  0.1),\n",
       " 'x3_education==2 & x4_marriage==2': (2145,\n",
       "  [0.3486571111350024, 0.25153002582485284],\n",
       "  [False, False],\n",
       "  0.1),\n",
       " 'x3_education==2 & x4_marriage==3': (56,\n",
       "  [-0.17245833233176033, 0.06951047969276591],\n",
       "  [True, True],\n",
       "  0.1),\n",
       " 'x3_education==2 & x4_marriage==0': (2, None, 'Not enough observations'),\n",
       " 'x3_education==4 & x4_marriage==1': (17, None, 'Not enough observations'),\n",
       " 'x3_education==4 & x4_marriage==2': (21, None, 'Not enough observations'),\n",
       " 'x3_education==4 & x4_marriage==3': (2, None, 'Not enough observations'),\n",
       " 'x3_education==4 & x4_marriage==0': (0, None, 'Not enough observations'),\n",
       " 'x3_education==5 & x4_marriage==1': (45,\n",
       "  [-0.4947977951128699, -0.19104298622035776],\n",
       "  [True, True],\n",
       "  0.1),\n",
       " 'x3_education==5 & x4_marriage==2': (29, None, 'Not enough observations'),\n",
       " 'x3_education==5 & x4_marriage==3': (1, None, 'Not enough observations'),\n",
       " 'x3_education==5 & x4_marriage==0': (0, None, 'Not enough observations'),\n",
       " 'x3_education==6 & x4_marriage==1': (7, None, 'Not enough observations'),\n",
       " 'x3_education==6 & x4_marriage==2': (7, None, 'Not enough observations'),\n",
       " 'x3_education==6 & x4_marriage==3': (0, None, 'Not enough observations'),\n",
       " 'x3_education==6 & x4_marriage==0': (0, None, 'Not enough observations'),\n",
       " 'x3_education==0 & x4_marriage==1': (1, None, 'Not enough observations'),\n",
       " 'x3_education==0 & x4_marriage==2': (2, None, 'Not enough observations'),\n",
       " 'x3_education==0 & x4_marriage==3': (0, None, 'Not enough observations'),\n",
       " 'x3_education==0 & x4_marriage==0': (0, None, 'Not enough observations')}"
      ]
     },
     "execution_count": 118,
     "metadata": {},
     "output_type": "execute_result"
    }
   ],
   "source": [
    "results"
   ]
  },
  {
   "cell_type": "code",
   "execution_count": 119,
   "id": "d101c5b4",
   "metadata": {},
   "outputs": [
    {
     "data": {
      "text/plain": [
       "12"
      ]
     },
     "execution_count": 119,
     "metadata": {},
     "output_type": "execute_result"
    }
   ],
   "source": [
    "# selecting only combinations for which the distance is greater than the threshold \n",
    "violations = {k: v for k, v in results.items() if (not v[2][0] or not v[2][1])}\n",
    "len(violations)"
   ]
  }
 ],
 "metadata": {
  "kernelspec": {
   "display_name": "Python 3 (ipykernel)",
   "language": "python",
   "name": "python3"
  },
  "language_info": {
   "codemirror_mode": {
    "name": "ipython",
    "version": 3
   },
   "file_extension": ".py",
   "mimetype": "text/x-python",
   "name": "python",
   "nbconvert_exporter": "python",
   "pygments_lexer": "ipython3",
   "version": "3.10.12"
  }
 },
 "nbformat": 4,
 "nbformat_minor": 5
}
