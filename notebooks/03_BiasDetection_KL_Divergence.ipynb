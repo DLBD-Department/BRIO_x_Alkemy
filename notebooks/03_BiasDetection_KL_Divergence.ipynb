{
 "cells": [
  {
   "cell_type": "code",
   "execution_count": 1,
   "id": "0b134d6e",
   "metadata": {},
   "outputs": [],
   "source": [
    "import os, sys\n",
    "dir2 = os.path.abspath('')\n",
    "dir1 = os.path.dirname(dir2)\n",
    "if not dir1 in sys.path: sys.path.append(dir1)"
   ]
  },
  {
   "cell_type": "code",
   "execution_count": 2,
   "id": "77c1e269",
   "metadata": {},
   "outputs": [],
   "source": [
    "from src.data_processing.Preprocessing import Preprocessing\n",
    "from sklearn.model_selection import train_test_split\n",
    "from pickle import dump, load\n",
    "import pandas as pd\n",
    "import numpy as np\n",
    "\n",
    "from src.bias.BiasDetector import BiasDetector\n",
    "from src.bias.KLDivergence import KLDivergence"
   ]
  },
  {
   "cell_type": "markdown",
   "id": "68af6499",
   "metadata": {},
   "source": [
    "## Importing Data and Trained Classifier"
   ]
  },
  {
   "cell_type": "markdown",
   "id": "6cfad7a0",
   "metadata": {},
   "source": [
    "**UX**: \n",
    "- the user uploads the dataset with the features (X)\n",
    "- the user uploads \n",
    "    - the sklearn model as pkl file **or**\n",
    "    - a file with the predictions already created (Y). \n",
    "- the user uploads scaler and ohe (if needed)\n",
    "\n",
    "If a model is provided, the application checks if the the provided datasets and model match in terms of column names. "
   ]
  },
  {
   "cell_type": "code",
   "execution_count": 3,
   "id": "66127e6c",
   "metadata": {},
   "outputs": [],
   "source": [
    "input_data_path = \"../data/raw_data/uci-default-of-credit-card/data/data.csv\"\n",
    "local_path_save = '../data/mlflow_artifacts/'"
   ]
  },
  {
   "cell_type": "code",
   "execution_count": 4,
   "id": "bf0e3b01",
   "metadata": {},
   "outputs": [],
   "source": [
    "fitted_ohe = load(open(local_path_save + '_ohe.pkl', 'rb')) \n",
    "fitted_scaler = load(open(local_path_save + '_scaler.pkl', 'rb'))"
   ]
  },
  {
   "cell_type": "code",
   "execution_count": 5,
   "id": "6646c312",
   "metadata": {},
   "outputs": [],
   "source": [
    "pp = Preprocessing(input_data_path, \"default\")\n",
    "X, Y = pp.read_dataframe()\n",
    "\n",
    "X_train, X_test, Y_train, Y_test = train_test_split(X,Y, test_size=0.3, random_state=420)\n",
    "\n",
    "X_test_ohe, _, _ = pp.preprocess_for_classification(df=X_test, \n",
    "                                                fit_ohe=True, \n",
    "                                                fitted_ohe=fitted_ohe,\n",
    "                                                perform_scaling=True,\n",
    "                                                fitted_scaler=fitted_scaler)"
   ]
  },
  {
   "cell_type": "code",
   "execution_count": 6,
   "id": "ba010d39",
   "metadata": {},
   "outputs": [],
   "source": [
    "with open(\"mlruns/1/1e4a0667c7a64cbe8c7b023410e5781c/artifacts/model/model.pkl\", \"rb\") as file:\n",
    "    classifier = load(file)"
   ]
  },
  {
   "cell_type": "code",
   "execution_count": 7,
   "id": "04cacf92",
   "metadata": {},
   "outputs": [],
   "source": [
    "predicted_prob = classifier.predict_proba(X_test_ohe)\n",
    "predicted_values = classifier.predict(X_test_ohe)"
   ]
  },
  {
   "cell_type": "markdown",
   "id": "01057c6d",
   "metadata": {},
   "source": [
    "#### Definition of conditioning variables\n",
    "**UX**:\n",
    "- the user selects the continuous features to be categorized and used for the creation of control groups. \n",
    "\n",
    "The application propose splitting cuts that make the resulting discrete distribution uniform (but also other binning procedures are possible). "
   ]
  },
  {
   "cell_type": "code",
   "execution_count": 8,
   "id": "d7e96a84",
   "metadata": {},
   "outputs": [],
   "source": [
    "def age_buckets(x):\n",
    "    if x < 30:\n",
    "        return 1\n",
    "    elif x < 40:\n",
    "        return 2\n",
    "    else:\n",
    "        return 3\n",
    "\n",
    "X_test['age_buckets'] = X.x5_age.apply(age_buckets)"
   ]
  },
  {
   "cell_type": "markdown",
   "id": "7fbb116c",
   "metadata": {},
   "source": [
    "**UX**:\n",
    "- the user selects from a drop down menu the variables to be used for the groups creation\n",
    "- the user can select \"check all the variables\" and the application will use all the available discrete features"
   ]
  },
  {
   "cell_type": "code",
   "execution_count": 9,
   "id": "c24a0c9c",
   "metadata": {},
   "outputs": [],
   "source": [
    "conditioning_variables = ['x3_education', 'x4_marriage', 'age_buckets']"
   ]
  },
  {
   "cell_type": "code",
   "execution_count": 10,
   "id": "7950602d",
   "metadata": {},
   "outputs": [],
   "source": [
    "df_with_predictions = pd.concat(\n",
    "    [X_test.reset_index(drop=True), pd.Series(predicted_values)], axis=1).rename(columns={0:\"predictions\"})"
   ]
  },
  {
   "cell_type": "markdown",
   "id": "ea1b5fc8",
   "metadata": {},
   "source": [
    "## Bias Detection"
   ]
  },
  {
   "cell_type": "markdown",
   "id": "852c7137",
   "metadata": {},
   "source": [
    "**UX**:\n",
    "- the user selects from a drop down menu the binary variable to be used for the distance calculation\n",
    "- the user selects a threshold for the distance\n",
    "- the user selects a Distance (if more than one are provided)"
   ]
  },
  {
   "cell_type": "code",
   "execution_count": 11,
   "id": "38346302",
   "metadata": {},
   "outputs": [],
   "source": [
    "d = KLDivergence()\n",
    "bd = BiasDetector(distance=d)"
   ]
  },
  {
   "cell_type": "markdown",
   "id": "28af1338",
   "metadata": {},
   "source": [
    "**UX**:\n",
    "\n",
    "The user has can select between two options:\n",
    "- Option 1: distance between frequencies\n",
    "- Option 2: distance from reference distribution\n",
    "    - in this case, the user has to insert values for a reference distribution"
   ]
  },
  {
   "cell_type": "markdown",
   "id": "af1d858e",
   "metadata": {},
   "source": [
    "## Option 1: Distance between frequencies"
   ]
  },
  {
   "cell_type": "markdown",
   "id": "0e6e5723",
   "metadata": {},
   "source": [
    "### Comparison of the two groups observed freqs"
   ]
  },
  {
   "cell_type": "code",
   "execution_count": 12,
   "id": "9dc1af6e",
   "metadata": {},
   "outputs": [
    {
     "data": {
      "text/plain": [
       "(0.0031781793012045124, True)"
      ]
     },
     "execution_count": 12,
     "metadata": {},
     "output_type": "execute_result"
    }
   ],
   "source": [
    "bd.compare_root_variable_groups(\n",
    "    dataframe=df_with_predictions,\n",
    "    target_variable='predictions',\n",
    "    root_variable='x2_sex',\n",
    "    threshold=0.1\n",
    ")"
   ]
  },
  {
   "cell_type": "code",
   "execution_count": 13,
   "id": "ed803019",
   "metadata": {},
   "outputs": [],
   "source": [
    "#distance = max( abs(female_0_freq - male_0_freq), abs(female_1_freq - male_1_freq) )"
   ]
  },
  {
   "cell_type": "code",
   "execution_count": 14,
   "id": "a9ed3e0b",
   "metadata": {},
   "outputs": [
    {
     "data": {
      "text/plain": [
       "x2_sex  predictions\n",
       "1       0              0.873592\n",
       "        1              0.126408\n",
       "2       0              0.898862\n",
       "        1              0.101138\n",
       "Name: predictions, dtype: float64"
      ]
     },
     "execution_count": 14,
     "metadata": {},
     "output_type": "execute_result"
    }
   ],
   "source": [
    "df_with_predictions.groupby(\"x2_sex\").predictions.value_counts(normalize=True)"
   ]
  },
  {
   "cell_type": "markdown",
   "id": "1b956985",
   "metadata": {},
   "source": [
    "### Comparison of the two groups observed freqs conditioning to other features"
   ]
  },
  {
   "cell_type": "code",
   "execution_count": 15,
   "id": "39c5a497",
   "metadata": {},
   "outputs": [],
   "source": [
    "results = bd.compare_root_variable_conditioned_groups(\n",
    "    dataframe=df_with_predictions,\n",
    "    target_variable='predictions',\n",
    "    root_variable='x2_sex',\n",
    "    conditioning_variables=conditioning_variables,\n",
    "    threshold=0.1,\n",
    "    min_obs_per_group=30)"
   ]
  },
  {
   "cell_type": "code",
   "execution_count": 16,
   "id": "9180e2c0",
   "metadata": {},
   "outputs": [
    {
     "data": {
      "text/plain": [
       "{'x3_education==1': (3119, 0.0024721670917052813, True),\n",
       " 'x3_education==3': (1499, 0.0042885053194460215, True),\n",
       " 'x3_education==2': (4250, 0.0039080831397844355, True),\n",
       " 'x3_education==4': (40, 0.0, True),\n",
       " 'x3_education==5': (75, 0.05351859549349025, True),\n",
       " 'x3_education==6': (14, None, 'Not enough observations'),\n",
       " 'x3_education==0': (3, None, 'Not enough observations'),\n",
       " 'x3_education==1 & x4_marriage==1': (1106, 0.0038454608355019803, True),\n",
       " 'x3_education==1 & x4_marriage==2': (2002, 0.0021431260937049904, True),\n",
       " 'x3_education==1 & x4_marriage==3': (10, None, 'Not enough observations'),\n",
       " 'x3_education==1 & x4_marriage==0': (1, None, 'Not enough observations'),\n",
       " 'x3_education==3 & x4_marriage==1': (842, 0.0036908969698774847, True),\n",
       " 'x3_education==3 & x4_marriage==2': (616, 0.007446248708602426, True),\n",
       " 'x3_education==3 & x4_marriage==3': (26, None, 'Not enough observations'),\n",
       " 'x3_education==3 & x4_marriage==0': (15, None, 'Not enough observations'),\n",
       " 'x3_education==2 & x4_marriage==1': (2047, 0.0024550367713245726, True),\n",
       " 'x3_education==2 & x4_marriage==2': (2145, 0.005569634985187234, True),\n",
       " 'x3_education==2 & x4_marriage==3': (56, 0.009484563932354712, True),\n",
       " 'x3_education==2 & x4_marriage==0': (2, None, 'Not enough observations'),\n",
       " 'x3_education==4 & x4_marriage==1': (17, None, 'Not enough observations'),\n",
       " 'x3_education==4 & x4_marriage==2': (21, None, 'Not enough observations'),\n",
       " 'x3_education==4 & x4_marriage==3': (2, None, 'Not enough observations'),\n",
       " 'x3_education==4 & x4_marriage==0': (0, None, 'Not enough observations'),\n",
       " 'x3_education==5 & x4_marriage==1': (45, inf, False),\n",
       " 'x3_education==5 & x4_marriage==2': (29, None, 'Not enough observations'),\n",
       " 'x3_education==5 & x4_marriage==3': (1, None, 'Not enough observations'),\n",
       " 'x3_education==5 & x4_marriage==0': (0, None, 'Not enough observations'),\n",
       " 'x3_education==6 & x4_marriage==1': (7, None, 'Not enough observations'),\n",
       " 'x3_education==6 & x4_marriage==2': (7, None, 'Not enough observations'),\n",
       " 'x3_education==6 & x4_marriage==3': (0, None, 'Not enough observations'),\n",
       " 'x3_education==6 & x4_marriage==0': (0, None, 'Not enough observations'),\n",
       " 'x3_education==0 & x4_marriage==1': (1, None, 'Not enough observations'),\n",
       " 'x3_education==0 & x4_marriage==2': (2, None, 'Not enough observations'),\n",
       " 'x3_education==0 & x4_marriage==3': (0, None, 'Not enough observations'),\n",
       " 'x3_education==0 & x4_marriage==0': (0, None, 'Not enough observations'),\n",
       " 'x3_education==1 & x4_marriage==1 & age_buckets==3': (530,\n",
       "  0.004486287409332547,\n",
       "  True),\n",
       " 'x3_education==1 & x4_marriage==1 & age_buckets==1': (57,\n",
       "  0.001799754862963003,\n",
       "  True),\n",
       " 'x3_education==1 & x4_marriage==1 & age_buckets==2': (519,\n",
       "  0.0007254634397564201,\n",
       "  True),\n",
       " 'x3_education==1 & x4_marriage==2 & age_buckets==3': (174,\n",
       "  0.009188843362355512,\n",
       "  True),\n",
       " 'x3_education==1 & x4_marriage==2 & age_buckets==1': (1013,\n",
       "  0.00020120989507532413,\n",
       "  True),\n",
       " 'x3_education==1 & x4_marriage==2 & age_buckets==2': (815,\n",
       "  0.015581533787882199,\n",
       "  True),\n",
       " 'x3_education==1 & x4_marriage==3 & age_buckets==3': (6,\n",
       "  None,\n",
       "  'Not enough observations'),\n",
       " 'x3_education==1 & x4_marriage==3 & age_buckets==1': (0,\n",
       "  None,\n",
       "  'Not enough observations'),\n",
       " 'x3_education==1 & x4_marriage==3 & age_buckets==2': (4,\n",
       "  None,\n",
       "  'Not enough observations'),\n",
       " 'x3_education==1 & x4_marriage==0 & age_buckets==3': (0,\n",
       "  None,\n",
       "  'Not enough observations'),\n",
       " 'x3_education==1 & x4_marriage==0 & age_buckets==1': (0,\n",
       "  None,\n",
       "  'Not enough observations'),\n",
       " 'x3_education==1 & x4_marriage==0 & age_buckets==2': (1,\n",
       "  None,\n",
       "  'Not enough observations'),\n",
       " 'x3_education==3 & x4_marriage==1 & age_buckets==3': (540,\n",
       "  0.004628099575436228,\n",
       "  True),\n",
       " 'x3_education==3 & x4_marriage==1 & age_buckets==1': (66,\n",
       "  0.004558019806276105,\n",
       "  True),\n",
       " 'x3_education==3 & x4_marriage==1 & age_buckets==2': (236,\n",
       "  0.008885970368773772,\n",
       "  True),\n",
       " 'x3_education==3 & x4_marriage==2 & age_buckets==3': (215,\n",
       "  0.017387945074552612,\n",
       "  True),\n",
       " 'x3_education==3 & x4_marriage==2 & age_buckets==1': (212,\n",
       "  0.005089261235669872,\n",
       "  True),\n",
       " 'x3_education==3 & x4_marriage==2 & age_buckets==2': (189,\n",
       "  0.06485352018829017,\n",
       "  True),\n",
       " 'x3_education==3 & x4_marriage==3 & age_buckets==3': (23,\n",
       "  None,\n",
       "  'Not enough observations'),\n",
       " 'x3_education==3 & x4_marriage==3 & age_buckets==1': (1,\n",
       "  None,\n",
       "  'Not enough observations'),\n",
       " 'x3_education==3 & x4_marriage==3 & age_buckets==2': (2,\n",
       "  None,\n",
       "  'Not enough observations'),\n",
       " 'x3_education==3 & x4_marriage==0 & age_buckets==3': (5,\n",
       "  None,\n",
       "  'Not enough observations'),\n",
       " 'x3_education==3 & x4_marriage==0 & age_buckets==1': (2,\n",
       "  None,\n",
       "  'Not enough observations'),\n",
       " 'x3_education==3 & x4_marriage==0 & age_buckets==2': (8,\n",
       "  None,\n",
       "  'Not enough observations'),\n",
       " 'x3_education==2 & x4_marriage==1 & age_buckets==3': (865,\n",
       "  0.0009725294848050414,\n",
       "  True),\n",
       " 'x3_education==2 & x4_marriage==1 & age_buckets==1': (298,\n",
       "  0.0006352871074200512,\n",
       "  True),\n",
       " 'x3_education==2 & x4_marriage==1 & age_buckets==2': (884,\n",
       "  0.014271176694174277,\n",
       "  True),\n",
       " 'x3_education==2 & x4_marriage==2 & age_buckets==3': (278,\n",
       "  0.005423081697760693,\n",
       "  True),\n",
       " 'x3_education==2 & x4_marriage==2 & age_buckets==1': (1196,\n",
       "  0.002703406699960737,\n",
       "  True),\n",
       " 'x3_education==2 & x4_marriage==2 & age_buckets==2': (671,\n",
       "  0.02427125614885618,\n",
       "  True),\n",
       " 'x3_education==2 & x4_marriage==3 & age_buckets==3': (37,\n",
       "  0.008914540124250067,\n",
       "  True),\n",
       " 'x3_education==2 & x4_marriage==3 & age_buckets==1': (7,\n",
       "  None,\n",
       "  'Not enough observations'),\n",
       " 'x3_education==2 & x4_marriage==3 & age_buckets==2': (12,\n",
       "  None,\n",
       "  'Not enough observations'),\n",
       " 'x3_education==2 & x4_marriage==0 & age_buckets==3': (0,\n",
       "  None,\n",
       "  'Not enough observations'),\n",
       " 'x3_education==2 & x4_marriage==0 & age_buckets==1': (1,\n",
       "  None,\n",
       "  'Not enough observations'),\n",
       " 'x3_education==2 & x4_marriage==0 & age_buckets==2': (1,\n",
       "  None,\n",
       "  'Not enough observations'),\n",
       " 'x3_education==4 & x4_marriage==1 & age_buckets==3': (9,\n",
       "  None,\n",
       "  'Not enough observations'),\n",
       " 'x3_education==4 & x4_marriage==1 & age_buckets==1': (2,\n",
       "  None,\n",
       "  'Not enough observations'),\n",
       " 'x3_education==4 & x4_marriage==1 & age_buckets==2': (6,\n",
       "  None,\n",
       "  'Not enough observations'),\n",
       " 'x3_education==4 & x4_marriage==2 & age_buckets==3': (3,\n",
       "  None,\n",
       "  'Not enough observations'),\n",
       " 'x3_education==4 & x4_marriage==2 & age_buckets==1': (12,\n",
       "  None,\n",
       "  'Not enough observations'),\n",
       " 'x3_education==4 & x4_marriage==2 & age_buckets==2': (6,\n",
       "  None,\n",
       "  'Not enough observations'),\n",
       " 'x3_education==4 & x4_marriage==3 & age_buckets==3': (1,\n",
       "  None,\n",
       "  'Not enough observations'),\n",
       " 'x3_education==4 & x4_marriage==3 & age_buckets==1': (1,\n",
       "  None,\n",
       "  'Not enough observations'),\n",
       " 'x3_education==4 & x4_marriage==3 & age_buckets==2': (0,\n",
       "  None,\n",
       "  'Not enough observations'),\n",
       " 'x3_education==4 & x4_marriage==0 & age_buckets==3': (0,\n",
       "  None,\n",
       "  'Not enough observations'),\n",
       " 'x3_education==4 & x4_marriage==0 & age_buckets==1': (0,\n",
       "  None,\n",
       "  'Not enough observations'),\n",
       " 'x3_education==4 & x4_marriage==0 & age_buckets==2': (0,\n",
       "  None,\n",
       "  'Not enough observations'),\n",
       " 'x3_education==5 & x4_marriage==1 & age_buckets==3': (22,\n",
       "  None,\n",
       "  'Not enough observations'),\n",
       " 'x3_education==5 & x4_marriage==1 & age_buckets==1': (10,\n",
       "  None,\n",
       "  'Not enough observations'),\n",
       " 'x3_education==5 & x4_marriage==1 & age_buckets==2': (13,\n",
       "  None,\n",
       "  'Not enough observations'),\n",
       " 'x3_education==5 & x4_marriage==2 & age_buckets==3': (6,\n",
       "  None,\n",
       "  'Not enough observations'),\n",
       " 'x3_education==5 & x4_marriage==2 & age_buckets==1': (16,\n",
       "  None,\n",
       "  'Not enough observations'),\n",
       " 'x3_education==5 & x4_marriage==2 & age_buckets==2': (7,\n",
       "  None,\n",
       "  'Not enough observations'),\n",
       " 'x3_education==5 & x4_marriage==3 & age_buckets==3': (0,\n",
       "  None,\n",
       "  'Not enough observations'),\n",
       " 'x3_education==5 & x4_marriage==3 & age_buckets==1': (0,\n",
       "  None,\n",
       "  'Not enough observations'),\n",
       " 'x3_education==5 & x4_marriage==3 & age_buckets==2': (1,\n",
       "  None,\n",
       "  'Not enough observations'),\n",
       " 'x3_education==5 & x4_marriage==0 & age_buckets==3': (0,\n",
       "  None,\n",
       "  'Not enough observations'),\n",
       " 'x3_education==5 & x4_marriage==0 & age_buckets==1': (0,\n",
       "  None,\n",
       "  'Not enough observations'),\n",
       " 'x3_education==5 & x4_marriage==0 & age_buckets==2': (0,\n",
       "  None,\n",
       "  'Not enough observations'),\n",
       " 'x3_education==6 & x4_marriage==1 & age_buckets==3': (6,\n",
       "  None,\n",
       "  'Not enough observations'),\n",
       " 'x3_education==6 & x4_marriage==1 & age_buckets==1': (0,\n",
       "  None,\n",
       "  'Not enough observations'),\n",
       " 'x3_education==6 & x4_marriage==1 & age_buckets==2': (1,\n",
       "  None,\n",
       "  'Not enough observations'),\n",
       " 'x3_education==6 & x4_marriage==2 & age_buckets==3': (6,\n",
       "  None,\n",
       "  'Not enough observations'),\n",
       " 'x3_education==6 & x4_marriage==2 & age_buckets==1': (1,\n",
       "  None,\n",
       "  'Not enough observations'),\n",
       " 'x3_education==6 & x4_marriage==2 & age_buckets==2': (0,\n",
       "  None,\n",
       "  'Not enough observations'),\n",
       " 'x3_education==6 & x4_marriage==3 & age_buckets==3': (0,\n",
       "  None,\n",
       "  'Not enough observations'),\n",
       " 'x3_education==6 & x4_marriage==3 & age_buckets==1': (0,\n",
       "  None,\n",
       "  'Not enough observations'),\n",
       " 'x3_education==6 & x4_marriage==3 & age_buckets==2': (0,\n",
       "  None,\n",
       "  'Not enough observations'),\n",
       " 'x3_education==6 & x4_marriage==0 & age_buckets==3': (0,\n",
       "  None,\n",
       "  'Not enough observations'),\n",
       " 'x3_education==6 & x4_marriage==0 & age_buckets==1': (0,\n",
       "  None,\n",
       "  'Not enough observations'),\n",
       " 'x3_education==6 & x4_marriage==0 & age_buckets==2': (0,\n",
       "  None,\n",
       "  'Not enough observations'),\n",
       " 'x3_education==0 & x4_marriage==1 & age_buckets==3': (1,\n",
       "  None,\n",
       "  'Not enough observations'),\n",
       " 'x3_education==0 & x4_marriage==1 & age_buckets==1': (0,\n",
       "  None,\n",
       "  'Not enough observations'),\n",
       " 'x3_education==0 & x4_marriage==1 & age_buckets==2': (0,\n",
       "  None,\n",
       "  'Not enough observations'),\n",
       " 'x3_education==0 & x4_marriage==2 & age_buckets==3': (0,\n",
       "  None,\n",
       "  'Not enough observations'),\n",
       " 'x3_education==0 & x4_marriage==2 & age_buckets==1': (0,\n",
       "  None,\n",
       "  'Not enough observations'),\n",
       " 'x3_education==0 & x4_marriage==2 & age_buckets==2': (2,\n",
       "  None,\n",
       "  'Not enough observations'),\n",
       " 'x3_education==0 & x4_marriage==3 & age_buckets==3': (0,\n",
       "  None,\n",
       "  'Not enough observations'),\n",
       " 'x3_education==0 & x4_marriage==3 & age_buckets==1': (0,\n",
       "  None,\n",
       "  'Not enough observations'),\n",
       " 'x3_education==0 & x4_marriage==3 & age_buckets==2': (0,\n",
       "  None,\n",
       "  'Not enough observations'),\n",
       " 'x3_education==0 & x4_marriage==0 & age_buckets==3': (0,\n",
       "  None,\n",
       "  'Not enough observations'),\n",
       " 'x3_education==0 & x4_marriage==0 & age_buckets==1': (0,\n",
       "  None,\n",
       "  'Not enough observations'),\n",
       " 'x3_education==0 & x4_marriage==0 & age_buckets==2': (0,\n",
       "  None,\n",
       "  'Not enough observations')}"
      ]
     },
     "execution_count": 16,
     "metadata": {},
     "output_type": "execute_result"
    }
   ],
   "source": [
    "results"
   ]
  },
  {
   "cell_type": "markdown",
   "id": "5ec89ef6",
   "metadata": {},
   "source": [
    "**UX**:\n",
    "- the application shows the results in two views:\n",
    "    - overall results: all the computed distances\n",
    "    - violations: only the results above the threshold\n",
    "- for both, the user can order the results by number of obs, distance or group name"
   ]
  },
  {
   "cell_type": "code",
   "execution_count": 17,
   "id": "60c28a96",
   "metadata": {},
   "outputs": [],
   "source": [
    "# selecting only combinations for which the distance is greater than the threshold \n",
    "violations = {k: v for k, v in results.items() if not v[2]}"
   ]
  },
  {
   "cell_type": "markdown",
   "id": "ff40c582",
   "metadata": {},
   "source": [
    "- '2: Gender (1 = male; 2 = female).',\n",
    "- '3: Education (1 = graduate school; 2 = university; 3 = high school; 4 = others).',\n",
    "- '4: Marital status (1 = married; 2 = single; 3 = others).'"
   ]
  },
  {
   "cell_type": "code",
   "execution_count": 18,
   "id": "89b9c62a",
   "metadata": {},
   "outputs": [
    {
     "data": {
      "text/plain": [
       "{'x3_education==5 & x4_marriage==1': (45, inf, False)}"
      ]
     },
     "execution_count": 18,
     "metadata": {},
     "output_type": "execute_result"
    }
   ],
   "source": [
    "# sorting the violations by number of observations belonging to that group\n",
    "dict(sorted(violations.items(), key=lambda item: item[1], reverse=True))"
   ]
  },
  {
   "cell_type": "markdown",
   "id": "a9a1aeee",
   "metadata": {},
   "source": [
    "#### Focus analyses on particular cases\n",
    "Here we want to understand/qualify some specific violation cases.\n",
    "\n",
    "**UX**: \n",
    "- the user selects one of the available violations\n",
    "- the application returns relevant details to help understand what's going on\n",
    "- the user can download the results as csv file. "
   ]
  },
  {
   "cell_type": "code",
   "execution_count": 19,
   "id": "2d43d413",
   "metadata": {},
   "outputs": [
    {
     "data": {
      "text/plain": [
       "[array([0.96774194, 0.03225806]), array([1., 0.])]"
      ]
     },
     "execution_count": 19,
     "metadata": {},
     "output_type": "execute_result"
    }
   ],
   "source": [
    "focus_df = df_with_predictions.query('x3_education==5 & x4_marriage==1')\n",
    "bd.get_frequencies_list(focus_df, 'predictions', \n",
    "                        df_with_predictions.predictions.unique(),\n",
    "                        'x2_sex', df_with_predictions.x2_sex.unique())"
   ]
  },
  {
   "cell_type": "code",
   "execution_count": 20,
   "id": "58690907",
   "metadata": {
    "scrolled": true
   },
   "outputs": [
    {
     "data": {
      "text/plain": [
       "x2_sex  predictions\n",
       "1       0              1.000000\n",
       "2       0              0.967742\n",
       "        1              0.032258\n",
       "Name: predictions, dtype: float64"
      ]
     },
     "execution_count": 20,
     "metadata": {},
     "output_type": "execute_result"
    }
   ],
   "source": [
    "focus_df.groupby('x2_sex').predictions.value_counts(normalize=True)"
   ]
  },
  {
   "cell_type": "markdown",
   "id": "bd3036b0",
   "metadata": {},
   "source": [
    "## Option 2: distance from reference distribution"
   ]
  },
  {
   "cell_type": "code",
   "execution_count": 21,
   "id": "af19d59d",
   "metadata": {},
   "outputs": [],
   "source": [
    "male_0_ref = 75/100\n",
    "male_1_ref = 25/100\n",
    "\n",
    "female_0_ref = 75/100\n",
    "female_1_ref = 25/100\n",
    "\n",
    "ref_distribution = [np.array([female_0_ref, female_1_ref]), np.array([male_0_ref, male_1_ref])]"
   ]
  },
  {
   "cell_type": "markdown",
   "id": "39ede7a7",
   "metadata": {},
   "source": [
    "### Comparison of the two groups w.r.t. the reference distribution"
   ]
  },
  {
   "cell_type": "code",
   "execution_count": 22,
   "id": "50276f5c",
   "metadata": {},
   "outputs": [
    {
     "data": {
      "text/plain": [
       "([0.09045146214557331, 0.05608173922140364], [True, True])"
      ]
     },
     "execution_count": 22,
     "metadata": {},
     "output_type": "execute_result"
    }
   ],
   "source": [
    "bd.compare_root_variable_groups(\n",
    "    dataframe=df_with_predictions,\n",
    "    target_variable='predictions',\n",
    "    root_variable='x2_sex',\n",
    "    threshold=0.1,\n",
    "    reference_distribution=ref_distribution\n",
    ")"
   ]
  },
  {
   "cell_type": "markdown",
   "id": "20582d77",
   "metadata": {},
   "source": [
    "### Comparison of the two groups w.r.t. the reference distribution conditioning to other features"
   ]
  },
  {
   "cell_type": "code",
   "execution_count": 23,
   "id": "cd97b622",
   "metadata": {},
   "outputs": [],
   "source": [
    "results = bd.compare_root_variable_conditioned_groups(\n",
    "    dataframe=df_with_predictions,\n",
    "    target_variable='predictions',\n",
    "    root_variable='x2_sex',\n",
    "    conditioning_variables=conditioning_variables,\n",
    "    threshold=0.1,\n",
    "    min_obs_per_group=30,\n",
    "    reference_distribution=ref_distribution)"
   ]
  },
  {
   "cell_type": "code",
   "execution_count": 24,
   "id": "22ebf10b",
   "metadata": {},
   "outputs": [
    {
     "data": {
      "text/plain": [
       "{'x3_education==1': (3119,\n",
       "  [0.1727849641563417, 0.12513967602939438],\n",
       "  [False, False]),\n",
       " 'x3_education==3': (1499,\n",
       "  [0.049644573580709436, 0.02315751842963111],\n",
       "  [True, True]),\n",
       " 'x3_education==2': (4250,\n",
       "  [0.06557258679024336, 0.03508235923490105],\n",
       "  [True, True]),\n",
       " 'x3_education==4': (40, [inf, inf], [False, False]),\n",
       " 'x3_education==5': (75,\n",
       "  [0.4400393494193747, 0.11648044787778783],\n",
       "  [False, False]),\n",
       " 'x3_education==6': (14, None, 'Not enough observations'),\n",
       " 'x3_education==0': (3, None, 'Not enough observations'),\n",
       " 'x3_education==1 & x4_marriage==1': (1106,\n",
       "  [0.21265842001506097, 0.14527510317255699],\n",
       "  [False, False]),\n",
       " 'x3_education==1 & x4_marriage==2': (2002,\n",
       "  [0.15462161411403985, 0.11329339917504339],\n",
       "  [False, False]),\n",
       " 'x3_education==1 & x4_marriage==3': (10, None, 'Not enough observations'),\n",
       " 'x3_education==1 & x4_marriage==0': (1, None, 'Not enough observations'),\n",
       " 'x3_education==3 & x4_marriage==1': (842,\n",
       "  [0.039755402515463695, 0.018108057859643104],\n",
       "  [True, True]),\n",
       " 'x3_education==3 & x4_marriage==2': (616,\n",
       "  [0.06679218077779085, 0.026932750857454543],\n",
       "  [True, True]),\n",
       " 'x3_education==3 & x4_marriage==3': (26, None, 'Not enough observations'),\n",
       " 'x3_education==3 & x4_marriage==0': (15, None, 'Not enough observations'),\n",
       " 'x3_education==2 & x4_marriage==1': (2047,\n",
       "  [0.06914989320312616, 0.04326001261631274],\n",
       "  [True, True]),\n",
       " 'x3_education==2 & x4_marriage==2': (2145,\n",
       "  [0.06314215593625352, 0.028809080437693424],\n",
       "  [True, True]),\n",
       " 'x3_education==2 & x4_marriage==3': (56,\n",
       "  [0.028009220700768778, 0.07530827645753407],\n",
       "  [True, True]),\n",
       " 'x3_education==2 & x4_marriage==0': (2, None, 'Not enough observations'),\n",
       " 'x3_education==4 & x4_marriage==1': (17, None, 'Not enough observations'),\n",
       " 'x3_education==4 & x4_marriage==2': (21, None, 'Not enough observations'),\n",
       " 'x3_education==4 & x4_marriage==3': (2, None, 'Not enough observations'),\n",
       " 'x3_education==4 & x4_marriage==0': (0, None, 'Not enough observations'),\n",
       " 'x3_education==5 & x4_marriage==1': (45,\n",
       "  [0.32075402361972133, inf],\n",
       "  [False, False]),\n",
       " 'x3_education==5 & x4_marriage==2': (29, None, 'Not enough observations'),\n",
       " 'x3_education==5 & x4_marriage==3': (1, None, 'Not enough observations'),\n",
       " 'x3_education==5 & x4_marriage==0': (0, None, 'Not enough observations'),\n",
       " 'x3_education==6 & x4_marriage==1': (7, None, 'Not enough observations'),\n",
       " 'x3_education==6 & x4_marriage==2': (7, None, 'Not enough observations'),\n",
       " 'x3_education==6 & x4_marriage==3': (0, None, 'Not enough observations'),\n",
       " 'x3_education==6 & x4_marriage==0': (0, None, 'Not enough observations'),\n",
       " 'x3_education==0 & x4_marriage==1': (1, None, 'Not enough observations'),\n",
       " 'x3_education==0 & x4_marriage==2': (2, None, 'Not enough observations'),\n",
       " 'x3_education==0 & x4_marriage==3': (0, None, 'Not enough observations'),\n",
       " 'x3_education==0 & x4_marriage==0': (0, None, 'Not enough observations'),\n",
       " 'x3_education==1 & x4_marriage==1 & age_buckets==3': (530,\n",
       "  [0.16795841175586393, 0.10734613472536453],\n",
       "  [False, False]),\n",
       " 'x3_education==1 & x4_marriage==1 & age_buckets==1': (57,\n",
       "  [0.23027889234827842, 0.17921592679431536],\n",
       "  [False, False]),\n",
       " 'x3_education==1 & x4_marriage==1 & age_buckets==2': (519,\n",
       "  [0.2562148156603124, 0.21975127188768345],\n",
       "  [False, False]),\n",
       " 'x3_education==1 & x4_marriage==2 & age_buckets==3': (174,\n",
       "  [0.041130203714581676, 0.09647489732235842],\n",
       "  [True, True]),\n",
       " 'x3_education==1 & x4_marriage==2 & age_buckets==1': (1013,\n",
       "  [0.14314582966581518, 0.130261333474995],\n",
       "  [False, False]),\n",
       " 'x3_education==1 & x4_marriage==2 & age_buckets==2': (815,\n",
       "  [0.23003308760584268, 0.10372451340312808],\n",
       "  [False, False]),\n",
       " 'x3_education==1 & x4_marriage==3 & age_buckets==3': (6,\n",
       "  None,\n",
       "  'Not enough observations'),\n",
       " 'x3_education==1 & x4_marriage==3 & age_buckets==1': (0,\n",
       "  None,\n",
       "  'Not enough observations'),\n",
       " 'x3_education==1 & x4_marriage==3 & age_buckets==2': (4,\n",
       "  None,\n",
       "  'Not enough observations'),\n",
       " 'x3_education==1 & x4_marriage==0 & age_buckets==3': (0,\n",
       "  None,\n",
       "  'Not enough observations'),\n",
       " 'x3_education==1 & x4_marriage==0 & age_buckets==1': (0,\n",
       "  None,\n",
       "  'Not enough observations'),\n",
       " 'x3_education==1 & x4_marriage==0 & age_buckets==2': (1,\n",
       "  None,\n",
       "  'Not enough observations'),\n",
       " 'x3_education==3 & x4_marriage==1 & age_buckets==3': (540,\n",
       "  [0.047492444566451616, 0.02096498704621745],\n",
       "  [True, True]),\n",
       " 'x3_education==3 & x4_marriage==1 & age_buckets==1': (66,\n",
       "  [0.006274996975701587, 0.022345890283671288],\n",
       "  [True, True]),\n",
       " 'x3_education==3 & x4_marriage==1 & age_buckets==2': (236,\n",
       "  [0.04316324492357343, 0.011589052863618263],\n",
       "  [True, True]),\n",
       " 'x3_education==3 & x4_marriage==2 & age_buckets==3': (215,\n",
       "  [0.05886353011832986, 0.010316692962406115],\n",
       "  [True, True]),\n",
       " 'x3_education==3 & x4_marriage==2 & age_buckets==1': (212,\n",
       "  [0.027333101081345068, 0.059046433386550565],\n",
       "  [True, True]),\n",
       " 'x3_education==3 & x4_marriage==2 & age_buckets==2': (189,\n",
       "  [0.19617406047906044, 0.022345890283671288],\n",
       "  [False, True]),\n",
       " 'x3_education==3 & x4_marriage==3 & age_buckets==3': (23,\n",
       "  None,\n",
       "  'Not enough observations'),\n",
       " 'x3_education==3 & x4_marriage==3 & age_buckets==1': (1,\n",
       "  None,\n",
       "  'Not enough observations'),\n",
       " 'x3_education==3 & x4_marriage==3 & age_buckets==2': (2,\n",
       "  None,\n",
       "  'Not enough observations'),\n",
       " 'x3_education==3 & x4_marriage==0 & age_buckets==3': (5,\n",
       "  None,\n",
       "  'Not enough observations'),\n",
       " 'x3_education==3 & x4_marriage==0 & age_buckets==1': (2,\n",
       "  None,\n",
       "  'Not enough observations'),\n",
       " 'x3_education==3 & x4_marriage==0 & age_buckets==2': (8,\n",
       "  None,\n",
       "  'Not enough observations'),\n",
       " 'x3_education==2 & x4_marriage==1 & age_buckets==3': (865,\n",
       "  [0.08024233010318585, 0.06149226370968243],\n",
       "  [True, True]),\n",
       " 'x3_education==2 & x4_marriage==1 & age_buckets==1': (298,\n",
       "  [0.020378303084520683, 0.028730015915386653],\n",
       "  [True, True]),\n",
       " 'x3_education==2 & x4_marriage==1 & age_buckets==2': (884,\n",
       "  [0.09290578723524298, 0.029607313459727086],\n",
       "  [True, True]),\n",
       " 'x3_education==2 & x4_marriage==2 & age_buckets==3': (278,\n",
       "  [0.07915049894060738, 0.039755402515463695],\n",
       "  [True, True]),\n",
       " 'x3_education==2 & x4_marriage==2 & age_buckets==1': (1196,\n",
       "  [0.03811906804553403, 0.019529904313816765],\n",
       "  [True, True]),\n",
       " 'x3_education==2 & x4_marriage==2 & age_buckets==2': (671,\n",
       "  [0.1465988604488875, 0.04134425593240357],\n",
       "  [False, True]),\n",
       " 'x3_education==2 & x4_marriage==3 & age_buckets==3': (37,\n",
       "  [0.014354900037411286, 0.04871624324726276],\n",
       "  [True, True]),\n",
       " 'x3_education==2 & x4_marriage==3 & age_buckets==1': (7,\n",
       "  None,\n",
       "  'Not enough observations'),\n",
       " 'x3_education==2 & x4_marriage==3 & age_buckets==2': (12,\n",
       "  None,\n",
       "  'Not enough observations'),\n",
       " 'x3_education==2 & x4_marriage==0 & age_buckets==3': (0,\n",
       "  None,\n",
       "  'Not enough observations'),\n",
       " 'x3_education==2 & x4_marriage==0 & age_buckets==1': (1,\n",
       "  None,\n",
       "  'Not enough observations'),\n",
       " 'x3_education==2 & x4_marriage==0 & age_buckets==2': (1,\n",
       "  None,\n",
       "  'Not enough observations'),\n",
       " 'x3_education==4 & x4_marriage==1 & age_buckets==3': (9,\n",
       "  None,\n",
       "  'Not enough observations'),\n",
       " 'x3_education==4 & x4_marriage==1 & age_buckets==1': (2,\n",
       "  None,\n",
       "  'Not enough observations'),\n",
       " 'x3_education==4 & x4_marriage==1 & age_buckets==2': (6,\n",
       "  None,\n",
       "  'Not enough observations'),\n",
       " 'x3_education==4 & x4_marriage==2 & age_buckets==3': (3,\n",
       "  None,\n",
       "  'Not enough observations'),\n",
       " 'x3_education==4 & x4_marriage==2 & age_buckets==1': (12,\n",
       "  None,\n",
       "  'Not enough observations'),\n",
       " 'x3_education==4 & x4_marriage==2 & age_buckets==2': (6,\n",
       "  None,\n",
       "  'Not enough observations'),\n",
       " 'x3_education==4 & x4_marriage==3 & age_buckets==3': (1,\n",
       "  None,\n",
       "  'Not enough observations'),\n",
       " 'x3_education==4 & x4_marriage==3 & age_buckets==1': (1,\n",
       "  None,\n",
       "  'Not enough observations'),\n",
       " 'x3_education==4 & x4_marriage==3 & age_buckets==2': (0,\n",
       "  None,\n",
       "  'Not enough observations'),\n",
       " 'x3_education==4 & x4_marriage==0 & age_buckets==3': (0,\n",
       "  None,\n",
       "  'Not enough observations'),\n",
       " 'x3_education==4 & x4_marriage==0 & age_buckets==1': (0,\n",
       "  None,\n",
       "  'Not enough observations'),\n",
       " 'x3_education==4 & x4_marriage==0 & age_buckets==2': (0,\n",
       "  None,\n",
       "  'Not enough observations'),\n",
       " 'x3_education==5 & x4_marriage==1 & age_buckets==3': (22,\n",
       "  None,\n",
       "  'Not enough observations'),\n",
       " 'x3_education==5 & x4_marriage==1 & age_buckets==1': (10,\n",
       "  None,\n",
       "  'Not enough observations'),\n",
       " 'x3_education==5 & x4_marriage==1 & age_buckets==2': (13,\n",
       "  None,\n",
       "  'Not enough observations'),\n",
       " 'x3_education==5 & x4_marriage==2 & age_buckets==3': (6,\n",
       "  None,\n",
       "  'Not enough observations'),\n",
       " 'x3_education==5 & x4_marriage==2 & age_buckets==1': (16,\n",
       "  None,\n",
       "  'Not enough observations'),\n",
       " 'x3_education==5 & x4_marriage==2 & age_buckets==2': (7,\n",
       "  None,\n",
       "  'Not enough observations'),\n",
       " 'x3_education==5 & x4_marriage==3 & age_buckets==3': (0,\n",
       "  None,\n",
       "  'Not enough observations'),\n",
       " 'x3_education==5 & x4_marriage==3 & age_buckets==1': (0,\n",
       "  None,\n",
       "  'Not enough observations'),\n",
       " 'x3_education==5 & x4_marriage==3 & age_buckets==2': (1,\n",
       "  None,\n",
       "  'Not enough observations'),\n",
       " 'x3_education==5 & x4_marriage==0 & age_buckets==3': (0,\n",
       "  None,\n",
       "  'Not enough observations'),\n",
       " 'x3_education==5 & x4_marriage==0 & age_buckets==1': (0,\n",
       "  None,\n",
       "  'Not enough observations'),\n",
       " 'x3_education==5 & x4_marriage==0 & age_buckets==2': (0,\n",
       "  None,\n",
       "  'Not enough observations'),\n",
       " 'x3_education==6 & x4_marriage==1 & age_buckets==3': (6,\n",
       "  None,\n",
       "  'Not enough observations'),\n",
       " 'x3_education==6 & x4_marriage==1 & age_buckets==1': (0,\n",
       "  None,\n",
       "  'Not enough observations'),\n",
       " 'x3_education==6 & x4_marriage==1 & age_buckets==2': (1,\n",
       "  None,\n",
       "  'Not enough observations'),\n",
       " 'x3_education==6 & x4_marriage==2 & age_buckets==3': (6,\n",
       "  None,\n",
       "  'Not enough observations'),\n",
       " 'x3_education==6 & x4_marriage==2 & age_buckets==1': (1,\n",
       "  None,\n",
       "  'Not enough observations'),\n",
       " 'x3_education==6 & x4_marriage==2 & age_buckets==2': (0,\n",
       "  None,\n",
       "  'Not enough observations'),\n",
       " 'x3_education==6 & x4_marriage==3 & age_buckets==3': (0,\n",
       "  None,\n",
       "  'Not enough observations'),\n",
       " 'x3_education==6 & x4_marriage==3 & age_buckets==1': (0,\n",
       "  None,\n",
       "  'Not enough observations'),\n",
       " 'x3_education==6 & x4_marriage==3 & age_buckets==2': (0,\n",
       "  None,\n",
       "  'Not enough observations'),\n",
       " 'x3_education==6 & x4_marriage==0 & age_buckets==3': (0,\n",
       "  None,\n",
       "  'Not enough observations'),\n",
       " 'x3_education==6 & x4_marriage==0 & age_buckets==1': (0,\n",
       "  None,\n",
       "  'Not enough observations'),\n",
       " 'x3_education==6 & x4_marriage==0 & age_buckets==2': (0,\n",
       "  None,\n",
       "  'Not enough observations'),\n",
       " 'x3_education==0 & x4_marriage==1 & age_buckets==3': (1,\n",
       "  None,\n",
       "  'Not enough observations'),\n",
       " 'x3_education==0 & x4_marriage==1 & age_buckets==1': (0,\n",
       "  None,\n",
       "  'Not enough observations'),\n",
       " 'x3_education==0 & x4_marriage==1 & age_buckets==2': (0,\n",
       "  None,\n",
       "  'Not enough observations'),\n",
       " 'x3_education==0 & x4_marriage==2 & age_buckets==3': (0,\n",
       "  None,\n",
       "  'Not enough observations'),\n",
       " 'x3_education==0 & x4_marriage==2 & age_buckets==1': (0,\n",
       "  None,\n",
       "  'Not enough observations'),\n",
       " 'x3_education==0 & x4_marriage==2 & age_buckets==2': (2,\n",
       "  None,\n",
       "  'Not enough observations'),\n",
       " 'x3_education==0 & x4_marriage==3 & age_buckets==3': (0,\n",
       "  None,\n",
       "  'Not enough observations'),\n",
       " 'x3_education==0 & x4_marriage==3 & age_buckets==1': (0,\n",
       "  None,\n",
       "  'Not enough observations'),\n",
       " 'x3_education==0 & x4_marriage==3 & age_buckets==2': (0,\n",
       "  None,\n",
       "  'Not enough observations'),\n",
       " 'x3_education==0 & x4_marriage==0 & age_buckets==3': (0,\n",
       "  None,\n",
       "  'Not enough observations'),\n",
       " 'x3_education==0 & x4_marriage==0 & age_buckets==1': (0,\n",
       "  None,\n",
       "  'Not enough observations'),\n",
       " 'x3_education==0 & x4_marriage==0 & age_buckets==2': (0,\n",
       "  None,\n",
       "  'Not enough observations')}"
      ]
     },
     "execution_count": 24,
     "metadata": {},
     "output_type": "execute_result"
    }
   ],
   "source": [
    "results"
   ]
  },
  {
   "cell_type": "code",
   "execution_count": 25,
   "id": "d101c5b4",
   "metadata": {},
   "outputs": [],
   "source": [
    "# selecting only combinations for which the distance is greater than the threshold \n",
    "violations = {k: v for k, v in results.items() if (not v[2][0] or not v[2][1])}"
   ]
  },
  {
   "cell_type": "code",
   "execution_count": 26,
   "id": "43df5a75",
   "metadata": {
    "scrolled": true
   },
   "outputs": [
    {
     "data": {
      "text/plain": [
       "{'x3_education==1': (3119,\n",
       "  [0.1727849641563417, 0.12513967602939438],\n",
       "  [False, False]),\n",
       " 'x3_education==4': (40, [inf, inf], [False, False]),\n",
       " 'x3_education==5': (75,\n",
       "  [0.4400393494193747, 0.11648044787778783],\n",
       "  [False, False]),\n",
       " 'x3_education==1 & x4_marriage==1': (1106,\n",
       "  [0.21265842001506097, 0.14527510317255699],\n",
       "  [False, False]),\n",
       " 'x3_education==1 & x4_marriage==2': (2002,\n",
       "  [0.15462161411403985, 0.11329339917504339],\n",
       "  [False, False]),\n",
       " 'x3_education==5 & x4_marriage==1': (45,\n",
       "  [0.32075402361972133, inf],\n",
       "  [False, False]),\n",
       " 'x3_education==1 & x4_marriage==1 & age_buckets==3': (530,\n",
       "  [0.16795841175586393, 0.10734613472536453],\n",
       "  [False, False]),\n",
       " 'x3_education==1 & x4_marriage==1 & age_buckets==1': (57,\n",
       "  [0.23027889234827842, 0.17921592679431536],\n",
       "  [False, False]),\n",
       " 'x3_education==1 & x4_marriage==1 & age_buckets==2': (519,\n",
       "  [0.2562148156603124, 0.21975127188768345],\n",
       "  [False, False]),\n",
       " 'x3_education==1 & x4_marriage==2 & age_buckets==1': (1013,\n",
       "  [0.14314582966581518, 0.130261333474995],\n",
       "  [False, False]),\n",
       " 'x3_education==1 & x4_marriage==2 & age_buckets==2': (815,\n",
       "  [0.23003308760584268, 0.10372451340312808],\n",
       "  [False, False]),\n",
       " 'x3_education==3 & x4_marriage==2 & age_buckets==2': (189,\n",
       "  [0.19617406047906044, 0.022345890283671288],\n",
       "  [False, True]),\n",
       " 'x3_education==2 & x4_marriage==2 & age_buckets==2': (671,\n",
       "  [0.1465988604488875, 0.04134425593240357],\n",
       "  [False, True])}"
      ]
     },
     "execution_count": 26,
     "metadata": {},
     "output_type": "execute_result"
    }
   ],
   "source": [
    "violations"
   ]
  }
 ],
 "metadata": {
  "kernelspec": {
   "display_name": "Python 3 (ipykernel)",
   "language": "python",
   "name": "python3"
  },
  "language_info": {
   "codemirror_mode": {
    "name": "ipython",
    "version": 3
   },
   "file_extension": ".py",
   "mimetype": "text/x-python",
   "name": "python",
   "nbconvert_exporter": "python",
   "pygments_lexer": "ipython3",
   "version": "3.10.9"
  }
 },
 "nbformat": 4,
 "nbformat_minor": 5
}
